{
 "cells": [
  {
   "cell_type": "code",
   "execution_count": 1,
   "metadata": {
    "execution": {
     "iopub.execute_input": "2024-12-01T13:13:57.345782Z",
     "iopub.status.busy": "2024-12-01T13:13:57.345491Z",
     "iopub.status.idle": "2024-12-01T13:13:59.060108Z",
     "shell.execute_reply": "2024-12-01T13:13:59.059300Z"
    }
   },
   "outputs": [],
   "source": [
    "import dask.diagnostics\n",
    "import faceted\n",
    "import numpy as np\n",
    "import xarray as xr\n",
    "\n",
    "from upath import UPath\n",
    "\n",
    "import plotting\n",
    "import utils"
   ]
  },
  {
   "cell_type": "code",
   "execution_count": 2,
   "metadata": {
    "execution": {
     "iopub.execute_input": "2024-12-01T13:13:59.063308Z",
     "iopub.status.busy": "2024-12-01T13:13:59.063007Z",
     "iopub.status.idle": "2024-12-01T13:13:59.066936Z",
     "shell.execute_reply": "2024-12-01T13:13:59.066224Z"
    }
   },
   "outputs": [],
   "source": [
    "plotting.configure_style()"
   ]
  },
  {
   "cell_type": "code",
   "execution_count": 3,
   "metadata": {
    "execution": {
     "iopub.execute_input": "2024-12-01T13:13:59.069796Z",
     "iopub.status.busy": "2024-12-01T13:13:59.069299Z",
     "iopub.status.idle": "2024-12-01T13:13:59.074248Z",
     "shell.execute_reply": "2024-12-01T13:13:59.073599Z"
    }
   },
   "outputs": [],
   "source": [
    "REFERENCE_ROOT = UPath(\n",
    "    \"gs://vcm-ml-raw-flexible-retention/2024-07-03-C96-SHiELD-SOM/regridded-zarrs/gaussian_grid_180_by_360/radiation-multi-call\"\n",
    ")\n",
    "BASELINE_ROOT = UPath(\n",
    "    \"gs://vcm-ml-raw-flexible-retention/2024-11-11-C24-SHiELD-SOM-tuned-cdmbgwd/regridded-zarrs/gaussian_grid_45_by_90/radiation-multi-call\"\n",
    ")"
   ]
  },
  {
   "cell_type": "code",
   "execution_count": 4,
   "metadata": {
    "execution": {
     "iopub.execute_input": "2024-12-01T13:13:59.076820Z",
     "iopub.status.busy": "2024-12-01T13:13:59.076550Z",
     "iopub.status.idle": "2024-12-01T13:13:59.080751Z",
     "shell.execute_reply": "2024-12-01T13:13:59.080024Z"
    }
   },
   "outputs": [],
   "source": [
    "FACTORS = [0.5, 1.5, 2.0, 2.5, 3.0, 3.5, 4.0, 8.0, 1.0]\n",
    "FLUXES = [\"DLWRFsfc\", \"ULWRFsfc\", \"DSWRFsfc\", \"USWRFsfc\", \"ULWRFtoa\", \"USWRFtoa\"]"
   ]
  },
  {
   "cell_type": "code",
   "execution_count": 5,
   "metadata": {
    "execution": {
     "iopub.execute_input": "2024-12-01T13:13:59.083732Z",
     "iopub.status.busy": "2024-12-01T13:13:59.083046Z",
     "iopub.status.idle": "2024-12-01T13:13:59.093070Z",
     "shell.execute_reply": "2024-12-01T13:13:59.092296Z"
    }
   },
   "outputs": [],
   "source": [
    "def unpack_multi_call_diagnostics(ds, factors):\n",
    "    datasets = {}\n",
    "    for index, factor in enumerate(factors, start=1):\n",
    "        fluxes_for_factor = []\n",
    "        for flux in FLUXES:\n",
    "            name = f\"{flux}_with_scaled_co2_{index}\"\n",
    "            fluxes_for_factor.append(ds[name].rename(flux))\n",
    "        datasets[factor] = xr.merge(fluxes_for_factor)\n",
    "    return utils.dict_to_dataset(datasets, dim=\"factor\").sortby(\"factor\")\n",
    "\n",
    "\n",
    "def open_multi_call_diagnostics(root, factors):\n",
    "    multi_call = xr.open_zarr(root / \"radiation_multi_call_diagnostics.zarr\")\n",
    "    base = xr.open_zarr(root / \"fluxes_2d.zarr\")\n",
    "\n",
    "    base_as_multi_call = []\n",
    "    for flux in FLUXES:\n",
    "        renamed = base[flux].rename(f\"{flux}_with_scaled_co2_{len(factors)}\")\n",
    "        base_as_multi_call.append(renamed)\n",
    "    base_as_multi_call = xr.merge(base_as_multi_call)\n",
    "    ds = xr.merge([multi_call, base_as_multi_call])\n",
    "    ds = unpack_multi_call_diagnostics(ds, factors)\n",
    "    time_mean = ds.isel(time=slice(1460, None)).mean(\"time\")\n",
    "    return time_mean.weighted(np.cos(np.deg2rad(time_mean.grid_yt))).mean(\n",
    "        [\"grid_xt\", \"grid_yt\"]\n",
    "    )\n",
    "\n",
    "\n",
    "def open_multi_call_ace_diagnostics(beaker_dataset_id, factors):\n",
    "    time_mean = utils.open_beaker_dataset(beaker_dataset_id, \"time_mean_diagnostics.nc\")\n",
    "    base_as_multi_call = []\n",
    "    for flux in FLUXES:\n",
    "        renamed = time_mean[f\"gen_map-{flux}\"].rename(f\"gen_map-{flux}_1.00xCO2\")\n",
    "        base_as_multi_call.append(renamed)\n",
    "\n",
    "    base_as_multi_call = xr.merge(base_as_multi_call)\n",
    "    time_mean = time_mean.merge(base_as_multi_call)\n",
    "\n",
    "    datasets = {}\n",
    "    for factor in factors:\n",
    "        fluxes_for_factor = []\n",
    "        for flux in FLUXES:\n",
    "            name = f\"gen_map-{flux}_{factor:0.2f}xCO2\"\n",
    "            fluxes_for_factor.append(time_mean[name].rename(flux))\n",
    "        datasets[factor] = xr.merge(fluxes_for_factor)\n",
    "    result = utils.dict_to_dataset(datasets, dim=\"factor\").sortby(\"factor\")\n",
    "    return result.weighted(np.cos(np.deg2rad(time_mean.lat))).mean([\"lon\", \"lat\"])"
   ]
  },
  {
   "cell_type": "code",
   "execution_count": 6,
   "metadata": {
    "execution": {
     "iopub.execute_input": "2024-12-01T13:13:59.095892Z",
     "iopub.status.busy": "2024-12-01T13:13:59.095392Z",
     "iopub.status.idle": "2024-12-01T13:14:34.875616Z",
     "shell.execute_reply": "2024-12-01T13:14:34.874584Z"
    }
   },
   "outputs": [
    {
     "data": {
      "application/vnd.jupyter.widget-view+json": {
       "model_id": "aa66054dc8ed4ceb8eff768cdc048033",
       "version_major": 2,
       "version_minor": 0
      },
      "text/plain": [
       "Output()"
      ]
     },
     "metadata": {},
     "output_type": "display_data"
    },
    {
     "data": {
      "text/html": [
       "<pre style=\"white-space:pre;overflow-x:auto;line-height:normal;font-family:Menlo,'DejaVu Sans Mono',consolas,'Courier New',monospace\"></pre>\n"
      ],
      "text/plain": []
     },
     "metadata": {},
     "output_type": "display_data"
    },
    {
     "data": {
      "application/vnd.jupyter.widget-view+json": {
       "model_id": "8108bcb1c75b4c4e9af7b399e5705945",
       "version_major": 2,
       "version_minor": 0
      },
      "text/plain": [
       "Output()"
      ]
     },
     "metadata": {},
     "output_type": "display_data"
    },
    {
     "data": {
      "text/html": [
       "<pre style=\"white-space:pre;overflow-x:auto;line-height:normal;font-family:Menlo,'DejaVu Sans Mono',consolas,'Courier New',monospace\"></pre>\n"
      ],
      "text/plain": []
     },
     "metadata": {},
     "output_type": "display_data"
    },
    {
     "data": {
      "application/vnd.jupyter.widget-view+json": {
       "model_id": "13868f54d04e430fa529fcdb943e538c",
       "version_major": 2,
       "version_minor": 0
      },
      "text/plain": [
       "Output()"
      ]
     },
     "metadata": {},
     "output_type": "display_data"
    },
    {
     "data": {
      "text/html": [
       "<pre style=\"white-space:pre;overflow-x:auto;line-height:normal;font-family:Menlo,'DejaVu Sans Mono',consolas,'Courier New',monospace\"></pre>\n"
      ],
      "text/plain": []
     },
     "metadata": {},
     "output_type": "display_data"
    },
    {
     "data": {
      "application/vnd.jupyter.widget-view+json": {
       "model_id": "741fcf132dde4c2fbc004960e30c4b8d",
       "version_major": 2,
       "version_minor": 0
      },
      "text/plain": [
       "Output()"
      ]
     },
     "metadata": {},
     "output_type": "display_data"
    },
    {
     "data": {
      "text/html": [
       "<pre style=\"white-space:pre;overflow-x:auto;line-height:normal;font-family:Menlo,'DejaVu Sans Mono',consolas,'Courier New',monospace\"></pre>\n"
      ],
      "text/plain": []
     },
     "metadata": {},
     "output_type": "display_data"
    },
    {
     "data": {
      "application/vnd.jupyter.widget-view+json": {
       "model_id": "e027b6cc98a54cbf98f436feba68cdfb",
       "version_major": 2,
       "version_minor": 0
      },
      "text/plain": [
       "Output()"
      ]
     },
     "metadata": {},
     "output_type": "display_data"
    },
    {
     "data": {
      "text/html": [
       "<pre style=\"white-space:pre;overflow-x:auto;line-height:normal;font-family:Menlo,'DejaVu Sans Mono',consolas,'Courier New',monospace\"></pre>\n"
      ],
      "text/plain": []
     },
     "metadata": {},
     "output_type": "display_data"
    },
    {
     "data": {
      "application/vnd.jupyter.widget-view+json": {
       "model_id": "8e95092a921249b193785291848ef50a",
       "version_major": 2,
       "version_minor": 0
      },
      "text/plain": [
       "Output()"
      ]
     },
     "metadata": {},
     "output_type": "display_data"
    },
    {
     "data": {
      "text/html": [
       "<pre style=\"white-space:pre;overflow-x:auto;line-height:normal;font-family:Menlo,'DejaVu Sans Mono',consolas,'Courier New',monospace\"></pre>\n"
      ],
      "text/plain": []
     },
     "metadata": {},
     "output_type": "display_data"
    },
    {
     "data": {
      "application/vnd.jupyter.widget-view+json": {
       "model_id": "b2370ee6bd5840168b2cb2b9db75c34a",
       "version_major": 2,
       "version_minor": 0
      },
      "text/plain": [
       "Output()"
      ]
     },
     "metadata": {},
     "output_type": "display_data"
    },
    {
     "data": {
      "text/html": [
       "<pre style=\"white-space:pre;overflow-x:auto;line-height:normal;font-family:Menlo,'DejaVu Sans Mono',consolas,'Courier New',monospace\"></pre>\n"
      ],
      "text/plain": []
     },
     "metadata": {},
     "output_type": "display_data"
    },
    {
     "data": {
      "application/vnd.jupyter.widget-view+json": {
       "model_id": "26d8dd0eddbb4a02bb233f642459be56",
       "version_major": 2,
       "version_minor": 0
      },
      "text/plain": [
       "Output()"
      ]
     },
     "metadata": {},
     "output_type": "display_data"
    },
    {
     "data": {
      "text/html": [
       "<pre style=\"white-space:pre;overflow-x:auto;line-height:normal;font-family:Menlo,'DejaVu Sans Mono',consolas,'Courier New',monospace\"></pre>\n"
      ],
      "text/plain": []
     },
     "metadata": {},
     "output_type": "display_data"
    }
   ],
   "source": [
    "REFERENCE = \"SHiELD-SOM-C96\"\n",
    "ACE2_SOM = \"ACE2-SOM-multi-climate-RS3\"\n",
    "BASELINE = \"SHiELD-SOM-C24-tuned-cdmbgwd\"\n",
    "\n",
    "catalog = utils.open_catalog()\n",
    "cases = catalog[catalog[\"forcing\"] == \"radiation-multi-calls\"]\n",
    "ace_datasets = {}\n",
    "for _, case in cases.iterrows():\n",
    "    model = case[\"model\"]\n",
    "    beaker_id = case[\"beaker_id\"]\n",
    "    ace_datasets[model] = open_multi_call_ace_diagnostics(beaker_id, FACTORS)\n",
    "ace_ds = utils.dict_to_dataset(ace_datasets, \"model\")\n",
    "\n",
    "reference = open_multi_call_diagnostics(REFERENCE_ROOT, FACTORS).assign_coords(\n",
    "    model=REFERENCE\n",
    ")\n",
    "baseline = open_multi_call_diagnostics(BASELINE_ROOT, FACTORS).assign_coords(\n",
    "    model=BASELINE\n",
    ")\n",
    "\n",
    "combined = xr.concat([reference, baseline, ace_ds], dim=\"model\")"
   ]
  },
  {
   "cell_type": "code",
   "execution_count": 7,
   "metadata": {
    "execution": {
     "iopub.execute_input": "2024-12-01T13:14:35.309893Z",
     "iopub.status.busy": "2024-12-01T13:14:35.309604Z",
     "iopub.status.idle": "2024-12-01T13:17:12.562226Z",
     "shell.execute_reply": "2024-12-01T13:17:12.560884Z"
    }
   },
   "outputs": [
    {
     "name": "stdout",
     "output_type": "stream",
     "text": [
      "\r",
      "[                                        ] | 0% Completed | 364.78 us"
     ]
    },
    {
     "name": "stdout",
     "output_type": "stream",
     "text": [
      "\r",
      "[                                        ] | 0% Completed | 113.28 ms"
     ]
    },
    {
     "name": "stdout",
     "output_type": "stream",
     "text": [
      "\r",
      "[                                        ] | 0% Completed | 214.62 ms"
     ]
    },
    {
     "name": "stdout",
     "output_type": "stream",
     "text": [
      "\r",
      "[                                        ] | 0% Completed | 316.55 ms"
     ]
    },
    {
     "name": "stdout",
     "output_type": "stream",
     "text": [
      "\r",
      "[                                        ] | 0% Completed | 418.14 ms"
     ]
    },
    {
     "name": "stdout",
     "output_type": "stream",
     "text": [
      "\r",
      "[                                        ] | 0% Completed | 519.90 ms"
     ]
    },
    {
     "name": "stdout",
     "output_type": "stream",
     "text": [
      "\r",
      "[                                        ] | 0% Completed | 621.70 ms"
     ]
    },
    {
     "name": "stdout",
     "output_type": "stream",
     "text": [
      "\r",
      "[                                        ] | 0% Completed | 723.47 ms"
     ]
    },
    {
     "name": "stdout",
     "output_type": "stream",
     "text": [
      "\r",
      "[                                        ] | 0% Completed | 825.43 ms"
     ]
    },
    {
     "name": "stdout",
     "output_type": "stream",
     "text": [
      "\r",
      "[                                        ] | 0% Completed | 926.93 ms"
     ]
    },
    {
     "name": "stdout",
     "output_type": "stream",
     "text": [
      "\r",
      "[                                        ] | 0% Completed | 1.03 s"
     ]
    },
    {
     "name": "stdout",
     "output_type": "stream",
     "text": [
      "\r",
      "[                                        ] | 0% Completed | 1.13 s"
     ]
    },
    {
     "name": "stdout",
     "output_type": "stream",
     "text": [
      "\r",
      "[                                        ] | 0% Completed | 1.23 s"
     ]
    },
    {
     "name": "stdout",
     "output_type": "stream",
     "text": [
      "\r",
      "[                                        ] | 0% Completed | 1.33 s"
     ]
    },
    {
     "name": "stdout",
     "output_type": "stream",
     "text": [
      "\r",
      "[                                        ] | 0% Completed | 1.44 s"
     ]
    },
    {
     "name": "stdout",
     "output_type": "stream",
     "text": [
      "\r",
      "[                                        ] | 0% Completed | 1.54 s"
     ]
    },
    {
     "name": "stdout",
     "output_type": "stream",
     "text": [
      "\r",
      "[                                        ] | 0% Completed | 1.64 s"
     ]
    },
    {
     "name": "stdout",
     "output_type": "stream",
     "text": [
      "\r",
      "[                                        ] | 0% Completed | 1.74 s"
     ]
    },
    {
     "name": "stdout",
     "output_type": "stream",
     "text": [
      "\r",
      "[                                        ] | 0% Completed | 1.84 s"
     ]
    },
    {
     "name": "stdout",
     "output_type": "stream",
     "text": [
      "\r",
      "[                                        ] | 0% Completed | 1.95 s"
     ]
    },
    {
     "name": "stdout",
     "output_type": "stream",
     "text": [
      "\r",
      "[                                        ] | 0% Completed | 2.05 s"
     ]
    },
    {
     "name": "stdout",
     "output_type": "stream",
     "text": [
      "\r",
      "[                                        ] | 0% Completed | 2.15 s"
     ]
    },
    {
     "name": "stdout",
     "output_type": "stream",
     "text": [
      "\r",
      "[                                        ] | 0% Completed | 2.26 s"
     ]
    },
    {
     "name": "stdout",
     "output_type": "stream",
     "text": [
      "\r",
      "[                                        ] | 0% Completed | 2.36 s"
     ]
    },
    {
     "name": "stdout",
     "output_type": "stream",
     "text": [
      "\r",
      "[                                        ] | 0% Completed | 2.46 s"
     ]
    },
    {
     "name": "stdout",
     "output_type": "stream",
     "text": [
      "\r",
      "[                                        ] | 0% Completed | 2.57 s"
     ]
    },
    {
     "name": "stdout",
     "output_type": "stream",
     "text": [
      "\r",
      "[                                        ] | 1% Completed | 2.67 s"
     ]
    },
    {
     "name": "stdout",
     "output_type": "stream",
     "text": [
      "\r",
      "[                                        ] | 1% Completed | 2.77 s"
     ]
    },
    {
     "name": "stdout",
     "output_type": "stream",
     "text": [
      "\r",
      "[                                        ] | 1% Completed | 2.87 s"
     ]
    },
    {
     "name": "stdout",
     "output_type": "stream",
     "text": [
      "\r",
      "[                                        ] | 1% Completed | 2.98 s"
     ]
    },
    {
     "name": "stdout",
     "output_type": "stream",
     "text": [
      "\r",
      "[                                        ] | 1% Completed | 3.08 s"
     ]
    },
    {
     "name": "stdout",
     "output_type": "stream",
     "text": [
      "\r",
      "[                                        ] | 1% Completed | 3.18 s"
     ]
    },
    {
     "name": "stdout",
     "output_type": "stream",
     "text": [
      "\r",
      "[                                        ] | 1% Completed | 3.29 s"
     ]
    },
    {
     "name": "stdout",
     "output_type": "stream",
     "text": [
      "\r",
      "[                                        ] | 1% Completed | 3.39 s"
     ]
    },
    {
     "name": "stdout",
     "output_type": "stream",
     "text": [
      "\r",
      "[                                        ] | 1% Completed | 3.49 s"
     ]
    },
    {
     "name": "stdout",
     "output_type": "stream",
     "text": [
      "\r",
      "[                                        ] | 1% Completed | 3.59 s"
     ]
    },
    {
     "name": "stdout",
     "output_type": "stream",
     "text": [
      "\r",
      "[                                        ] | 1% Completed | 3.69 s"
     ]
    },
    {
     "name": "stdout",
     "output_type": "stream",
     "text": [
      "\r",
      "[                                        ] | 1% Completed | 3.80 s"
     ]
    },
    {
     "name": "stdout",
     "output_type": "stream",
     "text": [
      "\r",
      "[                                        ] | 1% Completed | 3.90 s"
     ]
    },
    {
     "name": "stdout",
     "output_type": "stream",
     "text": [
      "\r",
      "[                                        ] | 1% Completed | 4.00 s"
     ]
    },
    {
     "name": "stdout",
     "output_type": "stream",
     "text": [
      "\r",
      "[                                        ] | 1% Completed | 4.10 s"
     ]
    },
    {
     "name": "stdout",
     "output_type": "stream",
     "text": [
      "\r",
      "[                                        ] | 1% Completed | 4.20 s"
     ]
    },
    {
     "name": "stdout",
     "output_type": "stream",
     "text": [
      "\r",
      "[                                        ] | 1% Completed | 4.31 s"
     ]
    },
    {
     "name": "stdout",
     "output_type": "stream",
     "text": [
      "\r",
      "[                                        ] | 1% Completed | 4.41 s"
     ]
    },
    {
     "name": "stdout",
     "output_type": "stream",
     "text": [
      "\r",
      "[                                        ] | 1% Completed | 4.51 s"
     ]
    },
    {
     "name": "stdout",
     "output_type": "stream",
     "text": [
      "\r",
      "[                                        ] | 1% Completed | 4.61 s"
     ]
    },
    {
     "name": "stdout",
     "output_type": "stream",
     "text": [
      "\r",
      "[                                        ] | 2% Completed | 4.72 s"
     ]
    },
    {
     "name": "stdout",
     "output_type": "stream",
     "text": [
      "\r",
      "[                                        ] | 2% Completed | 4.82 s"
     ]
    },
    {
     "name": "stdout",
     "output_type": "stream",
     "text": [
      "\r",
      "[                                        ] | 2% Completed | 4.92 s"
     ]
    },
    {
     "name": "stdout",
     "output_type": "stream",
     "text": [
      "\r",
      "[                                        ] | 2% Completed | 5.03 s"
     ]
    },
    {
     "name": "stdout",
     "output_type": "stream",
     "text": [
      "\r",
      "[                                        ] | 2% Completed | 5.13 s"
     ]
    },
    {
     "name": "stdout",
     "output_type": "stream",
     "text": [
      "\r",
      "[                                        ] | 2% Completed | 5.23 s"
     ]
    },
    {
     "name": "stdout",
     "output_type": "stream",
     "text": [
      "\r",
      "[                                        ] | 2% Completed | 5.33 s"
     ]
    },
    {
     "name": "stdout",
     "output_type": "stream",
     "text": [
      "\r",
      "[                                        ] | 2% Completed | 5.43 s"
     ]
    },
    {
     "name": "stdout",
     "output_type": "stream",
     "text": [
      "\r",
      "[#                                       ] | 2% Completed | 5.54 s"
     ]
    },
    {
     "name": "stdout",
     "output_type": "stream",
     "text": [
      "\r",
      "[#                                       ] | 2% Completed | 5.64 s"
     ]
    },
    {
     "name": "stdout",
     "output_type": "stream",
     "text": [
      "\r",
      "[#                                       ] | 2% Completed | 5.74 s"
     ]
    },
    {
     "name": "stdout",
     "output_type": "stream",
     "text": [
      "\r",
      "[#                                       ] | 2% Completed | 5.84 s"
     ]
    },
    {
     "name": "stdout",
     "output_type": "stream",
     "text": [
      "\r",
      "[#                                       ] | 2% Completed | 5.94 s"
     ]
    },
    {
     "name": "stdout",
     "output_type": "stream",
     "text": [
      "\r",
      "[#                                       ] | 2% Completed | 6.04 s"
     ]
    },
    {
     "name": "stdout",
     "output_type": "stream",
     "text": [
      "\r",
      "[#                                       ] | 2% Completed | 6.15 s"
     ]
    },
    {
     "name": "stdout",
     "output_type": "stream",
     "text": [
      "\r",
      "[#                                       ] | 3% Completed | 6.26 s"
     ]
    },
    {
     "name": "stdout",
     "output_type": "stream",
     "text": [
      "\r",
      "[#                                       ] | 3% Completed | 6.36 s"
     ]
    },
    {
     "name": "stdout",
     "output_type": "stream",
     "text": [
      "\r",
      "[#                                       ] | 3% Completed | 6.46 s"
     ]
    },
    {
     "name": "stdout",
     "output_type": "stream",
     "text": [
      "\r",
      "[#                                       ] | 3% Completed | 6.57 s"
     ]
    },
    {
     "name": "stdout",
     "output_type": "stream",
     "text": [
      "\r",
      "[#                                       ] | 3% Completed | 6.67 s"
     ]
    },
    {
     "name": "stdout",
     "output_type": "stream",
     "text": [
      "\r",
      "[#                                       ] | 3% Completed | 6.77 s"
     ]
    },
    {
     "name": "stdout",
     "output_type": "stream",
     "text": [
      "\r",
      "[#                                       ] | 3% Completed | 6.88 s"
     ]
    },
    {
     "name": "stdout",
     "output_type": "stream",
     "text": [
      "\r",
      "[#                                       ] | 3% Completed | 6.98 s"
     ]
    },
    {
     "name": "stdout",
     "output_type": "stream",
     "text": [
      "\r",
      "[#                                       ] | 3% Completed | 7.08 s"
     ]
    },
    {
     "name": "stdout",
     "output_type": "stream",
     "text": [
      "\r",
      "[#                                       ] | 3% Completed | 7.18 s"
     ]
    },
    {
     "name": "stdout",
     "output_type": "stream",
     "text": [
      "\r",
      "[#                                       ] | 3% Completed | 7.29 s"
     ]
    },
    {
     "name": "stdout",
     "output_type": "stream",
     "text": [
      "\r",
      "[#                                       ] | 3% Completed | 7.39 s"
     ]
    },
    {
     "name": "stdout",
     "output_type": "stream",
     "text": [
      "\r",
      "[#                                       ] | 3% Completed | 7.50 s"
     ]
    },
    {
     "name": "stdout",
     "output_type": "stream",
     "text": [
      "\r",
      "[#                                       ] | 3% Completed | 7.60 s"
     ]
    },
    {
     "name": "stdout",
     "output_type": "stream",
     "text": [
      "\r",
      "[#                                       ] | 3% Completed | 7.71 s"
     ]
    },
    {
     "name": "stdout",
     "output_type": "stream",
     "text": [
      "\r",
      "[#                                       ] | 3% Completed | 7.81 s"
     ]
    },
    {
     "name": "stdout",
     "output_type": "stream",
     "text": [
      "\r",
      "[#                                       ] | 3% Completed | 7.91 s"
     ]
    },
    {
     "name": "stdout",
     "output_type": "stream",
     "text": [
      "\r",
      "[#                                       ] | 3% Completed | 8.01 s"
     ]
    },
    {
     "name": "stdout",
     "output_type": "stream",
     "text": [
      "\r",
      "[#                                       ] | 3% Completed | 8.11 s"
     ]
    },
    {
     "name": "stdout",
     "output_type": "stream",
     "text": [
      "\r",
      "[#                                       ] | 4% Completed | 8.22 s"
     ]
    },
    {
     "name": "stdout",
     "output_type": "stream",
     "text": [
      "\r",
      "[#                                       ] | 4% Completed | 8.32 s"
     ]
    },
    {
     "name": "stdout",
     "output_type": "stream",
     "text": [
      "\r",
      "[#                                       ] | 4% Completed | 8.42 s"
     ]
    },
    {
     "name": "stdout",
     "output_type": "stream",
     "text": [
      "\r",
      "[#                                       ] | 4% Completed | 8.52 s"
     ]
    },
    {
     "name": "stdout",
     "output_type": "stream",
     "text": [
      "\r",
      "[#                                       ] | 4% Completed | 8.63 s"
     ]
    },
    {
     "name": "stdout",
     "output_type": "stream",
     "text": [
      "\r",
      "[#                                       ] | 4% Completed | 8.73 s"
     ]
    },
    {
     "name": "stdout",
     "output_type": "stream",
     "text": [
      "\r",
      "[#                                       ] | 4% Completed | 8.83 s"
     ]
    },
    {
     "name": "stdout",
     "output_type": "stream",
     "text": [
      "\r",
      "[#                                       ] | 4% Completed | 8.93 s"
     ]
    },
    {
     "name": "stdout",
     "output_type": "stream",
     "text": [
      "\r",
      "[#                                       ] | 4% Completed | 9.04 s"
     ]
    },
    {
     "name": "stdout",
     "output_type": "stream",
     "text": [
      "\r",
      "[#                                       ] | 4% Completed | 9.14 s"
     ]
    },
    {
     "name": "stdout",
     "output_type": "stream",
     "text": [
      "\r",
      "[#                                       ] | 4% Completed | 9.24 s"
     ]
    },
    {
     "name": "stdout",
     "output_type": "stream",
     "text": [
      "\r",
      "[#                                       ] | 4% Completed | 9.35 s"
     ]
    },
    {
     "name": "stdout",
     "output_type": "stream",
     "text": [
      "\r",
      "[#                                       ] | 4% Completed | 9.45 s"
     ]
    },
    {
     "name": "stdout",
     "output_type": "stream",
     "text": [
      "\r",
      "[#                                       ] | 4% Completed | 9.55 s"
     ]
    },
    {
     "name": "stdout",
     "output_type": "stream",
     "text": [
      "\r",
      "[#                                       ] | 4% Completed | 9.65 s"
     ]
    },
    {
     "name": "stdout",
     "output_type": "stream",
     "text": [
      "\r",
      "[#                                       ] | 4% Completed | 9.76 s"
     ]
    },
    {
     "name": "stdout",
     "output_type": "stream",
     "text": [
      "\r",
      "[##                                      ] | 5% Completed | 9.87 s"
     ]
    },
    {
     "name": "stdout",
     "output_type": "stream",
     "text": [
      "\r",
      "[##                                      ] | 5% Completed | 9.97 s"
     ]
    },
    {
     "name": "stdout",
     "output_type": "stream",
     "text": [
      "\r",
      "[##                                      ] | 5% Completed | 10.07 s"
     ]
    },
    {
     "name": "stdout",
     "output_type": "stream",
     "text": [
      "\r",
      "[##                                      ] | 5% Completed | 10.18 s"
     ]
    },
    {
     "name": "stdout",
     "output_type": "stream",
     "text": [
      "\r",
      "[##                                      ] | 5% Completed | 10.28 s"
     ]
    },
    {
     "name": "stdout",
     "output_type": "stream",
     "text": [
      "\r",
      "[##                                      ] | 5% Completed | 10.38 s"
     ]
    },
    {
     "name": "stdout",
     "output_type": "stream",
     "text": [
      "\r",
      "[##                                      ] | 5% Completed | 10.49 s"
     ]
    },
    {
     "name": "stdout",
     "output_type": "stream",
     "text": [
      "\r",
      "[##                                      ] | 5% Completed | 10.59 s"
     ]
    },
    {
     "name": "stdout",
     "output_type": "stream",
     "text": [
      "\r",
      "[##                                      ] | 5% Completed | 10.69 s"
     ]
    },
    {
     "name": "stdout",
     "output_type": "stream",
     "text": [
      "\r",
      "[##                                      ] | 5% Completed | 10.79 s"
     ]
    },
    {
     "name": "stdout",
     "output_type": "stream",
     "text": [
      "\r",
      "[##                                      ] | 5% Completed | 10.89 s"
     ]
    },
    {
     "name": "stdout",
     "output_type": "stream",
     "text": [
      "\r",
      "[##                                      ] | 5% Completed | 11.00 s"
     ]
    },
    {
     "name": "stdout",
     "output_type": "stream",
     "text": [
      "\r",
      "[##                                      ] | 5% Completed | 11.10 s"
     ]
    },
    {
     "name": "stdout",
     "output_type": "stream",
     "text": [
      "\r",
      "[##                                      ] | 5% Completed | 11.20 s"
     ]
    },
    {
     "name": "stdout",
     "output_type": "stream",
     "text": [
      "\r",
      "[##                                      ] | 5% Completed | 11.30 s"
     ]
    },
    {
     "name": "stdout",
     "output_type": "stream",
     "text": [
      "\r",
      "[##                                      ] | 5% Completed | 11.40 s"
     ]
    },
    {
     "name": "stdout",
     "output_type": "stream",
     "text": [
      "\r",
      "[##                                      ] | 5% Completed | 11.51 s"
     ]
    },
    {
     "name": "stdout",
     "output_type": "stream",
     "text": [
      "\r",
      "[##                                      ] | 5% Completed | 11.61 s"
     ]
    },
    {
     "name": "stdout",
     "output_type": "stream",
     "text": [
      "\r",
      "[##                                      ] | 6% Completed | 11.71 s"
     ]
    },
    {
     "name": "stdout",
     "output_type": "stream",
     "text": [
      "\r",
      "[##                                      ] | 6% Completed | 11.82 s"
     ]
    },
    {
     "name": "stdout",
     "output_type": "stream",
     "text": [
      "\r",
      "[##                                      ] | 6% Completed | 11.92 s"
     ]
    },
    {
     "name": "stdout",
     "output_type": "stream",
     "text": [
      "\r",
      "[##                                      ] | 6% Completed | 12.02 s"
     ]
    },
    {
     "name": "stdout",
     "output_type": "stream",
     "text": [
      "\r",
      "[##                                      ] | 6% Completed | 12.12 s"
     ]
    },
    {
     "name": "stdout",
     "output_type": "stream",
     "text": [
      "\r",
      "[##                                      ] | 6% Completed | 12.23 s"
     ]
    },
    {
     "name": "stdout",
     "output_type": "stream",
     "text": [
      "\r",
      "[##                                      ] | 6% Completed | 12.33 s"
     ]
    },
    {
     "name": "stdout",
     "output_type": "stream",
     "text": [
      "\r",
      "[##                                      ] | 6% Completed | 12.43 s"
     ]
    },
    {
     "name": "stdout",
     "output_type": "stream",
     "text": [
      "\r",
      "[##                                      ] | 6% Completed | 12.53 s"
     ]
    },
    {
     "name": "stdout",
     "output_type": "stream",
     "text": [
      "\r",
      "[##                                      ] | 6% Completed | 12.64 s"
     ]
    },
    {
     "name": "stdout",
     "output_type": "stream",
     "text": [
      "\r",
      "[##                                      ] | 6% Completed | 12.74 s"
     ]
    },
    {
     "name": "stdout",
     "output_type": "stream",
     "text": [
      "\r",
      "[##                                      ] | 6% Completed | 12.84 s"
     ]
    },
    {
     "name": "stdout",
     "output_type": "stream",
     "text": [
      "\r",
      "[##                                      ] | 6% Completed | 12.94 s"
     ]
    },
    {
     "name": "stdout",
     "output_type": "stream",
     "text": [
      "\r",
      "[##                                      ] | 6% Completed | 13.04 s"
     ]
    },
    {
     "name": "stdout",
     "output_type": "stream",
     "text": [
      "\r",
      "[##                                      ] | 6% Completed | 13.14 s"
     ]
    },
    {
     "name": "stdout",
     "output_type": "stream",
     "text": [
      "\r",
      "[##                                      ] | 6% Completed | 13.25 s"
     ]
    },
    {
     "name": "stdout",
     "output_type": "stream",
     "text": [
      "\r",
      "[##                                      ] | 7% Completed | 13.35 s"
     ]
    },
    {
     "name": "stdout",
     "output_type": "stream",
     "text": [
      "\r",
      "[##                                      ] | 7% Completed | 13.45 s"
     ]
    },
    {
     "name": "stdout",
     "output_type": "stream",
     "text": [
      "\r",
      "[##                                      ] | 7% Completed | 13.55 s"
     ]
    },
    {
     "name": "stdout",
     "output_type": "stream",
     "text": [
      "\r",
      "[##                                      ] | 7% Completed | 13.66 s"
     ]
    },
    {
     "name": "stdout",
     "output_type": "stream",
     "text": [
      "\r",
      "[##                                      ] | 7% Completed | 13.76 s"
     ]
    },
    {
     "name": "stdout",
     "output_type": "stream",
     "text": [
      "\r",
      "[##                                      ] | 7% Completed | 13.86 s"
     ]
    },
    {
     "name": "stdout",
     "output_type": "stream",
     "text": [
      "\r",
      "[##                                      ] | 7% Completed | 13.96 s"
     ]
    },
    {
     "name": "stdout",
     "output_type": "stream",
     "text": [
      "\r",
      "[##                                      ] | 7% Completed | 14.06 s"
     ]
    },
    {
     "name": "stdout",
     "output_type": "stream",
     "text": [
      "\r",
      "[##                                      ] | 7% Completed | 14.17 s"
     ]
    },
    {
     "name": "stdout",
     "output_type": "stream",
     "text": [
      "\r",
      "[##                                      ] | 7% Completed | 14.27 s"
     ]
    },
    {
     "name": "stdout",
     "output_type": "stream",
     "text": [
      "\r",
      "[##                                      ] | 7% Completed | 14.37 s"
     ]
    },
    {
     "name": "stdout",
     "output_type": "stream",
     "text": [
      "\r",
      "[##                                      ] | 7% Completed | 14.48 s"
     ]
    },
    {
     "name": "stdout",
     "output_type": "stream",
     "text": [
      "\r",
      "[###                                     ] | 7% Completed | 14.58 s"
     ]
    },
    {
     "name": "stdout",
     "output_type": "stream",
     "text": [
      "\r",
      "[###                                     ] | 7% Completed | 14.68 s"
     ]
    },
    {
     "name": "stdout",
     "output_type": "stream",
     "text": [
      "\r",
      "[###                                     ] | 7% Completed | 14.79 s"
     ]
    },
    {
     "name": "stdout",
     "output_type": "stream",
     "text": [
      "\r",
      "[###                                     ] | 7% Completed | 14.89 s"
     ]
    },
    {
     "name": "stdout",
     "output_type": "stream",
     "text": [
      "\r",
      "[###                                     ] | 7% Completed | 14.99 s"
     ]
    },
    {
     "name": "stdout",
     "output_type": "stream",
     "text": [
      "\r",
      "[###                                     ] | 7% Completed | 15.10 s"
     ]
    },
    {
     "name": "stdout",
     "output_type": "stream",
     "text": [
      "\r",
      "[###                                     ] | 7% Completed | 15.20 s"
     ]
    },
    {
     "name": "stdout",
     "output_type": "stream",
     "text": [
      "\r",
      "[###                                     ] | 8% Completed | 15.30 s"
     ]
    },
    {
     "name": "stdout",
     "output_type": "stream",
     "text": [
      "\r",
      "[###                                     ] | 8% Completed | 15.40 s"
     ]
    },
    {
     "name": "stdout",
     "output_type": "stream",
     "text": [
      "\r",
      "[###                                     ] | 8% Completed | 15.50 s"
     ]
    },
    {
     "name": "stdout",
     "output_type": "stream",
     "text": [
      "\r",
      "[###                                     ] | 8% Completed | 15.61 s"
     ]
    },
    {
     "name": "stdout",
     "output_type": "stream",
     "text": [
      "\r",
      "[###                                     ] | 8% Completed | 15.71 s"
     ]
    },
    {
     "name": "stdout",
     "output_type": "stream",
     "text": [
      "\r",
      "[###                                     ] | 8% Completed | 15.81 s"
     ]
    },
    {
     "name": "stdout",
     "output_type": "stream",
     "text": [
      "\r",
      "[###                                     ] | 8% Completed | 15.91 s"
     ]
    },
    {
     "name": "stdout",
     "output_type": "stream",
     "text": [
      "\r",
      "[###                                     ] | 8% Completed | 16.02 s"
     ]
    },
    {
     "name": "stdout",
     "output_type": "stream",
     "text": [
      "\r",
      "[###                                     ] | 8% Completed | 16.12 s"
     ]
    },
    {
     "name": "stdout",
     "output_type": "stream",
     "text": [
      "\r",
      "[###                                     ] | 8% Completed | 16.22 s"
     ]
    },
    {
     "name": "stdout",
     "output_type": "stream",
     "text": [
      "\r",
      "[###                                     ] | 8% Completed | 16.32 s"
     ]
    },
    {
     "name": "stdout",
     "output_type": "stream",
     "text": [
      "\r",
      "[###                                     ] | 8% Completed | 16.43 s"
     ]
    },
    {
     "name": "stdout",
     "output_type": "stream",
     "text": [
      "\r",
      "[###                                     ] | 8% Completed | 16.53 s"
     ]
    },
    {
     "name": "stdout",
     "output_type": "stream",
     "text": [
      "\r",
      "[###                                     ] | 8% Completed | 16.63 s"
     ]
    },
    {
     "name": "stdout",
     "output_type": "stream",
     "text": [
      "\r",
      "[###                                     ] | 8% Completed | 16.73 s"
     ]
    },
    {
     "name": "stdout",
     "output_type": "stream",
     "text": [
      "\r",
      "[###                                     ] | 8% Completed | 16.84 s"
     ]
    },
    {
     "name": "stdout",
     "output_type": "stream",
     "text": [
      "\r",
      "[###                                     ] | 8% Completed | 16.94 s"
     ]
    },
    {
     "name": "stdout",
     "output_type": "stream",
     "text": [
      "\r",
      "[###                                     ] | 8% Completed | 17.04 s"
     ]
    },
    {
     "name": "stdout",
     "output_type": "stream",
     "text": [
      "\r",
      "[###                                     ] | 9% Completed | 17.14 s"
     ]
    },
    {
     "name": "stdout",
     "output_type": "stream",
     "text": [
      "\r",
      "[###                                     ] | 9% Completed | 17.25 s"
     ]
    },
    {
     "name": "stdout",
     "output_type": "stream",
     "text": [
      "\r",
      "[###                                     ] | 9% Completed | 17.35 s"
     ]
    },
    {
     "name": "stdout",
     "output_type": "stream",
     "text": [
      "\r",
      "[###                                     ] | 9% Completed | 17.45 s"
     ]
    },
    {
     "name": "stdout",
     "output_type": "stream",
     "text": [
      "\r",
      "[###                                     ] | 9% Completed | 17.55 s"
     ]
    },
    {
     "name": "stdout",
     "output_type": "stream",
     "text": [
      "\r",
      "[###                                     ] | 9% Completed | 17.66 s"
     ]
    },
    {
     "name": "stdout",
     "output_type": "stream",
     "text": [
      "\r",
      "[###                                     ] | 9% Completed | 17.76 s"
     ]
    },
    {
     "name": "stdout",
     "output_type": "stream",
     "text": [
      "\r",
      "[###                                     ] | 9% Completed | 17.86 s"
     ]
    },
    {
     "name": "stdout",
     "output_type": "stream",
     "text": [
      "\r",
      "[###                                     ] | 9% Completed | 17.96 s"
     ]
    },
    {
     "name": "stdout",
     "output_type": "stream",
     "text": [
      "\r",
      "[###                                     ] | 9% Completed | 18.06 s"
     ]
    },
    {
     "name": "stdout",
     "output_type": "stream",
     "text": [
      "\r",
      "[###                                     ] | 9% Completed | 18.17 s"
     ]
    },
    {
     "name": "stdout",
     "output_type": "stream",
     "text": [
      "\r",
      "[###                                     ] | 9% Completed | 18.27 s"
     ]
    },
    {
     "name": "stdout",
     "output_type": "stream",
     "text": [
      "\r",
      "[###                                     ] | 9% Completed | 18.37 s"
     ]
    },
    {
     "name": "stdout",
     "output_type": "stream",
     "text": [
      "\r",
      "[###                                     ] | 9% Completed | 18.47 s"
     ]
    },
    {
     "name": "stdout",
     "output_type": "stream",
     "text": [
      "\r",
      "[###                                     ] | 9% Completed | 18.57 s"
     ]
    },
    {
     "name": "stdout",
     "output_type": "stream",
     "text": [
      "\r",
      "[###                                     ] | 9% Completed | 18.68 s"
     ]
    },
    {
     "name": "stdout",
     "output_type": "stream",
     "text": [
      "\r",
      "[####                                    ] | 10% Completed | 18.78 s"
     ]
    },
    {
     "name": "stdout",
     "output_type": "stream",
     "text": [
      "\r",
      "[####                                    ] | 10% Completed | 18.88 s"
     ]
    },
    {
     "name": "stdout",
     "output_type": "stream",
     "text": [
      "\r",
      "[####                                    ] | 10% Completed | 18.98 s"
     ]
    },
    {
     "name": "stdout",
     "output_type": "stream",
     "text": [
      "\r",
      "[####                                    ] | 10% Completed | 19.08 s"
     ]
    },
    {
     "name": "stdout",
     "output_type": "stream",
     "text": [
      "\r",
      "[####                                    ] | 10% Completed | 19.19 s"
     ]
    },
    {
     "name": "stdout",
     "output_type": "stream",
     "text": [
      "\r",
      "[####                                    ] | 10% Completed | 19.29 s"
     ]
    },
    {
     "name": "stdout",
     "output_type": "stream",
     "text": [
      "\r",
      "[####                                    ] | 10% Completed | 19.39 s"
     ]
    },
    {
     "name": "stdout",
     "output_type": "stream",
     "text": [
      "\r",
      "[####                                    ] | 10% Completed | 19.50 s"
     ]
    },
    {
     "name": "stdout",
     "output_type": "stream",
     "text": [
      "\r",
      "[####                                    ] | 10% Completed | 19.60 s"
     ]
    },
    {
     "name": "stdout",
     "output_type": "stream",
     "text": [
      "\r",
      "[####                                    ] | 10% Completed | 19.70 s"
     ]
    },
    {
     "name": "stdout",
     "output_type": "stream",
     "text": [
      "\r",
      "[####                                    ] | 10% Completed | 19.80 s"
     ]
    },
    {
     "name": "stdout",
     "output_type": "stream",
     "text": [
      "\r",
      "[####                                    ] | 10% Completed | 19.91 s"
     ]
    },
    {
     "name": "stdout",
     "output_type": "stream",
     "text": [
      "\r",
      "[####                                    ] | 10% Completed | 20.01 s"
     ]
    },
    {
     "name": "stdout",
     "output_type": "stream",
     "text": [
      "\r",
      "[####                                    ] | 10% Completed | 20.11 s"
     ]
    },
    {
     "name": "stdout",
     "output_type": "stream",
     "text": [
      "\r",
      "[####                                    ] | 10% Completed | 20.21 s"
     ]
    },
    {
     "name": "stdout",
     "output_type": "stream",
     "text": [
      "\r",
      "[####                                    ] | 10% Completed | 20.31 s"
     ]
    },
    {
     "name": "stdout",
     "output_type": "stream",
     "text": [
      "\r",
      "[####                                    ] | 10% Completed | 20.42 s"
     ]
    },
    {
     "name": "stdout",
     "output_type": "stream",
     "text": [
      "\r",
      "[####                                    ] | 10% Completed | 20.52 s"
     ]
    },
    {
     "name": "stdout",
     "output_type": "stream",
     "text": [
      "\r",
      "[####                                    ] | 10% Completed | 20.62 s"
     ]
    },
    {
     "name": "stdout",
     "output_type": "stream",
     "text": [
      "\r",
      "[####                                    ] | 10% Completed | 20.72 s"
     ]
    },
    {
     "name": "stdout",
     "output_type": "stream",
     "text": [
      "\r",
      "[####                                    ] | 11% Completed | 20.82 s"
     ]
    },
    {
     "name": "stdout",
     "output_type": "stream",
     "text": [
      "\r",
      "[####                                    ] | 11% Completed | 20.93 s"
     ]
    },
    {
     "name": "stdout",
     "output_type": "stream",
     "text": [
      "\r",
      "[####                                    ] | 11% Completed | 21.03 s"
     ]
    },
    {
     "name": "stdout",
     "output_type": "stream",
     "text": [
      "\r",
      "[####                                    ] | 11% Completed | 21.13 s"
     ]
    },
    {
     "name": "stdout",
     "output_type": "stream",
     "text": [
      "\r",
      "[####                                    ] | 11% Completed | 21.23 s"
     ]
    },
    {
     "name": "stdout",
     "output_type": "stream",
     "text": [
      "\r",
      "[####                                    ] | 11% Completed | 21.33 s"
     ]
    },
    {
     "name": "stdout",
     "output_type": "stream",
     "text": [
      "\r",
      "[####                                    ] | 11% Completed | 21.44 s"
     ]
    },
    {
     "name": "stdout",
     "output_type": "stream",
     "text": [
      "\r",
      "[####                                    ] | 11% Completed | 21.54 s"
     ]
    },
    {
     "name": "stdout",
     "output_type": "stream",
     "text": [
      "\r",
      "[####                                    ] | 11% Completed | 21.64 s"
     ]
    },
    {
     "name": "stdout",
     "output_type": "stream",
     "text": [
      "\r",
      "[####                                    ] | 11% Completed | 21.75 s"
     ]
    },
    {
     "name": "stdout",
     "output_type": "stream",
     "text": [
      "\r",
      "[####                                    ] | 11% Completed | 21.85 s"
     ]
    },
    {
     "name": "stdout",
     "output_type": "stream",
     "text": [
      "\r",
      "[####                                    ] | 11% Completed | 21.95 s"
     ]
    },
    {
     "name": "stdout",
     "output_type": "stream",
     "text": [
      "\r",
      "[####                                    ] | 11% Completed | 22.05 s"
     ]
    },
    {
     "name": "stdout",
     "output_type": "stream",
     "text": [
      "\r",
      "[####                                    ] | 11% Completed | 22.16 s"
     ]
    },
    {
     "name": "stdout",
     "output_type": "stream",
     "text": [
      "\r",
      "[####                                    ] | 11% Completed | 22.26 s"
     ]
    },
    {
     "name": "stdout",
     "output_type": "stream",
     "text": [
      "\r",
      "[####                                    ] | 11% Completed | 22.36 s"
     ]
    },
    {
     "name": "stdout",
     "output_type": "stream",
     "text": [
      "\r",
      "[####                                    ] | 11% Completed | 22.46 s"
     ]
    },
    {
     "name": "stdout",
     "output_type": "stream",
     "text": [
      "\r",
      "[####                                    ] | 11% Completed | 22.57 s"
     ]
    },
    {
     "name": "stdout",
     "output_type": "stream",
     "text": [
      "\r",
      "[####                                    ] | 11% Completed | 22.67 s"
     ]
    },
    {
     "name": "stdout",
     "output_type": "stream",
     "text": [
      "\r",
      "[####                                    ] | 12% Completed | 22.77 s"
     ]
    },
    {
     "name": "stdout",
     "output_type": "stream",
     "text": [
      "\r",
      "[####                                    ] | 12% Completed | 22.87 s"
     ]
    },
    {
     "name": "stdout",
     "output_type": "stream",
     "text": [
      "\r",
      "[####                                    ] | 12% Completed | 22.97 s"
     ]
    },
    {
     "name": "stdout",
     "output_type": "stream",
     "text": [
      "\r",
      "[####                                    ] | 12% Completed | 23.08 s"
     ]
    },
    {
     "name": "stdout",
     "output_type": "stream",
     "text": [
      "\r",
      "[####                                    ] | 12% Completed | 23.18 s"
     ]
    },
    {
     "name": "stdout",
     "output_type": "stream",
     "text": [
      "\r",
      "[####                                    ] | 12% Completed | 23.28 s"
     ]
    },
    {
     "name": "stdout",
     "output_type": "stream",
     "text": [
      "\r",
      "[####                                    ] | 12% Completed | 23.38 s"
     ]
    },
    {
     "name": "stdout",
     "output_type": "stream",
     "text": [
      "\r",
      "[#####                                   ] | 12% Completed | 23.49 s"
     ]
    },
    {
     "name": "stdout",
     "output_type": "stream",
     "text": [
      "\r",
      "[#####                                   ] | 12% Completed | 23.59 s"
     ]
    },
    {
     "name": "stdout",
     "output_type": "stream",
     "text": [
      "\r",
      "[#####                                   ] | 12% Completed | 23.69 s"
     ]
    },
    {
     "name": "stdout",
     "output_type": "stream",
     "text": [
      "\r",
      "[#####                                   ] | 12% Completed | 23.79 s"
     ]
    },
    {
     "name": "stdout",
     "output_type": "stream",
     "text": [
      "\r",
      "[#####                                   ] | 12% Completed | 23.89 s"
     ]
    },
    {
     "name": "stdout",
     "output_type": "stream",
     "text": [
      "\r",
      "[#####                                   ] | 12% Completed | 24.00 s"
     ]
    },
    {
     "name": "stdout",
     "output_type": "stream",
     "text": [
      "\r",
      "[#####                                   ] | 12% Completed | 24.10 s"
     ]
    },
    {
     "name": "stdout",
     "output_type": "stream",
     "text": [
      "\r",
      "[#####                                   ] | 12% Completed | 24.20 s"
     ]
    },
    {
     "name": "stdout",
     "output_type": "stream",
     "text": [
      "\r",
      "[#####                                   ] | 12% Completed | 24.30 s"
     ]
    },
    {
     "name": "stdout",
     "output_type": "stream",
     "text": [
      "\r",
      "[#####                                   ] | 12% Completed | 24.40 s"
     ]
    },
    {
     "name": "stdout",
     "output_type": "stream",
     "text": [
      "\r",
      "[#####                                   ] | 12% Completed | 24.51 s"
     ]
    },
    {
     "name": "stdout",
     "output_type": "stream",
     "text": [
      "\r",
      "[#####                                   ] | 12% Completed | 24.61 s"
     ]
    },
    {
     "name": "stdout",
     "output_type": "stream",
     "text": [
      "\r",
      "[#####                                   ] | 12% Completed | 24.71 s"
     ]
    },
    {
     "name": "stdout",
     "output_type": "stream",
     "text": [
      "\r",
      "[#####                                   ] | 12% Completed | 24.81 s"
     ]
    },
    {
     "name": "stdout",
     "output_type": "stream",
     "text": [
      "\r",
      "[#####                                   ] | 13% Completed | 24.92 s"
     ]
    },
    {
     "name": "stdout",
     "output_type": "stream",
     "text": [
      "\r",
      "[#####                                   ] | 13% Completed | 25.02 s"
     ]
    },
    {
     "name": "stdout",
     "output_type": "stream",
     "text": [
      "\r",
      "[#####                                   ] | 13% Completed | 25.13 s"
     ]
    },
    {
     "name": "stdout",
     "output_type": "stream",
     "text": [
      "\r",
      "[#####                                   ] | 13% Completed | 25.23 s"
     ]
    },
    {
     "name": "stdout",
     "output_type": "stream",
     "text": [
      "\r",
      "[#####                                   ] | 13% Completed | 25.33 s"
     ]
    },
    {
     "name": "stdout",
     "output_type": "stream",
     "text": [
      "\r",
      "[#####                                   ] | 13% Completed | 25.44 s"
     ]
    },
    {
     "name": "stdout",
     "output_type": "stream",
     "text": [
      "\r",
      "[#####                                   ] | 13% Completed | 25.54 s"
     ]
    },
    {
     "name": "stdout",
     "output_type": "stream",
     "text": [
      "\r",
      "[#####                                   ] | 13% Completed | 25.64 s"
     ]
    },
    {
     "name": "stdout",
     "output_type": "stream",
     "text": [
      "\r",
      "[#####                                   ] | 13% Completed | 25.75 s"
     ]
    },
    {
     "name": "stdout",
     "output_type": "stream",
     "text": [
      "\r",
      "[#####                                   ] | 13% Completed | 25.85 s"
     ]
    },
    {
     "name": "stdout",
     "output_type": "stream",
     "text": [
      "\r",
      "[#####                                   ] | 13% Completed | 25.95 s"
     ]
    },
    {
     "name": "stdout",
     "output_type": "stream",
     "text": [
      "\r",
      "[#####                                   ] | 13% Completed | 26.05 s"
     ]
    },
    {
     "name": "stdout",
     "output_type": "stream",
     "text": [
      "\r",
      "[#####                                   ] | 13% Completed | 26.16 s"
     ]
    },
    {
     "name": "stdout",
     "output_type": "stream",
     "text": [
      "\r",
      "[#####                                   ] | 13% Completed | 26.26 s"
     ]
    },
    {
     "name": "stdout",
     "output_type": "stream",
     "text": [
      "\r",
      "[#####                                   ] | 13% Completed | 26.36 s"
     ]
    },
    {
     "name": "stdout",
     "output_type": "stream",
     "text": [
      "\r",
      "[#####                                   ] | 13% Completed | 26.46 s"
     ]
    },
    {
     "name": "stdout",
     "output_type": "stream",
     "text": [
      "\r",
      "[#####                                   ] | 13% Completed | 26.57 s"
     ]
    },
    {
     "name": "stdout",
     "output_type": "stream",
     "text": [
      "\r",
      "[#####                                   ] | 14% Completed | 26.67 s"
     ]
    },
    {
     "name": "stdout",
     "output_type": "stream",
     "text": [
      "\r",
      "[#####                                   ] | 14% Completed | 26.77 s"
     ]
    },
    {
     "name": "stdout",
     "output_type": "stream",
     "text": [
      "\r",
      "[#####                                   ] | 14% Completed | 26.87 s"
     ]
    },
    {
     "name": "stdout",
     "output_type": "stream",
     "text": [
      "\r",
      "[#####                                   ] | 14% Completed | 26.98 s"
     ]
    },
    {
     "name": "stdout",
     "output_type": "stream",
     "text": [
      "\r",
      "[#####                                   ] | 14% Completed | 27.08 s"
     ]
    },
    {
     "name": "stdout",
     "output_type": "stream",
     "text": [
      "\r",
      "[#####                                   ] | 14% Completed | 27.18 s"
     ]
    },
    {
     "name": "stdout",
     "output_type": "stream",
     "text": [
      "\r",
      "[#####                                   ] | 14% Completed | 27.29 s"
     ]
    },
    {
     "name": "stdout",
     "output_type": "stream",
     "text": [
      "\r",
      "[#####                                   ] | 14% Completed | 27.39 s"
     ]
    },
    {
     "name": "stdout",
     "output_type": "stream",
     "text": [
      "\r",
      "[#####                                   ] | 14% Completed | 27.49 s"
     ]
    },
    {
     "name": "stdout",
     "output_type": "stream",
     "text": [
      "\r",
      "[#####                                   ] | 14% Completed | 27.59 s"
     ]
    },
    {
     "name": "stdout",
     "output_type": "stream",
     "text": [
      "\r",
      "[#####                                   ] | 14% Completed | 27.69 s"
     ]
    },
    {
     "name": "stdout",
     "output_type": "stream",
     "text": [
      "\r",
      "[#####                                   ] | 14% Completed | 27.80 s"
     ]
    },
    {
     "name": "stdout",
     "output_type": "stream",
     "text": [
      "\r",
      "[#####                                   ] | 14% Completed | 27.90 s"
     ]
    },
    {
     "name": "stdout",
     "output_type": "stream",
     "text": [
      "\r",
      "[#####                                   ] | 14% Completed | 28.00 s"
     ]
    },
    {
     "name": "stdout",
     "output_type": "stream",
     "text": [
      "\r",
      "[#####                                   ] | 14% Completed | 28.10 s"
     ]
    },
    {
     "name": "stdout",
     "output_type": "stream",
     "text": [
      "\r",
      "[#####                                   ] | 14% Completed | 28.21 s"
     ]
    },
    {
     "name": "stdout",
     "output_type": "stream",
     "text": [
      "\r",
      "[#####                                   ] | 14% Completed | 28.31 s"
     ]
    },
    {
     "name": "stdout",
     "output_type": "stream",
     "text": [
      "\r",
      "[#####                                   ] | 14% Completed | 28.41 s"
     ]
    },
    {
     "name": "stdout",
     "output_type": "stream",
     "text": [
      "\r",
      "[#####                                   ] | 14% Completed | 28.51 s"
     ]
    },
    {
     "name": "stdout",
     "output_type": "stream",
     "text": [
      "\r",
      "[#####                                   ] | 14% Completed | 28.61 s"
     ]
    },
    {
     "name": "stdout",
     "output_type": "stream",
     "text": [
      "\r",
      "[#####                                   ] | 14% Completed | 28.72 s"
     ]
    },
    {
     "name": "stdout",
     "output_type": "stream",
     "text": [
      "\r",
      "[#####                                   ] | 14% Completed | 28.82 s"
     ]
    },
    {
     "name": "stdout",
     "output_type": "stream",
     "text": [
      "\r",
      "[#####                                   ] | 14% Completed | 28.92 s"
     ]
    },
    {
     "name": "stdout",
     "output_type": "stream",
     "text": [
      "\r",
      "[#####                                   ] | 14% Completed | 29.02 s"
     ]
    },
    {
     "name": "stdout",
     "output_type": "stream",
     "text": [
      "\r",
      "[######                                  ] | 15% Completed | 29.12 s"
     ]
    },
    {
     "name": "stdout",
     "output_type": "stream",
     "text": [
      "\r",
      "[######                                  ] | 15% Completed | 29.22 s"
     ]
    },
    {
     "name": "stdout",
     "output_type": "stream",
     "text": [
      "\r",
      "[######                                  ] | 15% Completed | 29.33 s"
     ]
    },
    {
     "name": "stdout",
     "output_type": "stream",
     "text": [
      "\r",
      "[######                                  ] | 15% Completed | 29.43 s"
     ]
    },
    {
     "name": "stdout",
     "output_type": "stream",
     "text": [
      "\r",
      "[######                                  ] | 15% Completed | 29.53 s"
     ]
    },
    {
     "name": "stdout",
     "output_type": "stream",
     "text": [
      "\r",
      "[######                                  ] | 15% Completed | 29.63 s"
     ]
    },
    {
     "name": "stdout",
     "output_type": "stream",
     "text": [
      "\r",
      "[######                                  ] | 15% Completed | 29.73 s"
     ]
    },
    {
     "name": "stdout",
     "output_type": "stream",
     "text": [
      "\r",
      "[######                                  ] | 15% Completed | 29.84 s"
     ]
    },
    {
     "name": "stdout",
     "output_type": "stream",
     "text": [
      "\r",
      "[######                                  ] | 15% Completed | 29.94 s"
     ]
    },
    {
     "name": "stdout",
     "output_type": "stream",
     "text": [
      "\r",
      "[######                                  ] | 15% Completed | 30.04 s"
     ]
    },
    {
     "name": "stdout",
     "output_type": "stream",
     "text": [
      "\r",
      "[######                                  ] | 15% Completed | 30.14 s"
     ]
    },
    {
     "name": "stdout",
     "output_type": "stream",
     "text": [
      "\r",
      "[######                                  ] | 15% Completed | 30.25 s"
     ]
    },
    {
     "name": "stdout",
     "output_type": "stream",
     "text": [
      "\r",
      "[######                                  ] | 15% Completed | 30.35 s"
     ]
    },
    {
     "name": "stdout",
     "output_type": "stream",
     "text": [
      "\r",
      "[######                                  ] | 15% Completed | 30.45 s"
     ]
    },
    {
     "name": "stdout",
     "output_type": "stream",
     "text": [
      "\r",
      "[######                                  ] | 15% Completed | 30.55 s"
     ]
    },
    {
     "name": "stdout",
     "output_type": "stream",
     "text": [
      "\r",
      "[######                                  ] | 15% Completed | 30.65 s"
     ]
    },
    {
     "name": "stdout",
     "output_type": "stream",
     "text": [
      "\r",
      "[######                                  ] | 15% Completed | 30.76 s"
     ]
    },
    {
     "name": "stdout",
     "output_type": "stream",
     "text": [
      "\r",
      "[######                                  ] | 15% Completed | 30.86 s"
     ]
    },
    {
     "name": "stdout",
     "output_type": "stream",
     "text": [
      "\r",
      "[######                                  ] | 16% Completed | 30.96 s"
     ]
    },
    {
     "name": "stdout",
     "output_type": "stream",
     "text": [
      "\r",
      "[######                                  ] | 16% Completed | 31.06 s"
     ]
    },
    {
     "name": "stdout",
     "output_type": "stream",
     "text": [
      "\r",
      "[######                                  ] | 16% Completed | 31.17 s"
     ]
    },
    {
     "name": "stdout",
     "output_type": "stream",
     "text": [
      "\r",
      "[######                                  ] | 16% Completed | 31.27 s"
     ]
    },
    {
     "name": "stdout",
     "output_type": "stream",
     "text": [
      "\r",
      "[######                                  ] | 16% Completed | 31.37 s"
     ]
    },
    {
     "name": "stdout",
     "output_type": "stream",
     "text": [
      "\r",
      "[######                                  ] | 16% Completed | 31.47 s"
     ]
    },
    {
     "name": "stdout",
     "output_type": "stream",
     "text": [
      "\r",
      "[######                                  ] | 16% Completed | 31.57 s"
     ]
    },
    {
     "name": "stdout",
     "output_type": "stream",
     "text": [
      "\r",
      "[######                                  ] | 16% Completed | 31.68 s"
     ]
    },
    {
     "name": "stdout",
     "output_type": "stream",
     "text": [
      "\r",
      "[######                                  ] | 16% Completed | 31.78 s"
     ]
    },
    {
     "name": "stdout",
     "output_type": "stream",
     "text": [
      "\r",
      "[######                                  ] | 16% Completed | 31.88 s"
     ]
    },
    {
     "name": "stdout",
     "output_type": "stream",
     "text": [
      "\r",
      "[######                                  ] | 16% Completed | 31.98 s"
     ]
    },
    {
     "name": "stdout",
     "output_type": "stream",
     "text": [
      "\r",
      "[######                                  ] | 16% Completed | 32.08 s"
     ]
    },
    {
     "name": "stdout",
     "output_type": "stream",
     "text": [
      "\r",
      "[######                                  ] | 16% Completed | 32.19 s"
     ]
    },
    {
     "name": "stdout",
     "output_type": "stream",
     "text": [
      "\r",
      "[######                                  ] | 16% Completed | 32.29 s"
     ]
    },
    {
     "name": "stdout",
     "output_type": "stream",
     "text": [
      "\r",
      "[######                                  ] | 16% Completed | 32.40 s"
     ]
    },
    {
     "name": "stdout",
     "output_type": "stream",
     "text": [
      "\r",
      "[######                                  ] | 16% Completed | 32.50 s"
     ]
    },
    {
     "name": "stdout",
     "output_type": "stream",
     "text": [
      "\r",
      "[######                                  ] | 16% Completed | 32.60 s"
     ]
    },
    {
     "name": "stdout",
     "output_type": "stream",
     "text": [
      "\r",
      "[######                                  ] | 16% Completed | 32.70 s"
     ]
    },
    {
     "name": "stdout",
     "output_type": "stream",
     "text": [
      "\r",
      "[######                                  ] | 16% Completed | 32.80 s"
     ]
    },
    {
     "name": "stdout",
     "output_type": "stream",
     "text": [
      "\r",
      "[######                                  ] | 16% Completed | 32.90 s"
     ]
    },
    {
     "name": "stdout",
     "output_type": "stream",
     "text": [
      "\r",
      "[######                                  ] | 16% Completed | 33.01 s"
     ]
    },
    {
     "name": "stdout",
     "output_type": "stream",
     "text": [
      "\r",
      "[######                                  ] | 17% Completed | 33.11 s"
     ]
    },
    {
     "name": "stdout",
     "output_type": "stream",
     "text": [
      "\r",
      "[######                                  ] | 17% Completed | 33.21 s"
     ]
    },
    {
     "name": "stdout",
     "output_type": "stream",
     "text": [
      "\r",
      "[######                                  ] | 17% Completed | 33.31 s"
     ]
    },
    {
     "name": "stdout",
     "output_type": "stream",
     "text": [
      "\r",
      "[######                                  ] | 17% Completed | 33.41 s"
     ]
    },
    {
     "name": "stdout",
     "output_type": "stream",
     "text": [
      "\r",
      "[######                                  ] | 17% Completed | 33.52 s"
     ]
    },
    {
     "name": "stdout",
     "output_type": "stream",
     "text": [
      "\r",
      "[######                                  ] | 17% Completed | 33.62 s"
     ]
    },
    {
     "name": "stdout",
     "output_type": "stream",
     "text": [
      "\r",
      "[######                                  ] | 17% Completed | 33.72 s"
     ]
    },
    {
     "name": "stdout",
     "output_type": "stream",
     "text": [
      "\r",
      "[######                                  ] | 17% Completed | 33.83 s"
     ]
    },
    {
     "name": "stdout",
     "output_type": "stream",
     "text": [
      "\r",
      "[######                                  ] | 17% Completed | 33.93 s"
     ]
    },
    {
     "name": "stdout",
     "output_type": "stream",
     "text": [
      "\r",
      "[######                                  ] | 17% Completed | 34.03 s"
     ]
    },
    {
     "name": "stdout",
     "output_type": "stream",
     "text": [
      "\r",
      "[######                                  ] | 17% Completed | 34.13 s"
     ]
    },
    {
     "name": "stdout",
     "output_type": "stream",
     "text": [
      "\r",
      "[#######                                 ] | 17% Completed | 34.24 s"
     ]
    },
    {
     "name": "stdout",
     "output_type": "stream",
     "text": [
      "\r",
      "[#######                                 ] | 17% Completed | 34.34 s"
     ]
    },
    {
     "name": "stdout",
     "output_type": "stream",
     "text": [
      "\r",
      "[#######                                 ] | 17% Completed | 34.44 s"
     ]
    },
    {
     "name": "stdout",
     "output_type": "stream",
     "text": [
      "\r",
      "[#######                                 ] | 17% Completed | 34.54 s"
     ]
    },
    {
     "name": "stdout",
     "output_type": "stream",
     "text": [
      "\r",
      "[#######                                 ] | 17% Completed | 34.64 s"
     ]
    },
    {
     "name": "stdout",
     "output_type": "stream",
     "text": [
      "\r",
      "[#######                                 ] | 17% Completed | 34.75 s"
     ]
    },
    {
     "name": "stdout",
     "output_type": "stream",
     "text": [
      "\r",
      "[#######                                 ] | 17% Completed | 34.85 s"
     ]
    },
    {
     "name": "stdout",
     "output_type": "stream",
     "text": [
      "\r",
      "[#######                                 ] | 17% Completed | 34.95 s"
     ]
    },
    {
     "name": "stdout",
     "output_type": "stream",
     "text": [
      "\r",
      "[#######                                 ] | 17% Completed | 35.05 s"
     ]
    },
    {
     "name": "stdout",
     "output_type": "stream",
     "text": [
      "\r",
      "[#######                                 ] | 18% Completed | 35.16 s"
     ]
    },
    {
     "name": "stdout",
     "output_type": "stream",
     "text": [
      "\r",
      "[#######                                 ] | 18% Completed | 35.26 s"
     ]
    },
    {
     "name": "stdout",
     "output_type": "stream",
     "text": [
      "\r",
      "[#######                                 ] | 18% Completed | 35.36 s"
     ]
    },
    {
     "name": "stdout",
     "output_type": "stream",
     "text": [
      "\r",
      "[#######                                 ] | 18% Completed | 35.46 s"
     ]
    },
    {
     "name": "stdout",
     "output_type": "stream",
     "text": [
      "\r",
      "[#######                                 ] | 18% Completed | 35.56 s"
     ]
    },
    {
     "name": "stdout",
     "output_type": "stream",
     "text": [
      "\r",
      "[#######                                 ] | 18% Completed | 35.67 s"
     ]
    },
    {
     "name": "stdout",
     "output_type": "stream",
     "text": [
      "\r",
      "[#######                                 ] | 18% Completed | 35.77 s"
     ]
    },
    {
     "name": "stdout",
     "output_type": "stream",
     "text": [
      "\r",
      "[#######                                 ] | 18% Completed | 35.87 s"
     ]
    },
    {
     "name": "stdout",
     "output_type": "stream",
     "text": [
      "\r",
      "[#######                                 ] | 18% Completed | 35.97 s"
     ]
    },
    {
     "name": "stdout",
     "output_type": "stream",
     "text": [
      "\r",
      "[#######                                 ] | 18% Completed | 36.08 s"
     ]
    },
    {
     "name": "stdout",
     "output_type": "stream",
     "text": [
      "\r",
      "[#######                                 ] | 18% Completed | 36.18 s"
     ]
    },
    {
     "name": "stdout",
     "output_type": "stream",
     "text": [
      "\r",
      "[#######                                 ] | 18% Completed | 36.28 s"
     ]
    },
    {
     "name": "stdout",
     "output_type": "stream",
     "text": [
      "\r",
      "[#######                                 ] | 18% Completed | 36.39 s"
     ]
    },
    {
     "name": "stdout",
     "output_type": "stream",
     "text": [
      "\r",
      "[#######                                 ] | 18% Completed | 36.49 s"
     ]
    },
    {
     "name": "stdout",
     "output_type": "stream",
     "text": [
      "\r",
      "[#######                                 ] | 18% Completed | 36.59 s"
     ]
    },
    {
     "name": "stdout",
     "output_type": "stream",
     "text": [
      "\r",
      "[#######                                 ] | 18% Completed | 36.70 s"
     ]
    },
    {
     "name": "stdout",
     "output_type": "stream",
     "text": [
      "\r",
      "[#######                                 ] | 18% Completed | 36.80 s"
     ]
    },
    {
     "name": "stdout",
     "output_type": "stream",
     "text": [
      "\r",
      "[#######                                 ] | 18% Completed | 36.90 s"
     ]
    },
    {
     "name": "stdout",
     "output_type": "stream",
     "text": [
      "\r",
      "[#######                                 ] | 18% Completed | 37.00 s"
     ]
    },
    {
     "name": "stdout",
     "output_type": "stream",
     "text": [
      "\r",
      "[#######                                 ] | 18% Completed | 37.11 s"
     ]
    },
    {
     "name": "stdout",
     "output_type": "stream",
     "text": [
      "\r",
      "[#######                                 ] | 19% Completed | 37.21 s"
     ]
    },
    {
     "name": "stdout",
     "output_type": "stream",
     "text": [
      "\r",
      "[#######                                 ] | 19% Completed | 37.31 s"
     ]
    },
    {
     "name": "stdout",
     "output_type": "stream",
     "text": [
      "\r",
      "[#######                                 ] | 19% Completed | 37.42 s"
     ]
    },
    {
     "name": "stdout",
     "output_type": "stream",
     "text": [
      "\r",
      "[#######                                 ] | 19% Completed | 37.52 s"
     ]
    },
    {
     "name": "stdout",
     "output_type": "stream",
     "text": [
      "\r",
      "[#######                                 ] | 19% Completed | 37.62 s"
     ]
    },
    {
     "name": "stdout",
     "output_type": "stream",
     "text": [
      "\r",
      "[#######                                 ] | 19% Completed | 37.72 s"
     ]
    },
    {
     "name": "stdout",
     "output_type": "stream",
     "text": [
      "\r",
      "[#######                                 ] | 19% Completed | 37.82 s"
     ]
    },
    {
     "name": "stdout",
     "output_type": "stream",
     "text": [
      "\r",
      "[#######                                 ] | 19% Completed | 37.93 s"
     ]
    },
    {
     "name": "stdout",
     "output_type": "stream",
     "text": [
      "\r",
      "[#######                                 ] | 19% Completed | 38.03 s"
     ]
    },
    {
     "name": "stdout",
     "output_type": "stream",
     "text": [
      "\r",
      "[#######                                 ] | 19% Completed | 38.13 s"
     ]
    },
    {
     "name": "stdout",
     "output_type": "stream",
     "text": [
      "\r",
      "[#######                                 ] | 19% Completed | 38.23 s"
     ]
    },
    {
     "name": "stdout",
     "output_type": "stream",
     "text": [
      "\r",
      "[#######                                 ] | 19% Completed | 38.33 s"
     ]
    },
    {
     "name": "stdout",
     "output_type": "stream",
     "text": [
      "\r",
      "[#######                                 ] | 19% Completed | 38.43 s"
     ]
    },
    {
     "name": "stdout",
     "output_type": "stream",
     "text": [
      "\r",
      "[#######                                 ] | 19% Completed | 38.54 s"
     ]
    },
    {
     "name": "stdout",
     "output_type": "stream",
     "text": [
      "\r",
      "[#######                                 ] | 19% Completed | 38.64 s"
     ]
    },
    {
     "name": "stdout",
     "output_type": "stream",
     "text": [
      "\r",
      "[#######                                 ] | 19% Completed | 38.74 s"
     ]
    },
    {
     "name": "stdout",
     "output_type": "stream",
     "text": [
      "\r",
      "[#######                                 ] | 19% Completed | 38.84 s"
     ]
    },
    {
     "name": "stdout",
     "output_type": "stream",
     "text": [
      "\r",
      "[#######                                 ] | 19% Completed | 38.95 s"
     ]
    },
    {
     "name": "stdout",
     "output_type": "stream",
     "text": [
      "\r",
      "[#######                                 ] | 19% Completed | 39.05 s"
     ]
    },
    {
     "name": "stdout",
     "output_type": "stream",
     "text": [
      "\r",
      "[#######                                 ] | 19% Completed | 39.15 s"
     ]
    },
    {
     "name": "stdout",
     "output_type": "stream",
     "text": [
      "\r",
      "[########                                ] | 20% Completed | 39.25 s"
     ]
    },
    {
     "name": "stdout",
     "output_type": "stream",
     "text": [
      "\r",
      "[########                                ] | 20% Completed | 39.36 s"
     ]
    },
    {
     "name": "stdout",
     "output_type": "stream",
     "text": [
      "\r",
      "[########                                ] | 20% Completed | 39.46 s"
     ]
    },
    {
     "name": "stdout",
     "output_type": "stream",
     "text": [
      "\r",
      "[########                                ] | 20% Completed | 39.56 s"
     ]
    },
    {
     "name": "stdout",
     "output_type": "stream",
     "text": [
      "\r",
      "[########                                ] | 20% Completed | 39.66 s"
     ]
    },
    {
     "name": "stdout",
     "output_type": "stream",
     "text": [
      "\r",
      "[########                                ] | 20% Completed | 39.76 s"
     ]
    },
    {
     "name": "stdout",
     "output_type": "stream",
     "text": [
      "\r",
      "[########                                ] | 20% Completed | 39.87 s"
     ]
    },
    {
     "name": "stdout",
     "output_type": "stream",
     "text": [
      "\r",
      "[########                                ] | 20% Completed | 39.97 s"
     ]
    },
    {
     "name": "stdout",
     "output_type": "stream",
     "text": [
      "\r",
      "[########                                ] | 20% Completed | 40.08 s"
     ]
    },
    {
     "name": "stdout",
     "output_type": "stream",
     "text": [
      "\r",
      "[########                                ] | 20% Completed | 40.18 s"
     ]
    },
    {
     "name": "stdout",
     "output_type": "stream",
     "text": [
      "\r",
      "[########                                ] | 20% Completed | 40.28 s"
     ]
    },
    {
     "name": "stdout",
     "output_type": "stream",
     "text": [
      "\r",
      "[########                                ] | 20% Completed | 40.38 s"
     ]
    },
    {
     "name": "stdout",
     "output_type": "stream",
     "text": [
      "\r",
      "[########                                ] | 20% Completed | 40.48 s"
     ]
    },
    {
     "name": "stdout",
     "output_type": "stream",
     "text": [
      "\r",
      "[########                                ] | 20% Completed | 40.58 s"
     ]
    },
    {
     "name": "stdout",
     "output_type": "stream",
     "text": [
      "\r",
      "[########                                ] | 20% Completed | 40.69 s"
     ]
    },
    {
     "name": "stdout",
     "output_type": "stream",
     "text": [
      "\r",
      "[########                                ] | 20% Completed | 40.79 s"
     ]
    },
    {
     "name": "stdout",
     "output_type": "stream",
     "text": [
      "\r",
      "[########                                ] | 20% Completed | 40.89 s"
     ]
    },
    {
     "name": "stdout",
     "output_type": "stream",
     "text": [
      "\r",
      "[########                                ] | 20% Completed | 40.99 s"
     ]
    },
    {
     "name": "stdout",
     "output_type": "stream",
     "text": [
      "\r",
      "[########                                ] | 20% Completed | 41.09 s"
     ]
    },
    {
     "name": "stdout",
     "output_type": "stream",
     "text": [
      "\r",
      "[########                                ] | 20% Completed | 41.20 s"
     ]
    },
    {
     "name": "stdout",
     "output_type": "stream",
     "text": [
      "\r",
      "[########                                ] | 20% Completed | 41.30 s"
     ]
    },
    {
     "name": "stdout",
     "output_type": "stream",
     "text": [
      "\r",
      "[########                                ] | 21% Completed | 41.40 s"
     ]
    },
    {
     "name": "stdout",
     "output_type": "stream",
     "text": [
      "\r",
      "[########                                ] | 21% Completed | 41.50 s"
     ]
    },
    {
     "name": "stdout",
     "output_type": "stream",
     "text": [
      "\r",
      "[########                                ] | 21% Completed | 41.61 s"
     ]
    },
    {
     "name": "stdout",
     "output_type": "stream",
     "text": [
      "\r",
      "[########                                ] | 21% Completed | 41.71 s"
     ]
    },
    {
     "name": "stdout",
     "output_type": "stream",
     "text": [
      "\r",
      "[########                                ] | 21% Completed | 41.81 s"
     ]
    },
    {
     "name": "stdout",
     "output_type": "stream",
     "text": [
      "\r",
      "[########                                ] | 21% Completed | 41.91 s"
     ]
    },
    {
     "name": "stdout",
     "output_type": "stream",
     "text": [
      "\r",
      "[########                                ] | 21% Completed | 42.01 s"
     ]
    },
    {
     "name": "stdout",
     "output_type": "stream",
     "text": [
      "\r",
      "[########                                ] | 21% Completed | 42.12 s"
     ]
    },
    {
     "name": "stdout",
     "output_type": "stream",
     "text": [
      "\r",
      "[########                                ] | 21% Completed | 42.22 s"
     ]
    },
    {
     "name": "stdout",
     "output_type": "stream",
     "text": [
      "\r",
      "[########                                ] | 21% Completed | 42.33 s"
     ]
    },
    {
     "name": "stdout",
     "output_type": "stream",
     "text": [
      "\r",
      "[########                                ] | 21% Completed | 42.43 s"
     ]
    },
    {
     "name": "stdout",
     "output_type": "stream",
     "text": [
      "\r",
      "[########                                ] | 21% Completed | 42.53 s"
     ]
    },
    {
     "name": "stdout",
     "output_type": "stream",
     "text": [
      "\r",
      "[########                                ] | 21% Completed | 42.64 s"
     ]
    },
    {
     "name": "stdout",
     "output_type": "stream",
     "text": [
      "\r",
      "[########                                ] | 21% Completed | 42.74 s"
     ]
    },
    {
     "name": "stdout",
     "output_type": "stream",
     "text": [
      "\r",
      "[########                                ] | 21% Completed | 42.85 s"
     ]
    },
    {
     "name": "stdout",
     "output_type": "stream",
     "text": [
      "\r",
      "[########                                ] | 21% Completed | 42.95 s"
     ]
    },
    {
     "name": "stdout",
     "output_type": "stream",
     "text": [
      "\r",
      "[########                                ] | 21% Completed | 43.05 s"
     ]
    },
    {
     "name": "stdout",
     "output_type": "stream",
     "text": [
      "\r",
      "[########                                ] | 21% Completed | 43.15 s"
     ]
    },
    {
     "name": "stdout",
     "output_type": "stream",
     "text": [
      "\r",
      "[########                                ] | 21% Completed | 43.25 s"
     ]
    },
    {
     "name": "stdout",
     "output_type": "stream",
     "text": [
      "\r",
      "[########                                ] | 21% Completed | 43.35 s"
     ]
    },
    {
     "name": "stdout",
     "output_type": "stream",
     "text": [
      "\r",
      "[########                                ] | 21% Completed | 43.46 s"
     ]
    },
    {
     "name": "stdout",
     "output_type": "stream",
     "text": [
      "\r",
      "[########                                ] | 22% Completed | 43.56 s"
     ]
    },
    {
     "name": "stdout",
     "output_type": "stream",
     "text": [
      "\r",
      "[########                                ] | 22% Completed | 43.66 s"
     ]
    },
    {
     "name": "stdout",
     "output_type": "stream",
     "text": [
      "\r",
      "[########                                ] | 22% Completed | 43.77 s"
     ]
    },
    {
     "name": "stdout",
     "output_type": "stream",
     "text": [
      "\r",
      "[########                                ] | 22% Completed | 43.87 s"
     ]
    },
    {
     "name": "stdout",
     "output_type": "stream",
     "text": [
      "\r",
      "[########                                ] | 22% Completed | 43.97 s"
     ]
    },
    {
     "name": "stdout",
     "output_type": "stream",
     "text": [
      "\r",
      "[#########                               ] | 22% Completed | 44.07 s"
     ]
    },
    {
     "name": "stdout",
     "output_type": "stream",
     "text": [
      "\r",
      "[#########                               ] | 22% Completed | 44.17 s"
     ]
    },
    {
     "name": "stdout",
     "output_type": "stream",
     "text": [
      "\r",
      "[#########                               ] | 22% Completed | 44.27 s"
     ]
    },
    {
     "name": "stdout",
     "output_type": "stream",
     "text": [
      "\r",
      "[#########                               ] | 22% Completed | 44.37 s"
     ]
    },
    {
     "name": "stdout",
     "output_type": "stream",
     "text": [
      "\r",
      "[#########                               ] | 22% Completed | 44.48 s"
     ]
    },
    {
     "name": "stdout",
     "output_type": "stream",
     "text": [
      "\r",
      "[#########                               ] | 22% Completed | 44.58 s"
     ]
    },
    {
     "name": "stdout",
     "output_type": "stream",
     "text": [
      "\r",
      "[#########                               ] | 22% Completed | 44.68 s"
     ]
    },
    {
     "name": "stdout",
     "output_type": "stream",
     "text": [
      "\r",
      "[#########                               ] | 22% Completed | 44.78 s"
     ]
    },
    {
     "name": "stdout",
     "output_type": "stream",
     "text": [
      "\r",
      "[#########                               ] | 22% Completed | 44.88 s"
     ]
    },
    {
     "name": "stdout",
     "output_type": "stream",
     "text": [
      "\r",
      "[#########                               ] | 22% Completed | 44.98 s"
     ]
    },
    {
     "name": "stdout",
     "output_type": "stream",
     "text": [
      "\r",
      "[#########                               ] | 22% Completed | 45.09 s"
     ]
    },
    {
     "name": "stdout",
     "output_type": "stream",
     "text": [
      "\r",
      "[#########                               ] | 22% Completed | 45.19 s"
     ]
    },
    {
     "name": "stdout",
     "output_type": "stream",
     "text": [
      "\r",
      "[#########                               ] | 23% Completed | 45.29 s"
     ]
    },
    {
     "name": "stdout",
     "output_type": "stream",
     "text": [
      "\r",
      "[#########                               ] | 23% Completed | 45.39 s"
     ]
    },
    {
     "name": "stdout",
     "output_type": "stream",
     "text": [
      "\r",
      "[#########                               ] | 23% Completed | 45.49 s"
     ]
    },
    {
     "name": "stdout",
     "output_type": "stream",
     "text": [
      "\r",
      "[#########                               ] | 23% Completed | 45.59 s"
     ]
    },
    {
     "name": "stdout",
     "output_type": "stream",
     "text": [
      "\r",
      "[#########                               ] | 23% Completed | 45.70 s"
     ]
    },
    {
     "name": "stdout",
     "output_type": "stream",
     "text": [
      "\r",
      "[#########                               ] | 23% Completed | 45.80 s"
     ]
    },
    {
     "name": "stdout",
     "output_type": "stream",
     "text": [
      "\r",
      "[#########                               ] | 23% Completed | 45.90 s"
     ]
    },
    {
     "name": "stdout",
     "output_type": "stream",
     "text": [
      "\r",
      "[#########                               ] | 23% Completed | 46.00 s"
     ]
    },
    {
     "name": "stdout",
     "output_type": "stream",
     "text": [
      "\r",
      "[#########                               ] | 23% Completed | 46.10 s"
     ]
    },
    {
     "name": "stdout",
     "output_type": "stream",
     "text": [
      "\r",
      "[#########                               ] | 23% Completed | 46.20 s"
     ]
    },
    {
     "name": "stdout",
     "output_type": "stream",
     "text": [
      "\r",
      "[#########                               ] | 23% Completed | 46.31 s"
     ]
    },
    {
     "name": "stdout",
     "output_type": "stream",
     "text": [
      "\r",
      "[#########                               ] | 23% Completed | 46.41 s"
     ]
    },
    {
     "name": "stdout",
     "output_type": "stream",
     "text": [
      "\r",
      "[#########                               ] | 23% Completed | 46.51 s"
     ]
    },
    {
     "name": "stdout",
     "output_type": "stream",
     "text": [
      "\r",
      "[#########                               ] | 23% Completed | 46.61 s"
     ]
    },
    {
     "name": "stdout",
     "output_type": "stream",
     "text": [
      "\r",
      "[#########                               ] | 23% Completed | 46.71 s"
     ]
    },
    {
     "name": "stdout",
     "output_type": "stream",
     "text": [
      "\r",
      "[#########                               ] | 23% Completed | 46.82 s"
     ]
    },
    {
     "name": "stdout",
     "output_type": "stream",
     "text": [
      "\r",
      "[#########                               ] | 23% Completed | 46.92 s"
     ]
    },
    {
     "name": "stdout",
     "output_type": "stream",
     "text": [
      "\r",
      "[#########                               ] | 23% Completed | 47.02 s"
     ]
    },
    {
     "name": "stdout",
     "output_type": "stream",
     "text": [
      "\r",
      "[#########                               ] | 23% Completed | 47.12 s"
     ]
    },
    {
     "name": "stdout",
     "output_type": "stream",
     "text": [
      "\r",
      "[#########                               ] | 23% Completed | 47.22 s"
     ]
    },
    {
     "name": "stdout",
     "output_type": "stream",
     "text": [
      "\r",
      "[#########                               ] | 23% Completed | 47.33 s"
     ]
    },
    {
     "name": "stdout",
     "output_type": "stream",
     "text": [
      "\r",
      "[#########                               ] | 23% Completed | 47.43 s"
     ]
    },
    {
     "name": "stdout",
     "output_type": "stream",
     "text": [
      "\r",
      "[#########                               ] | 23% Completed | 47.53 s"
     ]
    },
    {
     "name": "stdout",
     "output_type": "stream",
     "text": [
      "\r",
      "[#########                               ] | 24% Completed | 47.63 s"
     ]
    },
    {
     "name": "stdout",
     "output_type": "stream",
     "text": [
      "\r",
      "[#########                               ] | 24% Completed | 47.73 s"
     ]
    },
    {
     "name": "stdout",
     "output_type": "stream",
     "text": [
      "\r",
      "[#########                               ] | 24% Completed | 47.84 s"
     ]
    },
    {
     "name": "stdout",
     "output_type": "stream",
     "text": [
      "\r",
      "[#########                               ] | 24% Completed | 47.94 s"
     ]
    },
    {
     "name": "stdout",
     "output_type": "stream",
     "text": [
      "\r",
      "[#########                               ] | 24% Completed | 48.04 s"
     ]
    },
    {
     "name": "stdout",
     "output_type": "stream",
     "text": [
      "\r",
      "[#########                               ] | 24% Completed | 48.14 s"
     ]
    },
    {
     "name": "stdout",
     "output_type": "stream",
     "text": [
      "\r",
      "[#########                               ] | 24% Completed | 48.24 s"
     ]
    },
    {
     "name": "stdout",
     "output_type": "stream",
     "text": [
      "\r",
      "[#########                               ] | 24% Completed | 48.35 s"
     ]
    },
    {
     "name": "stdout",
     "output_type": "stream",
     "text": [
      "\r",
      "[#########                               ] | 24% Completed | 48.45 s"
     ]
    },
    {
     "name": "stdout",
     "output_type": "stream",
     "text": [
      "\r",
      "[#########                               ] | 24% Completed | 48.56 s"
     ]
    },
    {
     "name": "stdout",
     "output_type": "stream",
     "text": [
      "\r",
      "[#########                               ] | 24% Completed | 48.66 s"
     ]
    },
    {
     "name": "stdout",
     "output_type": "stream",
     "text": [
      "\r",
      "[#########                               ] | 24% Completed | 48.76 s"
     ]
    },
    {
     "name": "stdout",
     "output_type": "stream",
     "text": [
      "\r",
      "[#########                               ] | 24% Completed | 48.86 s"
     ]
    },
    {
     "name": "stdout",
     "output_type": "stream",
     "text": [
      "\r",
      "[#########                               ] | 24% Completed | 48.97 s"
     ]
    },
    {
     "name": "stdout",
     "output_type": "stream",
     "text": [
      "\r",
      "[#########                               ] | 24% Completed | 49.07 s"
     ]
    },
    {
     "name": "stdout",
     "output_type": "stream",
     "text": [
      "\r",
      "[#########                               ] | 24% Completed | 49.17 s"
     ]
    },
    {
     "name": "stdout",
     "output_type": "stream",
     "text": [
      "\r",
      "[#########                               ] | 24% Completed | 49.27 s"
     ]
    },
    {
     "name": "stdout",
     "output_type": "stream",
     "text": [
      "\r",
      "[#########                               ] | 24% Completed | 49.37 s"
     ]
    },
    {
     "name": "stdout",
     "output_type": "stream",
     "text": [
      "\r",
      "[##########                              ] | 25% Completed | 49.48 s"
     ]
    },
    {
     "name": "stdout",
     "output_type": "stream",
     "text": [
      "\r",
      "[##########                              ] | 25% Completed | 49.58 s"
     ]
    },
    {
     "name": "stdout",
     "output_type": "stream",
     "text": [
      "\r",
      "[##########                              ] | 25% Completed | 49.68 s"
     ]
    },
    {
     "name": "stdout",
     "output_type": "stream",
     "text": [
      "\r",
      "[##########                              ] | 25% Completed | 49.78 s"
     ]
    },
    {
     "name": "stdout",
     "output_type": "stream",
     "text": [
      "\r",
      "[##########                              ] | 25% Completed | 49.89 s"
     ]
    },
    {
     "name": "stdout",
     "output_type": "stream",
     "text": [
      "\r",
      "[##########                              ] | 25% Completed | 49.99 s"
     ]
    },
    {
     "name": "stdout",
     "output_type": "stream",
     "text": [
      "\r",
      "[##########                              ] | 25% Completed | 50.09 s"
     ]
    },
    {
     "name": "stdout",
     "output_type": "stream",
     "text": [
      "\r",
      "[##########                              ] | 25% Completed | 50.19 s"
     ]
    },
    {
     "name": "stdout",
     "output_type": "stream",
     "text": [
      "\r",
      "[##########                              ] | 25% Completed | 50.29 s"
     ]
    },
    {
     "name": "stdout",
     "output_type": "stream",
     "text": [
      "\r",
      "[##########                              ] | 25% Completed | 50.40 s"
     ]
    },
    {
     "name": "stdout",
     "output_type": "stream",
     "text": [
      "\r",
      "[##########                              ] | 25% Completed | 50.50 s"
     ]
    },
    {
     "name": "stdout",
     "output_type": "stream",
     "text": [
      "\r",
      "[##########                              ] | 25% Completed | 50.60 s"
     ]
    },
    {
     "name": "stdout",
     "output_type": "stream",
     "text": [
      "\r",
      "[##########                              ] | 25% Completed | 50.70 s"
     ]
    },
    {
     "name": "stdout",
     "output_type": "stream",
     "text": [
      "\r",
      "[##########                              ] | 25% Completed | 50.80 s"
     ]
    },
    {
     "name": "stdout",
     "output_type": "stream",
     "text": [
      "\r",
      "[##########                              ] | 25% Completed | 50.91 s"
     ]
    },
    {
     "name": "stdout",
     "output_type": "stream",
     "text": [
      "\r",
      "[##########                              ] | 25% Completed | 51.01 s"
     ]
    },
    {
     "name": "stdout",
     "output_type": "stream",
     "text": [
      "\r",
      "[##########                              ] | 25% Completed | 51.11 s"
     ]
    },
    {
     "name": "stdout",
     "output_type": "stream",
     "text": [
      "\r",
      "[##########                              ] | 25% Completed | 51.22 s"
     ]
    },
    {
     "name": "stdout",
     "output_type": "stream",
     "text": [
      "\r",
      "[##########                              ] | 25% Completed | 51.32 s"
     ]
    },
    {
     "name": "stdout",
     "output_type": "stream",
     "text": [
      "\r",
      "[##########                              ] | 25% Completed | 51.42 s"
     ]
    },
    {
     "name": "stdout",
     "output_type": "stream",
     "text": [
      "\r",
      "[##########                              ] | 26% Completed | 51.52 s"
     ]
    },
    {
     "name": "stdout",
     "output_type": "stream",
     "text": [
      "\r",
      "[##########                              ] | 26% Completed | 51.63 s"
     ]
    },
    {
     "name": "stdout",
     "output_type": "stream",
     "text": [
      "\r",
      "[##########                              ] | 26% Completed | 51.73 s"
     ]
    },
    {
     "name": "stdout",
     "output_type": "stream",
     "text": [
      "\r",
      "[##########                              ] | 26% Completed | 51.83 s"
     ]
    },
    {
     "name": "stdout",
     "output_type": "stream",
     "text": [
      "\r",
      "[##########                              ] | 26% Completed | 51.93 s"
     ]
    },
    {
     "name": "stdout",
     "output_type": "stream",
     "text": [
      "\r",
      "[##########                              ] | 26% Completed | 52.03 s"
     ]
    },
    {
     "name": "stdout",
     "output_type": "stream",
     "text": [
      "\r",
      "[##########                              ] | 26% Completed | 52.14 s"
     ]
    },
    {
     "name": "stdout",
     "output_type": "stream",
     "text": [
      "\r",
      "[##########                              ] | 26% Completed | 52.24 s"
     ]
    },
    {
     "name": "stdout",
     "output_type": "stream",
     "text": [
      "\r",
      "[##########                              ] | 26% Completed | 52.34 s"
     ]
    },
    {
     "name": "stdout",
     "output_type": "stream",
     "text": [
      "\r",
      "[##########                              ] | 26% Completed | 52.44 s"
     ]
    },
    {
     "name": "stdout",
     "output_type": "stream",
     "text": [
      "\r",
      "[##########                              ] | 26% Completed | 52.54 s"
     ]
    },
    {
     "name": "stdout",
     "output_type": "stream",
     "text": [
      "\r",
      "[##########                              ] | 26% Completed | 52.65 s"
     ]
    },
    {
     "name": "stdout",
     "output_type": "stream",
     "text": [
      "\r",
      "[##########                              ] | 26% Completed | 52.75 s"
     ]
    },
    {
     "name": "stdout",
     "output_type": "stream",
     "text": [
      "\r",
      "[##########                              ] | 26% Completed | 52.85 s"
     ]
    },
    {
     "name": "stdout",
     "output_type": "stream",
     "text": [
      "\r",
      "[##########                              ] | 26% Completed | 52.95 s"
     ]
    },
    {
     "name": "stdout",
     "output_type": "stream",
     "text": [
      "\r",
      "[##########                              ] | 26% Completed | 53.05 s"
     ]
    },
    {
     "name": "stdout",
     "output_type": "stream",
     "text": [
      "\r",
      "[##########                              ] | 26% Completed | 53.16 s"
     ]
    },
    {
     "name": "stdout",
     "output_type": "stream",
     "text": [
      "\r",
      "[##########                              ] | 26% Completed | 53.26 s"
     ]
    },
    {
     "name": "stdout",
     "output_type": "stream",
     "text": [
      "\r",
      "[##########                              ] | 26% Completed | 53.36 s"
     ]
    },
    {
     "name": "stdout",
     "output_type": "stream",
     "text": [
      "\r",
      "[##########                              ] | 26% Completed | 53.46 s"
     ]
    },
    {
     "name": "stdout",
     "output_type": "stream",
     "text": [
      "\r",
      "[##########                              ] | 26% Completed | 53.56 s"
     ]
    },
    {
     "name": "stdout",
     "output_type": "stream",
     "text": [
      "\r",
      "[##########                              ] | 27% Completed | 53.67 s"
     ]
    },
    {
     "name": "stdout",
     "output_type": "stream",
     "text": [
      "\r",
      "[##########                              ] | 27% Completed | 53.77 s"
     ]
    },
    {
     "name": "stdout",
     "output_type": "stream",
     "text": [
      "\r",
      "[##########                              ] | 27% Completed | 53.87 s"
     ]
    },
    {
     "name": "stdout",
     "output_type": "stream",
     "text": [
      "\r",
      "[##########                              ] | 27% Completed | 53.97 s"
     ]
    },
    {
     "name": "stdout",
     "output_type": "stream",
     "text": [
      "\r",
      "[##########                              ] | 27% Completed | 54.07 s"
     ]
    },
    {
     "name": "stdout",
     "output_type": "stream",
     "text": [
      "\r",
      "[##########                              ] | 27% Completed | 54.18 s"
     ]
    },
    {
     "name": "stdout",
     "output_type": "stream",
     "text": [
      "\r",
      "[##########                              ] | 27% Completed | 54.28 s"
     ]
    },
    {
     "name": "stdout",
     "output_type": "stream",
     "text": [
      "\r",
      "[##########                              ] | 27% Completed | 54.38 s"
     ]
    },
    {
     "name": "stdout",
     "output_type": "stream",
     "text": [
      "\r",
      "[##########                              ] | 27% Completed | 54.48 s"
     ]
    },
    {
     "name": "stdout",
     "output_type": "stream",
     "text": [
      "\r",
      "[###########                             ] | 27% Completed | 54.58 s"
     ]
    },
    {
     "name": "stdout",
     "output_type": "stream",
     "text": [
      "\r",
      "[###########                             ] | 27% Completed | 54.69 s"
     ]
    },
    {
     "name": "stdout",
     "output_type": "stream",
     "text": [
      "\r",
      "[###########                             ] | 27% Completed | 54.79 s"
     ]
    },
    {
     "name": "stdout",
     "output_type": "stream",
     "text": [
      "\r",
      "[###########                             ] | 27% Completed | 54.89 s"
     ]
    },
    {
     "name": "stdout",
     "output_type": "stream",
     "text": [
      "\r",
      "[###########                             ] | 27% Completed | 54.99 s"
     ]
    },
    {
     "name": "stdout",
     "output_type": "stream",
     "text": [
      "\r",
      "[###########                             ] | 27% Completed | 55.10 s"
     ]
    },
    {
     "name": "stdout",
     "output_type": "stream",
     "text": [
      "\r",
      "[###########                             ] | 27% Completed | 55.20 s"
     ]
    },
    {
     "name": "stdout",
     "output_type": "stream",
     "text": [
      "\r",
      "[###########                             ] | 27% Completed | 55.30 s"
     ]
    },
    {
     "name": "stdout",
     "output_type": "stream",
     "text": [
      "\r",
      "[###########                             ] | 27% Completed | 55.40 s"
     ]
    },
    {
     "name": "stdout",
     "output_type": "stream",
     "text": [
      "\r",
      "[###########                             ] | 27% Completed | 55.50 s"
     ]
    },
    {
     "name": "stdout",
     "output_type": "stream",
     "text": [
      "\r",
      "[###########                             ] | 28% Completed | 55.60 s"
     ]
    },
    {
     "name": "stdout",
     "output_type": "stream",
     "text": [
      "\r",
      "[###########                             ] | 28% Completed | 55.71 s"
     ]
    },
    {
     "name": "stdout",
     "output_type": "stream",
     "text": [
      "\r",
      "[###########                             ] | 28% Completed | 55.81 s"
     ]
    },
    {
     "name": "stdout",
     "output_type": "stream",
     "text": [
      "\r",
      "[###########                             ] | 28% Completed | 55.91 s"
     ]
    },
    {
     "name": "stdout",
     "output_type": "stream",
     "text": [
      "\r",
      "[###########                             ] | 28% Completed | 56.01 s"
     ]
    },
    {
     "name": "stdout",
     "output_type": "stream",
     "text": [
      "\r",
      "[###########                             ] | 28% Completed | 56.12 s"
     ]
    },
    {
     "name": "stdout",
     "output_type": "stream",
     "text": [
      "\r",
      "[###########                             ] | 28% Completed | 56.22 s"
     ]
    },
    {
     "name": "stdout",
     "output_type": "stream",
     "text": [
      "\r",
      "[###########                             ] | 28% Completed | 56.32 s"
     ]
    },
    {
     "name": "stdout",
     "output_type": "stream",
     "text": [
      "\r",
      "[###########                             ] | 28% Completed | 56.43 s"
     ]
    },
    {
     "name": "stdout",
     "output_type": "stream",
     "text": [
      "\r",
      "[###########                             ] | 28% Completed | 56.53 s"
     ]
    },
    {
     "name": "stdout",
     "output_type": "stream",
     "text": [
      "\r",
      "[###########                             ] | 28% Completed | 56.63 s"
     ]
    },
    {
     "name": "stdout",
     "output_type": "stream",
     "text": [
      "\r",
      "[###########                             ] | 28% Completed | 56.73 s"
     ]
    },
    {
     "name": "stdout",
     "output_type": "stream",
     "text": [
      "\r",
      "[###########                             ] | 28% Completed | 56.84 s"
     ]
    },
    {
     "name": "stdout",
     "output_type": "stream",
     "text": [
      "\r",
      "[###########                             ] | 28% Completed | 56.94 s"
     ]
    },
    {
     "name": "stdout",
     "output_type": "stream",
     "text": [
      "\r",
      "[###########                             ] | 28% Completed | 57.04 s"
     ]
    },
    {
     "name": "stdout",
     "output_type": "stream",
     "text": [
      "\r",
      "[###########                             ] | 28% Completed | 57.14 s"
     ]
    },
    {
     "name": "stdout",
     "output_type": "stream",
     "text": [
      "\r",
      "[###########                             ] | 28% Completed | 57.24 s"
     ]
    },
    {
     "name": "stdout",
     "output_type": "stream",
     "text": [
      "\r",
      "[###########                             ] | 28% Completed | 57.35 s"
     ]
    },
    {
     "name": "stdout",
     "output_type": "stream",
     "text": [
      "\r",
      "[###########                             ] | 28% Completed | 57.45 s"
     ]
    },
    {
     "name": "stdout",
     "output_type": "stream",
     "text": [
      "\r",
      "[###########                             ] | 28% Completed | 57.55 s"
     ]
    },
    {
     "name": "stdout",
     "output_type": "stream",
     "text": [
      "\r",
      "[###########                             ] | 28% Completed | 57.65 s"
     ]
    },
    {
     "name": "stdout",
     "output_type": "stream",
     "text": [
      "\r",
      "[###########                             ] | 29% Completed | 57.76 s"
     ]
    },
    {
     "name": "stdout",
     "output_type": "stream",
     "text": [
      "\r",
      "[###########                             ] | 29% Completed | 57.86 s"
     ]
    },
    {
     "name": "stdout",
     "output_type": "stream",
     "text": [
      "\r",
      "[###########                             ] | 29% Completed | 57.96 s"
     ]
    },
    {
     "name": "stdout",
     "output_type": "stream",
     "text": [
      "\r",
      "[###########                             ] | 29% Completed | 58.06 s"
     ]
    },
    {
     "name": "stdout",
     "output_type": "stream",
     "text": [
      "\r",
      "[###########                             ] | 29% Completed | 58.16 s"
     ]
    },
    {
     "name": "stdout",
     "output_type": "stream",
     "text": [
      "\r",
      "[###########                             ] | 29% Completed | 58.26 s"
     ]
    },
    {
     "name": "stdout",
     "output_type": "stream",
     "text": [
      "\r",
      "[###########                             ] | 29% Completed | 58.37 s"
     ]
    },
    {
     "name": "stdout",
     "output_type": "stream",
     "text": [
      "\r",
      "[###########                             ] | 29% Completed | 58.47 s"
     ]
    },
    {
     "name": "stdout",
     "output_type": "stream",
     "text": [
      "\r",
      "[###########                             ] | 29% Completed | 58.57 s"
     ]
    },
    {
     "name": "stdout",
     "output_type": "stream",
     "text": [
      "\r",
      "[###########                             ] | 29% Completed | 58.68 s"
     ]
    },
    {
     "name": "stdout",
     "output_type": "stream",
     "text": [
      "\r",
      "[###########                             ] | 29% Completed | 58.78 s"
     ]
    },
    {
     "name": "stdout",
     "output_type": "stream",
     "text": [
      "\r",
      "[###########                             ] | 29% Completed | 58.88 s"
     ]
    },
    {
     "name": "stdout",
     "output_type": "stream",
     "text": [
      "\r",
      "[###########                             ] | 29% Completed | 58.98 s"
     ]
    },
    {
     "name": "stdout",
     "output_type": "stream",
     "text": [
      "\r",
      "[###########                             ] | 29% Completed | 59.08 s"
     ]
    },
    {
     "name": "stdout",
     "output_type": "stream",
     "text": [
      "\r",
      "[###########                             ] | 29% Completed | 59.18 s"
     ]
    },
    {
     "name": "stdout",
     "output_type": "stream",
     "text": [
      "\r",
      "[###########                             ] | 29% Completed | 59.28 s"
     ]
    },
    {
     "name": "stdout",
     "output_type": "stream",
     "text": [
      "\r",
      "[###########                             ] | 29% Completed | 59.39 s"
     ]
    },
    {
     "name": "stdout",
     "output_type": "stream",
     "text": [
      "\r",
      "[###########                             ] | 29% Completed | 59.49 s"
     ]
    },
    {
     "name": "stdout",
     "output_type": "stream",
     "text": [
      "\r",
      "[###########                             ] | 29% Completed | 59.59 s"
     ]
    },
    {
     "name": "stdout",
     "output_type": "stream",
     "text": [
      "\r",
      "[###########                             ] | 29% Completed | 59.69 s"
     ]
    },
    {
     "name": "stdout",
     "output_type": "stream",
     "text": [
      "\r",
      "[############                            ] | 30% Completed | 59.79 s"
     ]
    },
    {
     "name": "stdout",
     "output_type": "stream",
     "text": [
      "\r",
      "[############                            ] | 30% Completed | 59.90 s"
     ]
    },
    {
     "name": "stdout",
     "output_type": "stream",
     "text": [
      "\r",
      "[############                            ] | 30% Completed | 60.00 s"
     ]
    },
    {
     "name": "stdout",
     "output_type": "stream",
     "text": [
      "\r",
      "[############                            ] | 30% Completed | 60.10 s"
     ]
    },
    {
     "name": "stdout",
     "output_type": "stream",
     "text": [
      "\r",
      "[############                            ] | 30% Completed | 60.20 s"
     ]
    },
    {
     "name": "stdout",
     "output_type": "stream",
     "text": [
      "\r",
      "[############                            ] | 30% Completed | 60.30 s"
     ]
    },
    {
     "name": "stdout",
     "output_type": "stream",
     "text": [
      "\r",
      "[############                            ] | 30% Completed | 60.41 s"
     ]
    },
    {
     "name": "stdout",
     "output_type": "stream",
     "text": [
      "\r",
      "[############                            ] | 30% Completed | 60.51 s"
     ]
    },
    {
     "name": "stdout",
     "output_type": "stream",
     "text": [
      "\r",
      "[############                            ] | 30% Completed | 60.61 s"
     ]
    },
    {
     "name": "stdout",
     "output_type": "stream",
     "text": [
      "\r",
      "[############                            ] | 30% Completed | 60.71 s"
     ]
    },
    {
     "name": "stdout",
     "output_type": "stream",
     "text": [
      "\r",
      "[############                            ] | 30% Completed | 60.82 s"
     ]
    },
    {
     "name": "stdout",
     "output_type": "stream",
     "text": [
      "\r",
      "[############                            ] | 30% Completed | 60.92 s"
     ]
    },
    {
     "name": "stdout",
     "output_type": "stream",
     "text": [
      "\r",
      "[############                            ] | 30% Completed | 61.02 s"
     ]
    },
    {
     "name": "stdout",
     "output_type": "stream",
     "text": [
      "\r",
      "[############                            ] | 30% Completed | 61.12 s"
     ]
    },
    {
     "name": "stdout",
     "output_type": "stream",
     "text": [
      "\r",
      "[############                            ] | 30% Completed | 61.22 s"
     ]
    },
    {
     "name": "stdout",
     "output_type": "stream",
     "text": [
      "\r",
      "[############                            ] | 30% Completed | 61.33 s"
     ]
    },
    {
     "name": "stdout",
     "output_type": "stream",
     "text": [
      "\r",
      "[############                            ] | 30% Completed | 61.43 s"
     ]
    },
    {
     "name": "stdout",
     "output_type": "stream",
     "text": [
      "\r",
      "[############                            ] | 31% Completed | 61.54 s"
     ]
    },
    {
     "name": "stdout",
     "output_type": "stream",
     "text": [
      "\r",
      "[############                            ] | 31% Completed | 61.64 s"
     ]
    },
    {
     "name": "stdout",
     "output_type": "stream",
     "text": [
      "\r",
      "[############                            ] | 31% Completed | 61.75 s"
     ]
    },
    {
     "name": "stdout",
     "output_type": "stream",
     "text": [
      "\r",
      "[############                            ] | 31% Completed | 61.85 s"
     ]
    },
    {
     "name": "stdout",
     "output_type": "stream",
     "text": [
      "\r",
      "[############                            ] | 31% Completed | 61.95 s"
     ]
    },
    {
     "name": "stdout",
     "output_type": "stream",
     "text": [
      "\r",
      "[############                            ] | 31% Completed | 62.05 s"
     ]
    },
    {
     "name": "stdout",
     "output_type": "stream",
     "text": [
      "\r",
      "[############                            ] | 31% Completed | 62.15 s"
     ]
    },
    {
     "name": "stdout",
     "output_type": "stream",
     "text": [
      "\r",
      "[############                            ] | 31% Completed | 62.26 s"
     ]
    },
    {
     "name": "stdout",
     "output_type": "stream",
     "text": [
      "\r",
      "[############                            ] | 31% Completed | 62.36 s"
     ]
    },
    {
     "name": "stdout",
     "output_type": "stream",
     "text": [
      "\r",
      "[############                            ] | 31% Completed | 62.46 s"
     ]
    },
    {
     "name": "stdout",
     "output_type": "stream",
     "text": [
      "\r",
      "[############                            ] | 31% Completed | 62.56 s"
     ]
    },
    {
     "name": "stdout",
     "output_type": "stream",
     "text": [
      "\r",
      "[############                            ] | 31% Completed | 62.67 s"
     ]
    },
    {
     "name": "stdout",
     "output_type": "stream",
     "text": [
      "\r",
      "[############                            ] | 31% Completed | 62.77 s"
     ]
    },
    {
     "name": "stdout",
     "output_type": "stream",
     "text": [
      "\r",
      "[############                            ] | 31% Completed | 62.87 s"
     ]
    },
    {
     "name": "stdout",
     "output_type": "stream",
     "text": [
      "\r",
      "[############                            ] | 31% Completed | 62.98 s"
     ]
    },
    {
     "name": "stdout",
     "output_type": "stream",
     "text": [
      "\r",
      "[############                            ] | 31% Completed | 63.08 s"
     ]
    },
    {
     "name": "stdout",
     "output_type": "stream",
     "text": [
      "\r",
      "[############                            ] | 32% Completed | 63.18 s"
     ]
    },
    {
     "name": "stdout",
     "output_type": "stream",
     "text": [
      "\r",
      "[############                            ] | 32% Completed | 63.28 s"
     ]
    },
    {
     "name": "stdout",
     "output_type": "stream",
     "text": [
      "\r",
      "[############                            ] | 32% Completed | 63.38 s"
     ]
    },
    {
     "name": "stdout",
     "output_type": "stream",
     "text": [
      "\r",
      "[############                            ] | 32% Completed | 63.48 s"
     ]
    },
    {
     "name": "stdout",
     "output_type": "stream",
     "text": [
      "\r",
      "[############                            ] | 32% Completed | 63.58 s"
     ]
    },
    {
     "name": "stdout",
     "output_type": "stream",
     "text": [
      "\r",
      "[############                            ] | 32% Completed | 63.68 s"
     ]
    },
    {
     "name": "stdout",
     "output_type": "stream",
     "text": [
      "\r",
      "[############                            ] | 32% Completed | 63.79 s"
     ]
    },
    {
     "name": "stdout",
     "output_type": "stream",
     "text": [
      "\r",
      "[############                            ] | 32% Completed | 63.89 s"
     ]
    },
    {
     "name": "stdout",
     "output_type": "stream",
     "text": [
      "\r",
      "[############                            ] | 32% Completed | 63.99 s"
     ]
    },
    {
     "name": "stdout",
     "output_type": "stream",
     "text": [
      "\r",
      "[############                            ] | 32% Completed | 64.09 s"
     ]
    },
    {
     "name": "stdout",
     "output_type": "stream",
     "text": [
      "\r",
      "[############                            ] | 32% Completed | 64.19 s"
     ]
    },
    {
     "name": "stdout",
     "output_type": "stream",
     "text": [
      "\r",
      "[############                            ] | 32% Completed | 64.29 s"
     ]
    },
    {
     "name": "stdout",
     "output_type": "stream",
     "text": [
      "\r",
      "[############                            ] | 32% Completed | 64.40 s"
     ]
    },
    {
     "name": "stdout",
     "output_type": "stream",
     "text": [
      "\r",
      "[#############                           ] | 32% Completed | 64.50 s"
     ]
    },
    {
     "name": "stdout",
     "output_type": "stream",
     "text": [
      "\r",
      "[#############                           ] | 32% Completed | 64.60 s"
     ]
    },
    {
     "name": "stdout",
     "output_type": "stream",
     "text": [
      "\r",
      "[#############                           ] | 32% Completed | 64.70 s"
     ]
    },
    {
     "name": "stdout",
     "output_type": "stream",
     "text": [
      "\r",
      "[#############                           ] | 32% Completed | 64.80 s"
     ]
    },
    {
     "name": "stdout",
     "output_type": "stream",
     "text": [
      "\r",
      "[#############                           ] | 32% Completed | 64.91 s"
     ]
    },
    {
     "name": "stdout",
     "output_type": "stream",
     "text": [
      "\r",
      "[#############                           ] | 32% Completed | 65.01 s"
     ]
    },
    {
     "name": "stdout",
     "output_type": "stream",
     "text": [
      "\r",
      "[#############                           ] | 32% Completed | 65.11 s"
     ]
    },
    {
     "name": "stdout",
     "output_type": "stream",
     "text": [
      "\r",
      "[#############                           ] | 32% Completed | 65.21 s"
     ]
    },
    {
     "name": "stdout",
     "output_type": "stream",
     "text": [
      "\r",
      "[#############                           ] | 32% Completed | 65.32 s"
     ]
    },
    {
     "name": "stdout",
     "output_type": "stream",
     "text": [
      "\r",
      "[#############                           ] | 32% Completed | 65.42 s"
     ]
    },
    {
     "name": "stdout",
     "output_type": "stream",
     "text": [
      "\r",
      "[#############                           ] | 33% Completed | 65.52 s"
     ]
    },
    {
     "name": "stdout",
     "output_type": "stream",
     "text": [
      "\r",
      "[#############                           ] | 33% Completed | 65.62 s"
     ]
    },
    {
     "name": "stdout",
     "output_type": "stream",
     "text": [
      "\r",
      "[#############                           ] | 33% Completed | 65.72 s"
     ]
    },
    {
     "name": "stdout",
     "output_type": "stream",
     "text": [
      "\r",
      "[#############                           ] | 33% Completed | 65.82 s"
     ]
    },
    {
     "name": "stdout",
     "output_type": "stream",
     "text": [
      "\r",
      "[#############                           ] | 33% Completed | 65.93 s"
     ]
    },
    {
     "name": "stdout",
     "output_type": "stream",
     "text": [
      "\r",
      "[#############                           ] | 33% Completed | 66.03 s"
     ]
    },
    {
     "name": "stdout",
     "output_type": "stream",
     "text": [
      "\r",
      "[#############                           ] | 33% Completed | 66.13 s"
     ]
    },
    {
     "name": "stdout",
     "output_type": "stream",
     "text": [
      "\r",
      "[#############                           ] | 33% Completed | 66.23 s"
     ]
    },
    {
     "name": "stdout",
     "output_type": "stream",
     "text": [
      "\r",
      "[#############                           ] | 33% Completed | 66.34 s"
     ]
    },
    {
     "name": "stdout",
     "output_type": "stream",
     "text": [
      "\r",
      "[#############                           ] | 33% Completed | 66.44 s"
     ]
    },
    {
     "name": "stdout",
     "output_type": "stream",
     "text": [
      "\r",
      "[#############                           ] | 33% Completed | 66.54 s"
     ]
    },
    {
     "name": "stdout",
     "output_type": "stream",
     "text": [
      "\r",
      "[#############                           ] | 33% Completed | 66.64 s"
     ]
    },
    {
     "name": "stdout",
     "output_type": "stream",
     "text": [
      "\r",
      "[#############                           ] | 33% Completed | 66.75 s"
     ]
    },
    {
     "name": "stdout",
     "output_type": "stream",
     "text": [
      "\r",
      "[#############                           ] | 33% Completed | 66.85 s"
     ]
    },
    {
     "name": "stdout",
     "output_type": "stream",
     "text": [
      "\r",
      "[#############                           ] | 33% Completed | 66.95 s"
     ]
    },
    {
     "name": "stdout",
     "output_type": "stream",
     "text": [
      "\r",
      "[#############                           ] | 33% Completed | 67.05 s"
     ]
    },
    {
     "name": "stdout",
     "output_type": "stream",
     "text": [
      "\r",
      "[#############                           ] | 33% Completed | 67.15 s"
     ]
    },
    {
     "name": "stdout",
     "output_type": "stream",
     "text": [
      "\r",
      "[#############                           ] | 33% Completed | 67.26 s"
     ]
    },
    {
     "name": "stdout",
     "output_type": "stream",
     "text": [
      "\r",
      "[#############                           ] | 33% Completed | 67.36 s"
     ]
    },
    {
     "name": "stdout",
     "output_type": "stream",
     "text": [
      "\r",
      "[#############                           ] | 33% Completed | 67.46 s"
     ]
    },
    {
     "name": "stdout",
     "output_type": "stream",
     "text": [
      "\r",
      "[#############                           ] | 34% Completed | 67.56 s"
     ]
    },
    {
     "name": "stdout",
     "output_type": "stream",
     "text": [
      "\r",
      "[#############                           ] | 34% Completed | 67.66 s"
     ]
    },
    {
     "name": "stdout",
     "output_type": "stream",
     "text": [
      "\r",
      "[#############                           ] | 34% Completed | 67.77 s"
     ]
    },
    {
     "name": "stdout",
     "output_type": "stream",
     "text": [
      "\r",
      "[#############                           ] | 34% Completed | 67.87 s"
     ]
    },
    {
     "name": "stdout",
     "output_type": "stream",
     "text": [
      "\r",
      "[#############                           ] | 34% Completed | 67.97 s"
     ]
    },
    {
     "name": "stdout",
     "output_type": "stream",
     "text": [
      "\r",
      "[#############                           ] | 34% Completed | 68.07 s"
     ]
    },
    {
     "name": "stdout",
     "output_type": "stream",
     "text": [
      "\r",
      "[#############                           ] | 34% Completed | 68.17 s"
     ]
    },
    {
     "name": "stdout",
     "output_type": "stream",
     "text": [
      "\r",
      "[#############                           ] | 34% Completed | 68.27 s"
     ]
    },
    {
     "name": "stdout",
     "output_type": "stream",
     "text": [
      "\r",
      "[#############                           ] | 34% Completed | 68.38 s"
     ]
    },
    {
     "name": "stdout",
     "output_type": "stream",
     "text": [
      "\r",
      "[#############                           ] | 34% Completed | 68.48 s"
     ]
    },
    {
     "name": "stdout",
     "output_type": "stream",
     "text": [
      "\r",
      "[#############                           ] | 34% Completed | 68.58 s"
     ]
    },
    {
     "name": "stdout",
     "output_type": "stream",
     "text": [
      "\r",
      "[#############                           ] | 34% Completed | 68.68 s"
     ]
    },
    {
     "name": "stdout",
     "output_type": "stream",
     "text": [
      "\r",
      "[#############                           ] | 34% Completed | 68.78 s"
     ]
    },
    {
     "name": "stdout",
     "output_type": "stream",
     "text": [
      "\r",
      "[#############                           ] | 34% Completed | 68.88 s"
     ]
    },
    {
     "name": "stdout",
     "output_type": "stream",
     "text": [
      "\r",
      "[#############                           ] | 34% Completed | 68.99 s"
     ]
    },
    {
     "name": "stdout",
     "output_type": "stream",
     "text": [
      "\r",
      "[#############                           ] | 34% Completed | 69.09 s"
     ]
    },
    {
     "name": "stdout",
     "output_type": "stream",
     "text": [
      "\r",
      "[#############                           ] | 34% Completed | 69.19 s"
     ]
    },
    {
     "name": "stdout",
     "output_type": "stream",
     "text": [
      "\r",
      "[#############                           ] | 34% Completed | 69.29 s"
     ]
    },
    {
     "name": "stdout",
     "output_type": "stream",
     "text": [
      "\r",
      "[##############                          ] | 35% Completed | 69.40 s"
     ]
    },
    {
     "name": "stdout",
     "output_type": "stream",
     "text": [
      "\r",
      "[##############                          ] | 35% Completed | 69.50 s"
     ]
    },
    {
     "name": "stdout",
     "output_type": "stream",
     "text": [
      "\r",
      "[##############                          ] | 35% Completed | 69.60 s"
     ]
    },
    {
     "name": "stdout",
     "output_type": "stream",
     "text": [
      "\r",
      "[##############                          ] | 35% Completed | 69.71 s"
     ]
    },
    {
     "name": "stdout",
     "output_type": "stream",
     "text": [
      "\r",
      "[##############                          ] | 35% Completed | 69.81 s"
     ]
    },
    {
     "name": "stdout",
     "output_type": "stream",
     "text": [
      "\r",
      "[##############                          ] | 35% Completed | 69.91 s"
     ]
    },
    {
     "name": "stdout",
     "output_type": "stream",
     "text": [
      "\r",
      "[##############                          ] | 35% Completed | 70.01 s"
     ]
    },
    {
     "name": "stdout",
     "output_type": "stream",
     "text": [
      "\r",
      "[##############                          ] | 35% Completed | 70.12 s"
     ]
    },
    {
     "name": "stdout",
     "output_type": "stream",
     "text": [
      "\r",
      "[##############                          ] | 35% Completed | 70.22 s"
     ]
    },
    {
     "name": "stdout",
     "output_type": "stream",
     "text": [
      "\r",
      "[##############                          ] | 35% Completed | 70.32 s"
     ]
    },
    {
     "name": "stdout",
     "output_type": "stream",
     "text": [
      "\r",
      "[##############                          ] | 35% Completed | 70.42 s"
     ]
    },
    {
     "name": "stdout",
     "output_type": "stream",
     "text": [
      "\r",
      "[##############                          ] | 35% Completed | 70.53 s"
     ]
    },
    {
     "name": "stdout",
     "output_type": "stream",
     "text": [
      "\r",
      "[##############                          ] | 35% Completed | 70.63 s"
     ]
    },
    {
     "name": "stdout",
     "output_type": "stream",
     "text": [
      "\r",
      "[##############                          ] | 35% Completed | 70.73 s"
     ]
    },
    {
     "name": "stdout",
     "output_type": "stream",
     "text": [
      "\r",
      "[##############                          ] | 35% Completed | 70.83 s"
     ]
    },
    {
     "name": "stdout",
     "output_type": "stream",
     "text": [
      "\r",
      "[##############                          ] | 35% Completed | 70.93 s"
     ]
    },
    {
     "name": "stdout",
     "output_type": "stream",
     "text": [
      "\r",
      "[##############                          ] | 35% Completed | 71.03 s"
     ]
    },
    {
     "name": "stdout",
     "output_type": "stream",
     "text": [
      "\r",
      "[##############                          ] | 35% Completed | 71.14 s"
     ]
    },
    {
     "name": "stdout",
     "output_type": "stream",
     "text": [
      "\r",
      "[##############                          ] | 35% Completed | 71.24 s"
     ]
    },
    {
     "name": "stdout",
     "output_type": "stream",
     "text": [
      "\r",
      "[##############                          ] | 35% Completed | 71.34 s"
     ]
    },
    {
     "name": "stdout",
     "output_type": "stream",
     "text": [
      "\r",
      "[##############                          ] | 35% Completed | 71.44 s"
     ]
    },
    {
     "name": "stdout",
     "output_type": "stream",
     "text": [
      "\r",
      "[##############                          ] | 35% Completed | 71.55 s"
     ]
    },
    {
     "name": "stdout",
     "output_type": "stream",
     "text": [
      "\r",
      "[##############                          ] | 35% Completed | 71.65 s"
     ]
    },
    {
     "name": "stdout",
     "output_type": "stream",
     "text": [
      "\r",
      "[##############                          ] | 35% Completed | 71.75 s"
     ]
    },
    {
     "name": "stdout",
     "output_type": "stream",
     "text": [
      "\r",
      "[##############                          ] | 36% Completed | 71.85 s"
     ]
    },
    {
     "name": "stdout",
     "output_type": "stream",
     "text": [
      "\r",
      "[##############                          ] | 36% Completed | 71.96 s"
     ]
    },
    {
     "name": "stdout",
     "output_type": "stream",
     "text": [
      "\r",
      "[##############                          ] | 36% Completed | 72.06 s"
     ]
    },
    {
     "name": "stdout",
     "output_type": "stream",
     "text": [
      "\r",
      "[##############                          ] | 36% Completed | 72.16 s"
     ]
    },
    {
     "name": "stdout",
     "output_type": "stream",
     "text": [
      "\r",
      "[##############                          ] | 36% Completed | 72.26 s"
     ]
    },
    {
     "name": "stdout",
     "output_type": "stream",
     "text": [
      "\r",
      "[##############                          ] | 36% Completed | 72.36 s"
     ]
    },
    {
     "name": "stdout",
     "output_type": "stream",
     "text": [
      "\r",
      "[##############                          ] | 36% Completed | 72.47 s"
     ]
    },
    {
     "name": "stdout",
     "output_type": "stream",
     "text": [
      "\r",
      "[##############                          ] | 36% Completed | 72.57 s"
     ]
    },
    {
     "name": "stdout",
     "output_type": "stream",
     "text": [
      "\r",
      "[##############                          ] | 36% Completed | 72.67 s"
     ]
    },
    {
     "name": "stdout",
     "output_type": "stream",
     "text": [
      "\r",
      "[##############                          ] | 36% Completed | 72.77 s"
     ]
    },
    {
     "name": "stdout",
     "output_type": "stream",
     "text": [
      "\r",
      "[##############                          ] | 36% Completed | 72.88 s"
     ]
    },
    {
     "name": "stdout",
     "output_type": "stream",
     "text": [
      "\r",
      "[##############                          ] | 36% Completed | 72.98 s"
     ]
    },
    {
     "name": "stdout",
     "output_type": "stream",
     "text": [
      "\r",
      "[##############                          ] | 36% Completed | 73.08 s"
     ]
    },
    {
     "name": "stdout",
     "output_type": "stream",
     "text": [
      "\r",
      "[##############                          ] | 36% Completed | 73.19 s"
     ]
    },
    {
     "name": "stdout",
     "output_type": "stream",
     "text": [
      "\r",
      "[##############                          ] | 36% Completed | 73.29 s"
     ]
    },
    {
     "name": "stdout",
     "output_type": "stream",
     "text": [
      "\r",
      "[##############                          ] | 36% Completed | 73.39 s"
     ]
    },
    {
     "name": "stdout",
     "output_type": "stream",
     "text": [
      "\r",
      "[##############                          ] | 36% Completed | 73.49 s"
     ]
    },
    {
     "name": "stdout",
     "output_type": "stream",
     "text": [
      "\r",
      "[##############                          ] | 37% Completed | 73.59 s"
     ]
    },
    {
     "name": "stdout",
     "output_type": "stream",
     "text": [
      "\r",
      "[##############                          ] | 37% Completed | 73.70 s"
     ]
    },
    {
     "name": "stdout",
     "output_type": "stream",
     "text": [
      "\r",
      "[##############                          ] | 37% Completed | 73.80 s"
     ]
    },
    {
     "name": "stdout",
     "output_type": "stream",
     "text": [
      "\r",
      "[##############                          ] | 37% Completed | 73.90 s"
     ]
    },
    {
     "name": "stdout",
     "output_type": "stream",
     "text": [
      "\r",
      "[##############                          ] | 37% Completed | 74.00 s"
     ]
    },
    {
     "name": "stdout",
     "output_type": "stream",
     "text": [
      "\r",
      "[##############                          ] | 37% Completed | 74.11 s"
     ]
    },
    {
     "name": "stdout",
     "output_type": "stream",
     "text": [
      "\r",
      "[##############                          ] | 37% Completed | 74.21 s"
     ]
    },
    {
     "name": "stdout",
     "output_type": "stream",
     "text": [
      "\r",
      "[##############                          ] | 37% Completed | 74.31 s"
     ]
    },
    {
     "name": "stdout",
     "output_type": "stream",
     "text": [
      "\r",
      "[##############                          ] | 37% Completed | 74.41 s"
     ]
    },
    {
     "name": "stdout",
     "output_type": "stream",
     "text": [
      "\r",
      "[##############                          ] | 37% Completed | 74.52 s"
     ]
    },
    {
     "name": "stdout",
     "output_type": "stream",
     "text": [
      "\r",
      "[###############                         ] | 37% Completed | 74.62 s"
     ]
    },
    {
     "name": "stdout",
     "output_type": "stream",
     "text": [
      "\r",
      "[###############                         ] | 37% Completed | 74.72 s"
     ]
    },
    {
     "name": "stdout",
     "output_type": "stream",
     "text": [
      "\r",
      "[###############                         ] | 37% Completed | 74.82 s"
     ]
    },
    {
     "name": "stdout",
     "output_type": "stream",
     "text": [
      "\r",
      "[###############                         ] | 37% Completed | 74.92 s"
     ]
    },
    {
     "name": "stdout",
     "output_type": "stream",
     "text": [
      "\r",
      "[###############                         ] | 37% Completed | 75.03 s"
     ]
    },
    {
     "name": "stdout",
     "output_type": "stream",
     "text": [
      "\r",
      "[###############                         ] | 37% Completed | 75.13 s"
     ]
    },
    {
     "name": "stdout",
     "output_type": "stream",
     "text": [
      "\r",
      "[###############                         ] | 37% Completed | 75.23 s"
     ]
    },
    {
     "name": "stdout",
     "output_type": "stream",
     "text": [
      "\r",
      "[###############                         ] | 38% Completed | 75.33 s"
     ]
    },
    {
     "name": "stdout",
     "output_type": "stream",
     "text": [
      "\r",
      "[###############                         ] | 38% Completed | 75.44 s"
     ]
    },
    {
     "name": "stdout",
     "output_type": "stream",
     "text": [
      "\r",
      "[###############                         ] | 38% Completed | 75.54 s"
     ]
    },
    {
     "name": "stdout",
     "output_type": "stream",
     "text": [
      "\r",
      "[###############                         ] | 38% Completed | 75.64 s"
     ]
    },
    {
     "name": "stdout",
     "output_type": "stream",
     "text": [
      "\r",
      "[###############                         ] | 38% Completed | 75.74 s"
     ]
    },
    {
     "name": "stdout",
     "output_type": "stream",
     "text": [
      "\r",
      "[###############                         ] | 38% Completed | 75.84 s"
     ]
    },
    {
     "name": "stdout",
     "output_type": "stream",
     "text": [
      "\r",
      "[###############                         ] | 38% Completed | 75.94 s"
     ]
    },
    {
     "name": "stdout",
     "output_type": "stream",
     "text": [
      "\r",
      "[###############                         ] | 38% Completed | 76.05 s"
     ]
    },
    {
     "name": "stdout",
     "output_type": "stream",
     "text": [
      "\r",
      "[###############                         ] | 38% Completed | 76.15 s"
     ]
    },
    {
     "name": "stdout",
     "output_type": "stream",
     "text": [
      "\r",
      "[###############                         ] | 38% Completed | 76.25 s"
     ]
    },
    {
     "name": "stdout",
     "output_type": "stream",
     "text": [
      "\r",
      "[###############                         ] | 38% Completed | 76.35 s"
     ]
    },
    {
     "name": "stdout",
     "output_type": "stream",
     "text": [
      "\r",
      "[###############                         ] | 38% Completed | 76.45 s"
     ]
    },
    {
     "name": "stdout",
     "output_type": "stream",
     "text": [
      "\r",
      "[###############                         ] | 38% Completed | 76.56 s"
     ]
    },
    {
     "name": "stdout",
     "output_type": "stream",
     "text": [
      "\r",
      "[###############                         ] | 38% Completed | 76.66 s"
     ]
    },
    {
     "name": "stdout",
     "output_type": "stream",
     "text": [
      "\r",
      "[###############                         ] | 38% Completed | 76.76 s"
     ]
    },
    {
     "name": "stdout",
     "output_type": "stream",
     "text": [
      "\r",
      "[###############                         ] | 38% Completed | 76.86 s"
     ]
    },
    {
     "name": "stdout",
     "output_type": "stream",
     "text": [
      "\r",
      "[###############                         ] | 39% Completed | 76.96 s"
     ]
    },
    {
     "name": "stdout",
     "output_type": "stream",
     "text": [
      "\r",
      "[###############                         ] | 39% Completed | 77.07 s"
     ]
    },
    {
     "name": "stdout",
     "output_type": "stream",
     "text": [
      "\r",
      "[###############                         ] | 39% Completed | 77.17 s"
     ]
    },
    {
     "name": "stdout",
     "output_type": "stream",
     "text": [
      "\r",
      "[###############                         ] | 39% Completed | 77.27 s"
     ]
    },
    {
     "name": "stdout",
     "output_type": "stream",
     "text": [
      "\r",
      "[###############                         ] | 39% Completed | 77.37 s"
     ]
    },
    {
     "name": "stdout",
     "output_type": "stream",
     "text": [
      "\r",
      "[###############                         ] | 39% Completed | 77.48 s"
     ]
    },
    {
     "name": "stdout",
     "output_type": "stream",
     "text": [
      "\r",
      "[###############                         ] | 39% Completed | 77.58 s"
     ]
    },
    {
     "name": "stdout",
     "output_type": "stream",
     "text": [
      "\r",
      "[###############                         ] | 39% Completed | 77.68 s"
     ]
    },
    {
     "name": "stdout",
     "output_type": "stream",
     "text": [
      "\r",
      "[###############                         ] | 39% Completed | 77.79 s"
     ]
    },
    {
     "name": "stdout",
     "output_type": "stream",
     "text": [
      "\r",
      "[###############                         ] | 39% Completed | 77.89 s"
     ]
    },
    {
     "name": "stdout",
     "output_type": "stream",
     "text": [
      "\r",
      "[###############                         ] | 39% Completed | 77.99 s"
     ]
    },
    {
     "name": "stdout",
     "output_type": "stream",
     "text": [
      "\r",
      "[###############                         ] | 39% Completed | 78.09 s"
     ]
    },
    {
     "name": "stdout",
     "output_type": "stream",
     "text": [
      "\r",
      "[###############                         ] | 39% Completed | 78.20 s"
     ]
    },
    {
     "name": "stdout",
     "output_type": "stream",
     "text": [
      "\r",
      "[###############                         ] | 39% Completed | 78.30 s"
     ]
    },
    {
     "name": "stdout",
     "output_type": "stream",
     "text": [
      "\r",
      "[###############                         ] | 39% Completed | 78.40 s"
     ]
    },
    {
     "name": "stdout",
     "output_type": "stream",
     "text": [
      "\r",
      "[###############                         ] | 39% Completed | 78.50 s"
     ]
    },
    {
     "name": "stdout",
     "output_type": "stream",
     "text": [
      "\r",
      "[###############                         ] | 39% Completed | 78.60 s"
     ]
    },
    {
     "name": "stdout",
     "output_type": "stream",
     "text": [
      "\r",
      "[###############                         ] | 39% Completed | 78.71 s"
     ]
    },
    {
     "name": "stdout",
     "output_type": "stream",
     "text": [
      "\r",
      "[################                        ] | 40% Completed | 78.81 s"
     ]
    },
    {
     "name": "stdout",
     "output_type": "stream",
     "text": [
      "\r",
      "[################                        ] | 40% Completed | 78.91 s"
     ]
    },
    {
     "name": "stdout",
     "output_type": "stream",
     "text": [
      "\r",
      "[################                        ] | 40% Completed | 79.01 s"
     ]
    },
    {
     "name": "stdout",
     "output_type": "stream",
     "text": [
      "\r",
      "[################                        ] | 40% Completed | 79.11 s"
     ]
    },
    {
     "name": "stdout",
     "output_type": "stream",
     "text": [
      "\r",
      "[################                        ] | 40% Completed | 79.22 s"
     ]
    },
    {
     "name": "stdout",
     "output_type": "stream",
     "text": [
      "\r",
      "[################                        ] | 40% Completed | 79.32 s"
     ]
    },
    {
     "name": "stdout",
     "output_type": "stream",
     "text": [
      "\r",
      "[################                        ] | 40% Completed | 79.42 s"
     ]
    },
    {
     "name": "stdout",
     "output_type": "stream",
     "text": [
      "\r",
      "[################                        ] | 40% Completed | 79.52 s"
     ]
    },
    {
     "name": "stdout",
     "output_type": "stream",
     "text": [
      "\r",
      "[################                        ] | 40% Completed | 79.62 s"
     ]
    },
    {
     "name": "stdout",
     "output_type": "stream",
     "text": [
      "\r",
      "[################                        ] | 40% Completed | 79.72 s"
     ]
    },
    {
     "name": "stdout",
     "output_type": "stream",
     "text": [
      "\r",
      "[################                        ] | 40% Completed | 79.83 s"
     ]
    },
    {
     "name": "stdout",
     "output_type": "stream",
     "text": [
      "\r",
      "[################                        ] | 40% Completed | 79.93 s"
     ]
    },
    {
     "name": "stdout",
     "output_type": "stream",
     "text": [
      "\r",
      "[################                        ] | 40% Completed | 80.03 s"
     ]
    },
    {
     "name": "stdout",
     "output_type": "stream",
     "text": [
      "\r",
      "[################                        ] | 40% Completed | 80.13 s"
     ]
    },
    {
     "name": "stdout",
     "output_type": "stream",
     "text": [
      "\r",
      "[################                        ] | 40% Completed | 80.23 s"
     ]
    },
    {
     "name": "stdout",
     "output_type": "stream",
     "text": [
      "\r",
      "[################                        ] | 40% Completed | 80.33 s"
     ]
    },
    {
     "name": "stdout",
     "output_type": "stream",
     "text": [
      "\r",
      "[################                        ] | 40% Completed | 80.44 s"
     ]
    },
    {
     "name": "stdout",
     "output_type": "stream",
     "text": [
      "\r",
      "[################                        ] | 41% Completed | 80.54 s"
     ]
    },
    {
     "name": "stdout",
     "output_type": "stream",
     "text": [
      "\r",
      "[################                        ] | 41% Completed | 80.64 s"
     ]
    },
    {
     "name": "stdout",
     "output_type": "stream",
     "text": [
      "\r",
      "[################                        ] | 41% Completed | 80.74 s"
     ]
    },
    {
     "name": "stdout",
     "output_type": "stream",
     "text": [
      "\r",
      "[################                        ] | 41% Completed | 80.84 s"
     ]
    },
    {
     "name": "stdout",
     "output_type": "stream",
     "text": [
      "\r",
      "[################                        ] | 41% Completed | 80.94 s"
     ]
    },
    {
     "name": "stdout",
     "output_type": "stream",
     "text": [
      "\r",
      "[################                        ] | 41% Completed | 81.04 s"
     ]
    },
    {
     "name": "stdout",
     "output_type": "stream",
     "text": [
      "\r",
      "[################                        ] | 41% Completed | 81.15 s"
     ]
    },
    {
     "name": "stdout",
     "output_type": "stream",
     "text": [
      "\r",
      "[################                        ] | 41% Completed | 81.25 s"
     ]
    },
    {
     "name": "stdout",
     "output_type": "stream",
     "text": [
      "\r",
      "[################                        ] | 41% Completed | 81.35 s"
     ]
    },
    {
     "name": "stdout",
     "output_type": "stream",
     "text": [
      "\r",
      "[################                        ] | 41% Completed | 81.45 s"
     ]
    },
    {
     "name": "stdout",
     "output_type": "stream",
     "text": [
      "\r",
      "[################                        ] | 41% Completed | 81.55 s"
     ]
    },
    {
     "name": "stdout",
     "output_type": "stream",
     "text": [
      "\r",
      "[################                        ] | 41% Completed | 81.66 s"
     ]
    },
    {
     "name": "stdout",
     "output_type": "stream",
     "text": [
      "\r",
      "[################                        ] | 41% Completed | 81.76 s"
     ]
    },
    {
     "name": "stdout",
     "output_type": "stream",
     "text": [
      "\r",
      "[################                        ] | 41% Completed | 81.86 s"
     ]
    },
    {
     "name": "stdout",
     "output_type": "stream",
     "text": [
      "\r",
      "[################                        ] | 41% Completed | 81.96 s"
     ]
    },
    {
     "name": "stdout",
     "output_type": "stream",
     "text": [
      "\r",
      "[################                        ] | 41% Completed | 82.07 s"
     ]
    },
    {
     "name": "stdout",
     "output_type": "stream",
     "text": [
      "\r",
      "[################                        ] | 41% Completed | 82.17 s"
     ]
    },
    {
     "name": "stdout",
     "output_type": "stream",
     "text": [
      "\r",
      "[################                        ] | 41% Completed | 82.27 s"
     ]
    },
    {
     "name": "stdout",
     "output_type": "stream",
     "text": [
      "\r",
      "[################                        ] | 42% Completed | 82.37 s"
     ]
    },
    {
     "name": "stdout",
     "output_type": "stream",
     "text": [
      "\r",
      "[################                        ] | 42% Completed | 82.48 s"
     ]
    },
    {
     "name": "stdout",
     "output_type": "stream",
     "text": [
      "\r",
      "[################                        ] | 42% Completed | 82.58 s"
     ]
    },
    {
     "name": "stdout",
     "output_type": "stream",
     "text": [
      "\r",
      "[################                        ] | 42% Completed | 82.69 s"
     ]
    },
    {
     "name": "stdout",
     "output_type": "stream",
     "text": [
      "\r",
      "[################                        ] | 42% Completed | 82.79 s"
     ]
    },
    {
     "name": "stdout",
     "output_type": "stream",
     "text": [
      "\r",
      "[################                        ] | 42% Completed | 82.89 s"
     ]
    },
    {
     "name": "stdout",
     "output_type": "stream",
     "text": [
      "\r",
      "[################                        ] | 42% Completed | 82.99 s"
     ]
    },
    {
     "name": "stdout",
     "output_type": "stream",
     "text": [
      "\r",
      "[#################                       ] | 42% Completed | 83.09 s"
     ]
    },
    {
     "name": "stdout",
     "output_type": "stream",
     "text": [
      "\r",
      "[#################                       ] | 42% Completed | 83.20 s"
     ]
    },
    {
     "name": "stdout",
     "output_type": "stream",
     "text": [
      "\r",
      "[#################                       ] | 42% Completed | 83.30 s"
     ]
    },
    {
     "name": "stdout",
     "output_type": "stream",
     "text": [
      "\r",
      "[#################                       ] | 42% Completed | 83.40 s"
     ]
    },
    {
     "name": "stdout",
     "output_type": "stream",
     "text": [
      "\r",
      "[#################                       ] | 42% Completed | 83.50 s"
     ]
    },
    {
     "name": "stdout",
     "output_type": "stream",
     "text": [
      "\r",
      "[#################                       ] | 42% Completed | 83.60 s"
     ]
    },
    {
     "name": "stdout",
     "output_type": "stream",
     "text": [
      "\r",
      "[#################                       ] | 42% Completed | 83.71 s"
     ]
    },
    {
     "name": "stdout",
     "output_type": "stream",
     "text": [
      "\r",
      "[#################                       ] | 42% Completed | 83.81 s"
     ]
    },
    {
     "name": "stdout",
     "output_type": "stream",
     "text": [
      "\r",
      "[#################                       ] | 42% Completed | 83.91 s"
     ]
    },
    {
     "name": "stdout",
     "output_type": "stream",
     "text": [
      "\r",
      "[#################                       ] | 42% Completed | 84.01 s"
     ]
    },
    {
     "name": "stdout",
     "output_type": "stream",
     "text": [
      "\r",
      "[#################                       ] | 42% Completed | 84.11 s"
     ]
    },
    {
     "name": "stdout",
     "output_type": "stream",
     "text": [
      "\r",
      "[#################                       ] | 42% Completed | 84.22 s"
     ]
    },
    {
     "name": "stdout",
     "output_type": "stream",
     "text": [
      "\r",
      "[#################                       ] | 43% Completed | 84.32 s"
     ]
    },
    {
     "name": "stdout",
     "output_type": "stream",
     "text": [
      "\r",
      "[#################                       ] | 43% Completed | 84.42 s"
     ]
    },
    {
     "name": "stdout",
     "output_type": "stream",
     "text": [
      "\r",
      "[#################                       ] | 43% Completed | 84.52 s"
     ]
    },
    {
     "name": "stdout",
     "output_type": "stream",
     "text": [
      "\r",
      "[#################                       ] | 43% Completed | 84.63 s"
     ]
    },
    {
     "name": "stdout",
     "output_type": "stream",
     "text": [
      "\r",
      "[#################                       ] | 43% Completed | 84.73 s"
     ]
    },
    {
     "name": "stdout",
     "output_type": "stream",
     "text": [
      "\r",
      "[#################                       ] | 43% Completed | 84.83 s"
     ]
    },
    {
     "name": "stdout",
     "output_type": "stream",
     "text": [
      "\r",
      "[#################                       ] | 43% Completed | 84.93 s"
     ]
    },
    {
     "name": "stdout",
     "output_type": "stream",
     "text": [
      "\r",
      "[#################                       ] | 43% Completed | 85.04 s"
     ]
    },
    {
     "name": "stdout",
     "output_type": "stream",
     "text": [
      "\r",
      "[#################                       ] | 43% Completed | 85.14 s"
     ]
    },
    {
     "name": "stdout",
     "output_type": "stream",
     "text": [
      "\r",
      "[#################                       ] | 43% Completed | 85.24 s"
     ]
    },
    {
     "name": "stdout",
     "output_type": "stream",
     "text": [
      "\r",
      "[#################                       ] | 43% Completed | 85.34 s"
     ]
    },
    {
     "name": "stdout",
     "output_type": "stream",
     "text": [
      "\r",
      "[#################                       ] | 43% Completed | 85.45 s"
     ]
    },
    {
     "name": "stdout",
     "output_type": "stream",
     "text": [
      "\r",
      "[#################                       ] | 43% Completed | 85.55 s"
     ]
    },
    {
     "name": "stdout",
     "output_type": "stream",
     "text": [
      "\r",
      "[#################                       ] | 43% Completed | 85.65 s"
     ]
    },
    {
     "name": "stdout",
     "output_type": "stream",
     "text": [
      "\r",
      "[#################                       ] | 43% Completed | 85.75 s"
     ]
    },
    {
     "name": "stdout",
     "output_type": "stream",
     "text": [
      "\r",
      "[#################                       ] | 44% Completed | 85.86 s"
     ]
    },
    {
     "name": "stdout",
     "output_type": "stream",
     "text": [
      "\r",
      "[#################                       ] | 44% Completed | 85.96 s"
     ]
    },
    {
     "name": "stdout",
     "output_type": "stream",
     "text": [
      "\r",
      "[#################                       ] | 44% Completed | 86.06 s"
     ]
    },
    {
     "name": "stdout",
     "output_type": "stream",
     "text": [
      "\r",
      "[#################                       ] | 44% Completed | 86.16 s"
     ]
    },
    {
     "name": "stdout",
     "output_type": "stream",
     "text": [
      "\r",
      "[#################                       ] | 44% Completed | 86.27 s"
     ]
    },
    {
     "name": "stdout",
     "output_type": "stream",
     "text": [
      "\r",
      "[#################                       ] | 44% Completed | 86.37 s"
     ]
    },
    {
     "name": "stdout",
     "output_type": "stream",
     "text": [
      "\r",
      "[#################                       ] | 44% Completed | 86.47 s"
     ]
    },
    {
     "name": "stdout",
     "output_type": "stream",
     "text": [
      "\r",
      "[#################                       ] | 44% Completed | 86.57 s"
     ]
    },
    {
     "name": "stdout",
     "output_type": "stream",
     "text": [
      "\r",
      "[#################                       ] | 44% Completed | 86.67 s"
     ]
    },
    {
     "name": "stdout",
     "output_type": "stream",
     "text": [
      "\r",
      "[#################                       ] | 44% Completed | 86.78 s"
     ]
    },
    {
     "name": "stdout",
     "output_type": "stream",
     "text": [
      "\r",
      "[#################                       ] | 44% Completed | 86.88 s"
     ]
    },
    {
     "name": "stdout",
     "output_type": "stream",
     "text": [
      "\r",
      "[#################                       ] | 44% Completed | 86.98 s"
     ]
    },
    {
     "name": "stdout",
     "output_type": "stream",
     "text": [
      "\r",
      "[#################                       ] | 44% Completed | 87.08 s"
     ]
    },
    {
     "name": "stdout",
     "output_type": "stream",
     "text": [
      "\r",
      "[#################                       ] | 44% Completed | 87.18 s"
     ]
    },
    {
     "name": "stdout",
     "output_type": "stream",
     "text": [
      "\r",
      "[##################                      ] | 45% Completed | 87.28 s"
     ]
    },
    {
     "name": "stdout",
     "output_type": "stream",
     "text": [
      "\r",
      "[##################                      ] | 45% Completed | 87.39 s"
     ]
    },
    {
     "name": "stdout",
     "output_type": "stream",
     "text": [
      "\r",
      "[##################                      ] | 45% Completed | 87.49 s"
     ]
    },
    {
     "name": "stdout",
     "output_type": "stream",
     "text": [
      "\r",
      "[##################                      ] | 45% Completed | 87.59 s"
     ]
    },
    {
     "name": "stdout",
     "output_type": "stream",
     "text": [
      "\r",
      "[##################                      ] | 45% Completed | 87.70 s"
     ]
    },
    {
     "name": "stdout",
     "output_type": "stream",
     "text": [
      "\r",
      "[##################                      ] | 45% Completed | 87.80 s"
     ]
    },
    {
     "name": "stdout",
     "output_type": "stream",
     "text": [
      "\r",
      "[##################                      ] | 45% Completed | 87.90 s"
     ]
    },
    {
     "name": "stdout",
     "output_type": "stream",
     "text": [
      "\r",
      "[##################                      ] | 45% Completed | 88.00 s"
     ]
    },
    {
     "name": "stdout",
     "output_type": "stream",
     "text": [
      "\r",
      "[##################                      ] | 45% Completed | 88.10 s"
     ]
    },
    {
     "name": "stdout",
     "output_type": "stream",
     "text": [
      "\r",
      "[##################                      ] | 45% Completed | 88.20 s"
     ]
    },
    {
     "name": "stdout",
     "output_type": "stream",
     "text": [
      "\r",
      "[##################                      ] | 45% Completed | 88.31 s"
     ]
    },
    {
     "name": "stdout",
     "output_type": "stream",
     "text": [
      "\r",
      "[##################                      ] | 45% Completed | 88.41 s"
     ]
    },
    {
     "name": "stdout",
     "output_type": "stream",
     "text": [
      "\r",
      "[##################                      ] | 45% Completed | 88.51 s"
     ]
    },
    {
     "name": "stdout",
     "output_type": "stream",
     "text": [
      "\r",
      "[##################                      ] | 45% Completed | 88.62 s"
     ]
    },
    {
     "name": "stdout",
     "output_type": "stream",
     "text": [
      "\r",
      "[##################                      ] | 45% Completed | 88.72 s"
     ]
    },
    {
     "name": "stdout",
     "output_type": "stream",
     "text": [
      "\r",
      "[##################                      ] | 45% Completed | 88.82 s"
     ]
    },
    {
     "name": "stdout",
     "output_type": "stream",
     "text": [
      "\r",
      "[##################                      ] | 46% Completed | 88.92 s"
     ]
    },
    {
     "name": "stdout",
     "output_type": "stream",
     "text": [
      "\r",
      "[##################                      ] | 46% Completed | 89.02 s"
     ]
    },
    {
     "name": "stdout",
     "output_type": "stream",
     "text": [
      "\r",
      "[##################                      ] | 46% Completed | 89.12 s"
     ]
    },
    {
     "name": "stdout",
     "output_type": "stream",
     "text": [
      "\r",
      "[##################                      ] | 46% Completed | 89.23 s"
     ]
    },
    {
     "name": "stdout",
     "output_type": "stream",
     "text": [
      "\r",
      "[##################                      ] | 46% Completed | 89.33 s"
     ]
    },
    {
     "name": "stdout",
     "output_type": "stream",
     "text": [
      "\r",
      "[##################                      ] | 46% Completed | 89.43 s"
     ]
    },
    {
     "name": "stdout",
     "output_type": "stream",
     "text": [
      "\r",
      "[##################                      ] | 46% Completed | 89.53 s"
     ]
    },
    {
     "name": "stdout",
     "output_type": "stream",
     "text": [
      "\r",
      "[##################                      ] | 46% Completed | 89.63 s"
     ]
    },
    {
     "name": "stdout",
     "output_type": "stream",
     "text": [
      "\r",
      "[##################                      ] | 46% Completed | 89.73 s"
     ]
    },
    {
     "name": "stdout",
     "output_type": "stream",
     "text": [
      "\r",
      "[##################                      ] | 46% Completed | 89.84 s"
     ]
    },
    {
     "name": "stdout",
     "output_type": "stream",
     "text": [
      "\r",
      "[##################                      ] | 46% Completed | 89.94 s"
     ]
    },
    {
     "name": "stdout",
     "output_type": "stream",
     "text": [
      "\r",
      "[##################                      ] | 46% Completed | 90.04 s"
     ]
    },
    {
     "name": "stdout",
     "output_type": "stream",
     "text": [
      "\r",
      "[##################                      ] | 46% Completed | 90.14 s"
     ]
    },
    {
     "name": "stdout",
     "output_type": "stream",
     "text": [
      "\r",
      "[##################                      ] | 46% Completed | 90.24 s"
     ]
    },
    {
     "name": "stdout",
     "output_type": "stream",
     "text": [
      "\r",
      "[##################                      ] | 46% Completed | 90.35 s"
     ]
    },
    {
     "name": "stdout",
     "output_type": "stream",
     "text": [
      "\r",
      "[##################                      ] | 46% Completed | 90.45 s"
     ]
    },
    {
     "name": "stdout",
     "output_type": "stream",
     "text": [
      "\r",
      "[##################                      ] | 46% Completed | 90.55 s"
     ]
    },
    {
     "name": "stdout",
     "output_type": "stream",
     "text": [
      "\r",
      "[##################                      ] | 46% Completed | 90.65 s"
     ]
    },
    {
     "name": "stdout",
     "output_type": "stream",
     "text": [
      "\r",
      "[##################                      ] | 46% Completed | 90.75 s"
     ]
    },
    {
     "name": "stdout",
     "output_type": "stream",
     "text": [
      "\r",
      "[##################                      ] | 46% Completed | 90.86 s"
     ]
    },
    {
     "name": "stdout",
     "output_type": "stream",
     "text": [
      "\r",
      "[##################                      ] | 46% Completed | 90.96 s"
     ]
    },
    {
     "name": "stdout",
     "output_type": "stream",
     "text": [
      "\r",
      "[##################                      ] | 46% Completed | 91.06 s"
     ]
    },
    {
     "name": "stdout",
     "output_type": "stream",
     "text": [
      "\r",
      "[##################                      ] | 47% Completed | 91.17 s"
     ]
    },
    {
     "name": "stdout",
     "output_type": "stream",
     "text": [
      "\r",
      "[##################                      ] | 47% Completed | 91.27 s"
     ]
    },
    {
     "name": "stdout",
     "output_type": "stream",
     "text": [
      "\r",
      "[##################                      ] | 47% Completed | 91.37 s"
     ]
    },
    {
     "name": "stdout",
     "output_type": "stream",
     "text": [
      "\r",
      "[##################                      ] | 47% Completed | 91.47 s"
     ]
    },
    {
     "name": "stdout",
     "output_type": "stream",
     "text": [
      "\r",
      "[###################                     ] | 47% Completed | 91.58 s"
     ]
    },
    {
     "name": "stdout",
     "output_type": "stream",
     "text": [
      "\r",
      "[###################                     ] | 47% Completed | 91.68 s"
     ]
    },
    {
     "name": "stdout",
     "output_type": "stream",
     "text": [
      "\r",
      "[###################                     ] | 47% Completed | 91.78 s"
     ]
    },
    {
     "name": "stdout",
     "output_type": "stream",
     "text": [
      "\r",
      "[###################                     ] | 47% Completed | 91.88 s"
     ]
    },
    {
     "name": "stdout",
     "output_type": "stream",
     "text": [
      "\r",
      "[###################                     ] | 47% Completed | 91.98 s"
     ]
    },
    {
     "name": "stdout",
     "output_type": "stream",
     "text": [
      "\r",
      "[###################                     ] | 47% Completed | 92.09 s"
     ]
    },
    {
     "name": "stdout",
     "output_type": "stream",
     "text": [
      "\r",
      "[###################                     ] | 47% Completed | 92.19 s"
     ]
    },
    {
     "name": "stdout",
     "output_type": "stream",
     "text": [
      "\r",
      "[###################                     ] | 47% Completed | 92.29 s"
     ]
    },
    {
     "name": "stdout",
     "output_type": "stream",
     "text": [
      "\r",
      "[###################                     ] | 47% Completed | 92.40 s"
     ]
    },
    {
     "name": "stdout",
     "output_type": "stream",
     "text": [
      "\r",
      "[###################                     ] | 47% Completed | 92.50 s"
     ]
    },
    {
     "name": "stdout",
     "output_type": "stream",
     "text": [
      "\r",
      "[###################                     ] | 47% Completed | 92.60 s"
     ]
    },
    {
     "name": "stdout",
     "output_type": "stream",
     "text": [
      "\r",
      "[###################                     ] | 47% Completed | 92.70 s"
     ]
    },
    {
     "name": "stdout",
     "output_type": "stream",
     "text": [
      "\r",
      "[###################                     ] | 48% Completed | 92.81 s"
     ]
    },
    {
     "name": "stdout",
     "output_type": "stream",
     "text": [
      "\r",
      "[###################                     ] | 48% Completed | 92.91 s"
     ]
    },
    {
     "name": "stdout",
     "output_type": "stream",
     "text": [
      "\r",
      "[###################                     ] | 48% Completed | 93.01 s"
     ]
    },
    {
     "name": "stdout",
     "output_type": "stream",
     "text": [
      "\r",
      "[###################                     ] | 48% Completed | 93.11 s"
     ]
    },
    {
     "name": "stdout",
     "output_type": "stream",
     "text": [
      "\r",
      "[###################                     ] | 48% Completed | 93.22 s"
     ]
    },
    {
     "name": "stdout",
     "output_type": "stream",
     "text": [
      "\r",
      "[###################                     ] | 48% Completed | 93.32 s"
     ]
    },
    {
     "name": "stdout",
     "output_type": "stream",
     "text": [
      "\r",
      "[###################                     ] | 48% Completed | 93.42 s"
     ]
    },
    {
     "name": "stdout",
     "output_type": "stream",
     "text": [
      "\r",
      "[###################                     ] | 48% Completed | 93.53 s"
     ]
    },
    {
     "name": "stdout",
     "output_type": "stream",
     "text": [
      "\r",
      "[###################                     ] | 48% Completed | 93.63 s"
     ]
    },
    {
     "name": "stdout",
     "output_type": "stream",
     "text": [
      "\r",
      "[###################                     ] | 48% Completed | 93.73 s"
     ]
    },
    {
     "name": "stdout",
     "output_type": "stream",
     "text": [
      "\r",
      "[###################                     ] | 48% Completed | 93.83 s"
     ]
    },
    {
     "name": "stdout",
     "output_type": "stream",
     "text": [
      "\r",
      "[###################                     ] | 48% Completed | 93.93 s"
     ]
    },
    {
     "name": "stdout",
     "output_type": "stream",
     "text": [
      "\r",
      "[###################                     ] | 48% Completed | 94.03 s"
     ]
    },
    {
     "name": "stdout",
     "output_type": "stream",
     "text": [
      "\r",
      "[###################                     ] | 48% Completed | 94.14 s"
     ]
    },
    {
     "name": "stdout",
     "output_type": "stream",
     "text": [
      "\r",
      "[###################                     ] | 49% Completed | 94.24 s"
     ]
    },
    {
     "name": "stdout",
     "output_type": "stream",
     "text": [
      "\r",
      "[###################                     ] | 49% Completed | 94.34 s"
     ]
    },
    {
     "name": "stdout",
     "output_type": "stream",
     "text": [
      "\r",
      "[###################                     ] | 49% Completed | 94.44 s"
     ]
    },
    {
     "name": "stdout",
     "output_type": "stream",
     "text": [
      "\r",
      "[###################                     ] | 49% Completed | 94.55 s"
     ]
    },
    {
     "name": "stdout",
     "output_type": "stream",
     "text": [
      "\r",
      "[###################                     ] | 49% Completed | 94.65 s"
     ]
    },
    {
     "name": "stdout",
     "output_type": "stream",
     "text": [
      "\r",
      "[###################                     ] | 49% Completed | 94.75 s"
     ]
    },
    {
     "name": "stdout",
     "output_type": "stream",
     "text": [
      "\r",
      "[###################                     ] | 49% Completed | 94.85 s"
     ]
    },
    {
     "name": "stdout",
     "output_type": "stream",
     "text": [
      "\r",
      "[###################                     ] | 49% Completed | 94.96 s"
     ]
    },
    {
     "name": "stdout",
     "output_type": "stream",
     "text": [
      "\r",
      "[###################                     ] | 49% Completed | 95.06 s"
     ]
    },
    {
     "name": "stdout",
     "output_type": "stream",
     "text": [
      "\r",
      "[###################                     ] | 49% Completed | 95.16 s"
     ]
    },
    {
     "name": "stdout",
     "output_type": "stream",
     "text": [
      "\r",
      "[###################                     ] | 49% Completed | 95.26 s"
     ]
    },
    {
     "name": "stdout",
     "output_type": "stream",
     "text": [
      "\r",
      "[###################                     ] | 49% Completed | 95.36 s"
     ]
    },
    {
     "name": "stdout",
     "output_type": "stream",
     "text": [
      "\r",
      "[###################                     ] | 49% Completed | 95.47 s"
     ]
    },
    {
     "name": "stdout",
     "output_type": "stream",
     "text": [
      "\r",
      "[###################                     ] | 49% Completed | 95.57 s"
     ]
    },
    {
     "name": "stdout",
     "output_type": "stream",
     "text": [
      "\r",
      "[###################                     ] | 49% Completed | 95.67 s"
     ]
    },
    {
     "name": "stdout",
     "output_type": "stream",
     "text": [
      "\r",
      "[###################                     ] | 49% Completed | 95.77 s"
     ]
    },
    {
     "name": "stdout",
     "output_type": "stream",
     "text": [
      "\r",
      "[###################                     ] | 49% Completed | 95.88 s"
     ]
    },
    {
     "name": "stdout",
     "output_type": "stream",
     "text": [
      "\r",
      "[###################                     ] | 49% Completed | 95.98 s"
     ]
    },
    {
     "name": "stdout",
     "output_type": "stream",
     "text": [
      "\r",
      "[###################                     ] | 49% Completed | 96.08 s"
     ]
    },
    {
     "name": "stdout",
     "output_type": "stream",
     "text": [
      "\r",
      "[###################                     ] | 49% Completed | 96.18 s"
     ]
    },
    {
     "name": "stdout",
     "output_type": "stream",
     "text": [
      "\r",
      "[####################                    ] | 50% Completed | 96.28 s"
     ]
    },
    {
     "name": "stdout",
     "output_type": "stream",
     "text": [
      "\r",
      "[####################                    ] | 50% Completed | 96.39 s"
     ]
    },
    {
     "name": "stdout",
     "output_type": "stream",
     "text": [
      "\r",
      "[####################                    ] | 50% Completed | 96.49 s"
     ]
    },
    {
     "name": "stdout",
     "output_type": "stream",
     "text": [
      "\r",
      "[####################                    ] | 50% Completed | 96.59 s"
     ]
    },
    {
     "name": "stdout",
     "output_type": "stream",
     "text": [
      "\r",
      "[####################                    ] | 50% Completed | 96.69 s"
     ]
    },
    {
     "name": "stdout",
     "output_type": "stream",
     "text": [
      "\r",
      "[####################                    ] | 50% Completed | 96.79 s"
     ]
    },
    {
     "name": "stdout",
     "output_type": "stream",
     "text": [
      "\r",
      "[####################                    ] | 50% Completed | 96.89 s"
     ]
    },
    {
     "name": "stdout",
     "output_type": "stream",
     "text": [
      "\r",
      "[####################                    ] | 50% Completed | 97.00 s"
     ]
    },
    {
     "name": "stdout",
     "output_type": "stream",
     "text": [
      "\r",
      "[####################                    ] | 50% Completed | 97.10 s"
     ]
    },
    {
     "name": "stdout",
     "output_type": "stream",
     "text": [
      "\r",
      "[####################                    ] | 50% Completed | 97.20 s"
     ]
    },
    {
     "name": "stdout",
     "output_type": "stream",
     "text": [
      "\r",
      "[####################                    ] | 50% Completed | 97.30 s"
     ]
    },
    {
     "name": "stdout",
     "output_type": "stream",
     "text": [
      "\r",
      "[####################                    ] | 50% Completed | 97.41 s"
     ]
    },
    {
     "name": "stdout",
     "output_type": "stream",
     "text": [
      "\r",
      "[####################                    ] | 50% Completed | 97.51 s"
     ]
    },
    {
     "name": "stdout",
     "output_type": "stream",
     "text": [
      "\r",
      "[####################                    ] | 50% Completed | 97.61 s"
     ]
    },
    {
     "name": "stdout",
     "output_type": "stream",
     "text": [
      "\r",
      "[####################                    ] | 50% Completed | 97.71 s"
     ]
    },
    {
     "name": "stdout",
     "output_type": "stream",
     "text": [
      "\r",
      "[####################                    ] | 50% Completed | 97.81 s"
     ]
    },
    {
     "name": "stdout",
     "output_type": "stream",
     "text": [
      "\r",
      "[####################                    ] | 50% Completed | 97.92 s"
     ]
    },
    {
     "name": "stdout",
     "output_type": "stream",
     "text": [
      "\r",
      "[####################                    ] | 51% Completed | 98.02 s"
     ]
    },
    {
     "name": "stdout",
     "output_type": "stream",
     "text": [
      "\r",
      "[####################                    ] | 51% Completed | 98.12 s"
     ]
    },
    {
     "name": "stdout",
     "output_type": "stream",
     "text": [
      "\r",
      "[####################                    ] | 51% Completed | 98.22 s"
     ]
    },
    {
     "name": "stdout",
     "output_type": "stream",
     "text": [
      "\r",
      "[####################                    ] | 51% Completed | 98.32 s"
     ]
    },
    {
     "name": "stdout",
     "output_type": "stream",
     "text": [
      "\r",
      "[####################                    ] | 51% Completed | 98.42 s"
     ]
    },
    {
     "name": "stdout",
     "output_type": "stream",
     "text": [
      "\r",
      "[####################                    ] | 51% Completed | 98.53 s"
     ]
    },
    {
     "name": "stdout",
     "output_type": "stream",
     "text": [
      "\r",
      "[####################                    ] | 51% Completed | 98.63 s"
     ]
    },
    {
     "name": "stdout",
     "output_type": "stream",
     "text": [
      "\r",
      "[####################                    ] | 51% Completed | 98.73 s"
     ]
    },
    {
     "name": "stdout",
     "output_type": "stream",
     "text": [
      "\r",
      "[####################                    ] | 51% Completed | 98.83 s"
     ]
    },
    {
     "name": "stdout",
     "output_type": "stream",
     "text": [
      "\r",
      "[####################                    ] | 51% Completed | 98.93 s"
     ]
    },
    {
     "name": "stdout",
     "output_type": "stream",
     "text": [
      "\r",
      "[####################                    ] | 51% Completed | 99.04 s"
     ]
    },
    {
     "name": "stdout",
     "output_type": "stream",
     "text": [
      "\r",
      "[####################                    ] | 51% Completed | 99.14 s"
     ]
    },
    {
     "name": "stdout",
     "output_type": "stream",
     "text": [
      "\r",
      "[####################                    ] | 51% Completed | 99.24 s"
     ]
    },
    {
     "name": "stdout",
     "output_type": "stream",
     "text": [
      "\r",
      "[####################                    ] | 51% Completed | 99.34 s"
     ]
    },
    {
     "name": "stdout",
     "output_type": "stream",
     "text": [
      "\r",
      "[####################                    ] | 51% Completed | 99.45 s"
     ]
    },
    {
     "name": "stdout",
     "output_type": "stream",
     "text": [
      "\r",
      "[####################                    ] | 51% Completed | 99.55 s"
     ]
    },
    {
     "name": "stdout",
     "output_type": "stream",
     "text": [
      "\r",
      "[####################                    ] | 51% Completed | 99.65 s"
     ]
    },
    {
     "name": "stdout",
     "output_type": "stream",
     "text": [
      "\r",
      "[####################                    ] | 51% Completed | 99.75 s"
     ]
    },
    {
     "name": "stdout",
     "output_type": "stream",
     "text": [
      "\r",
      "[####################                    ] | 51% Completed | 99.85 s"
     ]
    },
    {
     "name": "stdout",
     "output_type": "stream",
     "text": [
      "\r",
      "[####################                    ] | 52% Completed | 99.95 s"
     ]
    },
    {
     "name": "stdout",
     "output_type": "stream",
     "text": [
      "\r",
      "[####################                    ] | 52% Completed | 100.06 s"
     ]
    },
    {
     "name": "stdout",
     "output_type": "stream",
     "text": [
      "\r",
      "[####################                    ] | 52% Completed | 100.16 s"
     ]
    },
    {
     "name": "stdout",
     "output_type": "stream",
     "text": [
      "\r",
      "[####################                    ] | 52% Completed | 100.26 s"
     ]
    },
    {
     "name": "stdout",
     "output_type": "stream",
     "text": [
      "\r",
      "[####################                    ] | 52% Completed | 100.36 s"
     ]
    },
    {
     "name": "stdout",
     "output_type": "stream",
     "text": [
      "\r",
      "[####################                    ] | 52% Completed | 100.47 s"
     ]
    },
    {
     "name": "stdout",
     "output_type": "stream",
     "text": [
      "\r",
      "[####################                    ] | 52% Completed | 100.57 s"
     ]
    },
    {
     "name": "stdout",
     "output_type": "stream",
     "text": [
      "\r",
      "[####################                    ] | 52% Completed | 100.67 s"
     ]
    },
    {
     "name": "stdout",
     "output_type": "stream",
     "text": [
      "\r",
      "[####################                    ] | 52% Completed | 100.77 s"
     ]
    },
    {
     "name": "stdout",
     "output_type": "stream",
     "text": [
      "\r",
      "[####################                    ] | 52% Completed | 100.87 s"
     ]
    },
    {
     "name": "stdout",
     "output_type": "stream",
     "text": [
      "\r",
      "[####################                    ] | 52% Completed | 100.98 s"
     ]
    },
    {
     "name": "stdout",
     "output_type": "stream",
     "text": [
      "\r",
      "[####################                    ] | 52% Completed | 101.08 s"
     ]
    },
    {
     "name": "stdout",
     "output_type": "stream",
     "text": [
      "\r",
      "[#####################                   ] | 52% Completed | 101.19 s"
     ]
    },
    {
     "name": "stdout",
     "output_type": "stream",
     "text": [
      "\r",
      "[#####################                   ] | 52% Completed | 101.29 s"
     ]
    },
    {
     "name": "stdout",
     "output_type": "stream",
     "text": [
      "\r",
      "[#####################                   ] | 52% Completed | 101.39 s"
     ]
    },
    {
     "name": "stdout",
     "output_type": "stream",
     "text": [
      "\r",
      "[#####################                   ] | 52% Completed | 101.50 s"
     ]
    },
    {
     "name": "stdout",
     "output_type": "stream",
     "text": [
      "\r",
      "[#####################                   ] | 52% Completed | 101.60 s"
     ]
    },
    {
     "name": "stdout",
     "output_type": "stream",
     "text": [
      "\r",
      "[#####################                   ] | 52% Completed | 101.70 s"
     ]
    },
    {
     "name": "stdout",
     "output_type": "stream",
     "text": [
      "\r",
      "[#####################                   ] | 52% Completed | 101.80 s"
     ]
    },
    {
     "name": "stdout",
     "output_type": "stream",
     "text": [
      "\r",
      "[#####################                   ] | 52% Completed | 101.90 s"
     ]
    },
    {
     "name": "stdout",
     "output_type": "stream",
     "text": [
      "\r",
      "[#####################                   ] | 53% Completed | 102.00 s"
     ]
    },
    {
     "name": "stdout",
     "output_type": "stream",
     "text": [
      "\r",
      "[#####################                   ] | 53% Completed | 102.11 s"
     ]
    },
    {
     "name": "stdout",
     "output_type": "stream",
     "text": [
      "\r",
      "[#####################                   ] | 53% Completed | 102.21 s"
     ]
    },
    {
     "name": "stdout",
     "output_type": "stream",
     "text": [
      "\r",
      "[#####################                   ] | 53% Completed | 102.31 s"
     ]
    },
    {
     "name": "stdout",
     "output_type": "stream",
     "text": [
      "\r",
      "[#####################                   ] | 53% Completed | 102.41 s"
     ]
    },
    {
     "name": "stdout",
     "output_type": "stream",
     "text": [
      "\r",
      "[#####################                   ] | 53% Completed | 102.52 s"
     ]
    },
    {
     "name": "stdout",
     "output_type": "stream",
     "text": [
      "\r",
      "[#####################                   ] | 53% Completed | 102.62 s"
     ]
    },
    {
     "name": "stdout",
     "output_type": "stream",
     "text": [
      "\r",
      "[#####################                   ] | 53% Completed | 102.72 s"
     ]
    },
    {
     "name": "stdout",
     "output_type": "stream",
     "text": [
      "\r",
      "[#####################                   ] | 53% Completed | 102.82 s"
     ]
    },
    {
     "name": "stdout",
     "output_type": "stream",
     "text": [
      "\r",
      "[#####################                   ] | 53% Completed | 102.92 s"
     ]
    },
    {
     "name": "stdout",
     "output_type": "stream",
     "text": [
      "\r",
      "[#####################                   ] | 53% Completed | 103.03 s"
     ]
    },
    {
     "name": "stdout",
     "output_type": "stream",
     "text": [
      "\r",
      "[#####################                   ] | 53% Completed | 103.13 s"
     ]
    },
    {
     "name": "stdout",
     "output_type": "stream",
     "text": [
      "\r",
      "[#####################                   ] | 53% Completed | 103.23 s"
     ]
    },
    {
     "name": "stdout",
     "output_type": "stream",
     "text": [
      "\r",
      "[#####################                   ] | 53% Completed | 103.33 s"
     ]
    },
    {
     "name": "stdout",
     "output_type": "stream",
     "text": [
      "\r",
      "[#####################                   ] | 53% Completed | 103.43 s"
     ]
    },
    {
     "name": "stdout",
     "output_type": "stream",
     "text": [
      "\r",
      "[#####################                   ] | 53% Completed | 103.53 s"
     ]
    },
    {
     "name": "stdout",
     "output_type": "stream",
     "text": [
      "\r",
      "[#####################                   ] | 53% Completed | 103.64 s"
     ]
    },
    {
     "name": "stdout",
     "output_type": "stream",
     "text": [
      "\r",
      "[#####################                   ] | 53% Completed | 103.74 s"
     ]
    },
    {
     "name": "stdout",
     "output_type": "stream",
     "text": [
      "\r",
      "[#####################                   ] | 53% Completed | 103.85 s"
     ]
    },
    {
     "name": "stdout",
     "output_type": "stream",
     "text": [
      "\r",
      "[#####################                   ] | 54% Completed | 103.95 s"
     ]
    },
    {
     "name": "stdout",
     "output_type": "stream",
     "text": [
      "\r",
      "[#####################                   ] | 54% Completed | 104.05 s"
     ]
    },
    {
     "name": "stdout",
     "output_type": "stream",
     "text": [
      "\r",
      "[#####################                   ] | 54% Completed | 104.15 s"
     ]
    },
    {
     "name": "stdout",
     "output_type": "stream",
     "text": [
      "\r",
      "[#####################                   ] | 54% Completed | 104.25 s"
     ]
    },
    {
     "name": "stdout",
     "output_type": "stream",
     "text": [
      "\r",
      "[#####################                   ] | 54% Completed | 104.36 s"
     ]
    },
    {
     "name": "stdout",
     "output_type": "stream",
     "text": [
      "\r",
      "[#####################                   ] | 54% Completed | 104.46 s"
     ]
    },
    {
     "name": "stdout",
     "output_type": "stream",
     "text": [
      "\r",
      "[#####################                   ] | 54% Completed | 104.56 s"
     ]
    },
    {
     "name": "stdout",
     "output_type": "stream",
     "text": [
      "\r",
      "[#####################                   ] | 54% Completed | 104.67 s"
     ]
    },
    {
     "name": "stdout",
     "output_type": "stream",
     "text": [
      "\r",
      "[#####################                   ] | 54% Completed | 104.77 s"
     ]
    },
    {
     "name": "stdout",
     "output_type": "stream",
     "text": [
      "\r",
      "[#####################                   ] | 54% Completed | 104.87 s"
     ]
    },
    {
     "name": "stdout",
     "output_type": "stream",
     "text": [
      "\r",
      "[#####################                   ] | 54% Completed | 104.97 s"
     ]
    },
    {
     "name": "stdout",
     "output_type": "stream",
     "text": [
      "\r",
      "[#####################                   ] | 54% Completed | 105.07 s"
     ]
    },
    {
     "name": "stdout",
     "output_type": "stream",
     "text": [
      "\r",
      "[#####################                   ] | 54% Completed | 105.18 s"
     ]
    },
    {
     "name": "stdout",
     "output_type": "stream",
     "text": [
      "\r",
      "[#####################                   ] | 54% Completed | 105.28 s"
     ]
    },
    {
     "name": "stdout",
     "output_type": "stream",
     "text": [
      "\r",
      "[#####################                   ] | 54% Completed | 105.38 s"
     ]
    },
    {
     "name": "stdout",
     "output_type": "stream",
     "text": [
      "\r",
      "[#####################                   ] | 54% Completed | 105.48 s"
     ]
    },
    {
     "name": "stdout",
     "output_type": "stream",
     "text": [
      "\r",
      "[#####################                   ] | 54% Completed | 105.59 s"
     ]
    },
    {
     "name": "stdout",
     "output_type": "stream",
     "text": [
      "\r",
      "[#####################                   ] | 54% Completed | 105.69 s"
     ]
    },
    {
     "name": "stdout",
     "output_type": "stream",
     "text": [
      "\r",
      "[#####################                   ] | 54% Completed | 105.79 s"
     ]
    },
    {
     "name": "stdout",
     "output_type": "stream",
     "text": [
      "\r",
      "[#####################                   ] | 54% Completed | 105.89 s"
     ]
    },
    {
     "name": "stdout",
     "output_type": "stream",
     "text": [
      "\r",
      "[######################                  ] | 55% Completed | 106.00 s"
     ]
    },
    {
     "name": "stdout",
     "output_type": "stream",
     "text": [
      "\r",
      "[######################                  ] | 55% Completed | 106.10 s"
     ]
    },
    {
     "name": "stdout",
     "output_type": "stream",
     "text": [
      "\r",
      "[######################                  ] | 55% Completed | 106.20 s"
     ]
    },
    {
     "name": "stdout",
     "output_type": "stream",
     "text": [
      "\r",
      "[######################                  ] | 55% Completed | 106.30 s"
     ]
    },
    {
     "name": "stdout",
     "output_type": "stream",
     "text": [
      "\r",
      "[######################                  ] | 55% Completed | 106.41 s"
     ]
    },
    {
     "name": "stdout",
     "output_type": "stream",
     "text": [
      "\r",
      "[######################                  ] | 55% Completed | 106.51 s"
     ]
    },
    {
     "name": "stdout",
     "output_type": "stream",
     "text": [
      "\r",
      "[######################                  ] | 55% Completed | 106.61 s"
     ]
    },
    {
     "name": "stdout",
     "output_type": "stream",
     "text": [
      "\r",
      "[######################                  ] | 55% Completed | 106.71 s"
     ]
    },
    {
     "name": "stdout",
     "output_type": "stream",
     "text": [
      "\r",
      "[######################                  ] | 55% Completed | 106.81 s"
     ]
    },
    {
     "name": "stdout",
     "output_type": "stream",
     "text": [
      "\r",
      "[######################                  ] | 55% Completed | 106.91 s"
     ]
    },
    {
     "name": "stdout",
     "output_type": "stream",
     "text": [
      "\r",
      "[######################                  ] | 55% Completed | 107.01 s"
     ]
    },
    {
     "name": "stdout",
     "output_type": "stream",
     "text": [
      "\r",
      "[######################                  ] | 55% Completed | 107.12 s"
     ]
    },
    {
     "name": "stdout",
     "output_type": "stream",
     "text": [
      "\r",
      "[######################                  ] | 55% Completed | 107.22 s"
     ]
    },
    {
     "name": "stdout",
     "output_type": "stream",
     "text": [
      "\r",
      "[######################                  ] | 55% Completed | 107.32 s"
     ]
    },
    {
     "name": "stdout",
     "output_type": "stream",
     "text": [
      "\r",
      "[######################                  ] | 55% Completed | 107.42 s"
     ]
    },
    {
     "name": "stdout",
     "output_type": "stream",
     "text": [
      "\r",
      "[######################                  ] | 55% Completed | 107.52 s"
     ]
    },
    {
     "name": "stdout",
     "output_type": "stream",
     "text": [
      "\r",
      "[######################                  ] | 55% Completed | 107.63 s"
     ]
    },
    {
     "name": "stdout",
     "output_type": "stream",
     "text": [
      "\r",
      "[######################                  ] | 56% Completed | 107.73 s"
     ]
    },
    {
     "name": "stdout",
     "output_type": "stream",
     "text": [
      "\r",
      "[######################                  ] | 56% Completed | 107.83 s"
     ]
    },
    {
     "name": "stdout",
     "output_type": "stream",
     "text": [
      "\r",
      "[######################                  ] | 56% Completed | 107.93 s"
     ]
    },
    {
     "name": "stdout",
     "output_type": "stream",
     "text": [
      "\r",
      "[######################                  ] | 56% Completed | 108.03 s"
     ]
    },
    {
     "name": "stdout",
     "output_type": "stream",
     "text": [
      "\r",
      "[######################                  ] | 56% Completed | 108.14 s"
     ]
    },
    {
     "name": "stdout",
     "output_type": "stream",
     "text": [
      "\r",
      "[######################                  ] | 56% Completed | 108.24 s"
     ]
    },
    {
     "name": "stdout",
     "output_type": "stream",
     "text": [
      "\r",
      "[######################                  ] | 56% Completed | 108.34 s"
     ]
    },
    {
     "name": "stdout",
     "output_type": "stream",
     "text": [
      "\r",
      "[######################                  ] | 56% Completed | 108.44 s"
     ]
    },
    {
     "name": "stdout",
     "output_type": "stream",
     "text": [
      "\r",
      "[######################                  ] | 56% Completed | 108.54 s"
     ]
    },
    {
     "name": "stdout",
     "output_type": "stream",
     "text": [
      "\r",
      "[######################                  ] | 56% Completed | 108.65 s"
     ]
    },
    {
     "name": "stdout",
     "output_type": "stream",
     "text": [
      "\r",
      "[######################                  ] | 56% Completed | 108.75 s"
     ]
    },
    {
     "name": "stdout",
     "output_type": "stream",
     "text": [
      "\r",
      "[######################                  ] | 56% Completed | 108.85 s"
     ]
    },
    {
     "name": "stdout",
     "output_type": "stream",
     "text": [
      "\r",
      "[######################                  ] | 56% Completed | 108.95 s"
     ]
    },
    {
     "name": "stdout",
     "output_type": "stream",
     "text": [
      "\r",
      "[######################                  ] | 56% Completed | 109.06 s"
     ]
    },
    {
     "name": "stdout",
     "output_type": "stream",
     "text": [
      "\r",
      "[######################                  ] | 56% Completed | 109.16 s"
     ]
    },
    {
     "name": "stdout",
     "output_type": "stream",
     "text": [
      "\r",
      "[######################                  ] | 56% Completed | 109.26 s"
     ]
    },
    {
     "name": "stdout",
     "output_type": "stream",
     "text": [
      "\r",
      "[######################                  ] | 56% Completed | 109.36 s"
     ]
    },
    {
     "name": "stdout",
     "output_type": "stream",
     "text": [
      "\r",
      "[######################                  ] | 56% Completed | 109.47 s"
     ]
    },
    {
     "name": "stdout",
     "output_type": "stream",
     "text": [
      "\r",
      "[######################                  ] | 56% Completed | 109.57 s"
     ]
    },
    {
     "name": "stdout",
     "output_type": "stream",
     "text": [
      "\r",
      "[######################                  ] | 56% Completed | 109.67 s"
     ]
    },
    {
     "name": "stdout",
     "output_type": "stream",
     "text": [
      "\r",
      "[######################                  ] | 56% Completed | 109.77 s"
     ]
    },
    {
     "name": "stdout",
     "output_type": "stream",
     "text": [
      "\r",
      "[######################                  ] | 56% Completed | 109.88 s"
     ]
    },
    {
     "name": "stdout",
     "output_type": "stream",
     "text": [
      "\r",
      "[######################                  ] | 57% Completed | 109.98 s"
     ]
    },
    {
     "name": "stdout",
     "output_type": "stream",
     "text": [
      "\r",
      "[######################                  ] | 57% Completed | 110.08 s"
     ]
    },
    {
     "name": "stdout",
     "output_type": "stream",
     "text": [
      "\r",
      "[######################                  ] | 57% Completed | 110.19 s"
     ]
    },
    {
     "name": "stdout",
     "output_type": "stream",
     "text": [
      "\r",
      "[######################                  ] | 57% Completed | 110.29 s"
     ]
    },
    {
     "name": "stdout",
     "output_type": "stream",
     "text": [
      "\r",
      "[######################                  ] | 57% Completed | 110.39 s"
     ]
    },
    {
     "name": "stdout",
     "output_type": "stream",
     "text": [
      "\r",
      "[######################                  ] | 57% Completed | 110.49 s"
     ]
    },
    {
     "name": "stdout",
     "output_type": "stream",
     "text": [
      "\r",
      "[#######################                 ] | 57% Completed | 110.60 s"
     ]
    },
    {
     "name": "stdout",
     "output_type": "stream",
     "text": [
      "\r",
      "[#######################                 ] | 57% Completed | 110.70 s"
     ]
    },
    {
     "name": "stdout",
     "output_type": "stream",
     "text": [
      "\r",
      "[#######################                 ] | 57% Completed | 110.80 s"
     ]
    },
    {
     "name": "stdout",
     "output_type": "stream",
     "text": [
      "\r",
      "[#######################                 ] | 57% Completed | 110.90 s"
     ]
    },
    {
     "name": "stdout",
     "output_type": "stream",
     "text": [
      "\r",
      "[#######################                 ] | 57% Completed | 111.01 s"
     ]
    },
    {
     "name": "stdout",
     "output_type": "stream",
     "text": [
      "\r",
      "[#######################                 ] | 57% Completed | 111.11 s"
     ]
    },
    {
     "name": "stdout",
     "output_type": "stream",
     "text": [
      "\r",
      "[#######################                 ] | 57% Completed | 111.21 s"
     ]
    },
    {
     "name": "stdout",
     "output_type": "stream",
     "text": [
      "\r",
      "[#######################                 ] | 57% Completed | 111.31 s"
     ]
    },
    {
     "name": "stdout",
     "output_type": "stream",
     "text": [
      "\r",
      "[#######################                 ] | 57% Completed | 111.42 s"
     ]
    },
    {
     "name": "stdout",
     "output_type": "stream",
     "text": [
      "\r",
      "[#######################                 ] | 57% Completed | 111.52 s"
     ]
    },
    {
     "name": "stdout",
     "output_type": "stream",
     "text": [
      "\r",
      "[#######################                 ] | 57% Completed | 111.62 s"
     ]
    },
    {
     "name": "stdout",
     "output_type": "stream",
     "text": [
      "\r",
      "[#######################                 ] | 58% Completed | 111.73 s"
     ]
    },
    {
     "name": "stdout",
     "output_type": "stream",
     "text": [
      "\r",
      "[#######################                 ] | 58% Completed | 111.83 s"
     ]
    },
    {
     "name": "stdout",
     "output_type": "stream",
     "text": [
      "\r",
      "[#######################                 ] | 58% Completed | 111.93 s"
     ]
    },
    {
     "name": "stdout",
     "output_type": "stream",
     "text": [
      "\r",
      "[#######################                 ] | 58% Completed | 112.04 s"
     ]
    },
    {
     "name": "stdout",
     "output_type": "stream",
     "text": [
      "\r",
      "[#######################                 ] | 58% Completed | 112.14 s"
     ]
    },
    {
     "name": "stdout",
     "output_type": "stream",
     "text": [
      "\r",
      "[#######################                 ] | 58% Completed | 112.24 s"
     ]
    },
    {
     "name": "stdout",
     "output_type": "stream",
     "text": [
      "\r",
      "[#######################                 ] | 58% Completed | 112.34 s"
     ]
    },
    {
     "name": "stdout",
     "output_type": "stream",
     "text": [
      "\r",
      "[#######################                 ] | 58% Completed | 112.44 s"
     ]
    },
    {
     "name": "stdout",
     "output_type": "stream",
     "text": [
      "\r",
      "[#######################                 ] | 58% Completed | 112.55 s"
     ]
    },
    {
     "name": "stdout",
     "output_type": "stream",
     "text": [
      "\r",
      "[#######################                 ] | 58% Completed | 112.65 s"
     ]
    },
    {
     "name": "stdout",
     "output_type": "stream",
     "text": [
      "\r",
      "[#######################                 ] | 58% Completed | 112.75 s"
     ]
    },
    {
     "name": "stdout",
     "output_type": "stream",
     "text": [
      "\r",
      "[#######################                 ] | 58% Completed | 112.85 s"
     ]
    },
    {
     "name": "stdout",
     "output_type": "stream",
     "text": [
      "\r",
      "[#######################                 ] | 58% Completed | 112.96 s"
     ]
    },
    {
     "name": "stdout",
     "output_type": "stream",
     "text": [
      "\r",
      "[#######################                 ] | 58% Completed | 113.06 s"
     ]
    },
    {
     "name": "stdout",
     "output_type": "stream",
     "text": [
      "\r",
      "[#######################                 ] | 58% Completed | 113.16 s"
     ]
    },
    {
     "name": "stdout",
     "output_type": "stream",
     "text": [
      "\r",
      "[#######################                 ] | 58% Completed | 113.26 s"
     ]
    },
    {
     "name": "stdout",
     "output_type": "stream",
     "text": [
      "\r",
      "[#######################                 ] | 59% Completed | 113.36 s"
     ]
    },
    {
     "name": "stdout",
     "output_type": "stream",
     "text": [
      "\r",
      "[#######################                 ] | 59% Completed | 113.47 s"
     ]
    },
    {
     "name": "stdout",
     "output_type": "stream",
     "text": [
      "\r",
      "[#######################                 ] | 59% Completed | 113.57 s"
     ]
    },
    {
     "name": "stdout",
     "output_type": "stream",
     "text": [
      "\r",
      "[#######################                 ] | 59% Completed | 113.67 s"
     ]
    },
    {
     "name": "stdout",
     "output_type": "stream",
     "text": [
      "\r",
      "[#######################                 ] | 59% Completed | 113.77 s"
     ]
    },
    {
     "name": "stdout",
     "output_type": "stream",
     "text": [
      "\r",
      "[#######################                 ] | 59% Completed | 113.88 s"
     ]
    },
    {
     "name": "stdout",
     "output_type": "stream",
     "text": [
      "\r",
      "[#######################                 ] | 59% Completed | 113.98 s"
     ]
    },
    {
     "name": "stdout",
     "output_type": "stream",
     "text": [
      "\r",
      "[#######################                 ] | 59% Completed | 114.08 s"
     ]
    },
    {
     "name": "stdout",
     "output_type": "stream",
     "text": [
      "\r",
      "[#######################                 ] | 59% Completed | 114.19 s"
     ]
    },
    {
     "name": "stdout",
     "output_type": "stream",
     "text": [
      "\r",
      "[#######################                 ] | 59% Completed | 114.29 s"
     ]
    },
    {
     "name": "stdout",
     "output_type": "stream",
     "text": [
      "\r",
      "[#######################                 ] | 59% Completed | 114.39 s"
     ]
    },
    {
     "name": "stdout",
     "output_type": "stream",
     "text": [
      "\r",
      "[#######################                 ] | 59% Completed | 114.49 s"
     ]
    },
    {
     "name": "stdout",
     "output_type": "stream",
     "text": [
      "\r",
      "[#######################                 ] | 59% Completed | 114.59 s"
     ]
    },
    {
     "name": "stdout",
     "output_type": "stream",
     "text": [
      "\r",
      "[#######################                 ] | 59% Completed | 114.69 s"
     ]
    },
    {
     "name": "stdout",
     "output_type": "stream",
     "text": [
      "\r",
      "[#######################                 ] | 59% Completed | 114.80 s"
     ]
    },
    {
     "name": "stdout",
     "output_type": "stream",
     "text": [
      "\r",
      "[#######################                 ] | 59% Completed | 114.90 s"
     ]
    },
    {
     "name": "stdout",
     "output_type": "stream",
     "text": [
      "\r",
      "[#######################                 ] | 59% Completed | 115.00 s"
     ]
    },
    {
     "name": "stdout",
     "output_type": "stream",
     "text": [
      "\r",
      "[#######################                 ] | 59% Completed | 115.10 s"
     ]
    },
    {
     "name": "stdout",
     "output_type": "stream",
     "text": [
      "\r",
      "[#######################                 ] | 59% Completed | 115.20 s"
     ]
    },
    {
     "name": "stdout",
     "output_type": "stream",
     "text": [
      "\r",
      "[#######################                 ] | 59% Completed | 115.31 s"
     ]
    },
    {
     "name": "stdout",
     "output_type": "stream",
     "text": [
      "\r",
      "[########################                ] | 60% Completed | 115.41 s"
     ]
    },
    {
     "name": "stdout",
     "output_type": "stream",
     "text": [
      "\r",
      "[########################                ] | 60% Completed | 115.51 s"
     ]
    },
    {
     "name": "stdout",
     "output_type": "stream",
     "text": [
      "\r",
      "[########################                ] | 60% Completed | 115.62 s"
     ]
    },
    {
     "name": "stdout",
     "output_type": "stream",
     "text": [
      "\r",
      "[########################                ] | 60% Completed | 115.72 s"
     ]
    },
    {
     "name": "stdout",
     "output_type": "stream",
     "text": [
      "\r",
      "[########################                ] | 60% Completed | 115.82 s"
     ]
    },
    {
     "name": "stdout",
     "output_type": "stream",
     "text": [
      "\r",
      "[########################                ] | 60% Completed | 115.92 s"
     ]
    },
    {
     "name": "stdout",
     "output_type": "stream",
     "text": [
      "\r",
      "[########################                ] | 60% Completed | 116.02 s"
     ]
    },
    {
     "name": "stdout",
     "output_type": "stream",
     "text": [
      "\r",
      "[########################                ] | 60% Completed | 116.13 s"
     ]
    },
    {
     "name": "stdout",
     "output_type": "stream",
     "text": [
      "\r",
      "[########################                ] | 60% Completed | 116.23 s"
     ]
    },
    {
     "name": "stdout",
     "output_type": "stream",
     "text": [
      "\r",
      "[########################                ] | 60% Completed | 116.33 s"
     ]
    },
    {
     "name": "stdout",
     "output_type": "stream",
     "text": [
      "\r",
      "[########################                ] | 60% Completed | 116.43 s"
     ]
    },
    {
     "name": "stdout",
     "output_type": "stream",
     "text": [
      "\r",
      "[########################                ] | 60% Completed | 116.53 s"
     ]
    },
    {
     "name": "stdout",
     "output_type": "stream",
     "text": [
      "\r",
      "[########################                ] | 60% Completed | 116.64 s"
     ]
    },
    {
     "name": "stdout",
     "output_type": "stream",
     "text": [
      "\r",
      "[########################                ] | 60% Completed | 116.74 s"
     ]
    },
    {
     "name": "stdout",
     "output_type": "stream",
     "text": [
      "\r",
      "[########################                ] | 60% Completed | 116.84 s"
     ]
    },
    {
     "name": "stdout",
     "output_type": "stream",
     "text": [
      "\r",
      "[########################                ] | 60% Completed | 116.94 s"
     ]
    },
    {
     "name": "stdout",
     "output_type": "stream",
     "text": [
      "\r",
      "[########################                ] | 60% Completed | 117.05 s"
     ]
    },
    {
     "name": "stdout",
     "output_type": "stream",
     "text": [
      "\r",
      "[########################                ] | 60% Completed | 117.15 s"
     ]
    },
    {
     "name": "stdout",
     "output_type": "stream",
     "text": [
      "\r",
      "[########################                ] | 60% Completed | 117.26 s"
     ]
    },
    {
     "name": "stdout",
     "output_type": "stream",
     "text": [
      "\r",
      "[########################                ] | 60% Completed | 117.36 s"
     ]
    },
    {
     "name": "stdout",
     "output_type": "stream",
     "text": [
      "\r",
      "[########################                ] | 61% Completed | 117.46 s"
     ]
    },
    {
     "name": "stdout",
     "output_type": "stream",
     "text": [
      "\r",
      "[########################                ] | 61% Completed | 117.56 s"
     ]
    },
    {
     "name": "stdout",
     "output_type": "stream",
     "text": [
      "\r",
      "[########################                ] | 61% Completed | 117.66 s"
     ]
    },
    {
     "name": "stdout",
     "output_type": "stream",
     "text": [
      "\r",
      "[########################                ] | 61% Completed | 117.77 s"
     ]
    },
    {
     "name": "stdout",
     "output_type": "stream",
     "text": [
      "\r",
      "[########################                ] | 61% Completed | 117.87 s"
     ]
    },
    {
     "name": "stdout",
     "output_type": "stream",
     "text": [
      "\r",
      "[########################                ] | 61% Completed | 117.97 s"
     ]
    },
    {
     "name": "stdout",
     "output_type": "stream",
     "text": [
      "\r",
      "[########################                ] | 61% Completed | 118.08 s"
     ]
    },
    {
     "name": "stdout",
     "output_type": "stream",
     "text": [
      "\r",
      "[########################                ] | 61% Completed | 118.18 s"
     ]
    },
    {
     "name": "stdout",
     "output_type": "stream",
     "text": [
      "\r",
      "[########################                ] | 61% Completed | 118.28 s"
     ]
    },
    {
     "name": "stdout",
     "output_type": "stream",
     "text": [
      "\r",
      "[########################                ] | 61% Completed | 118.38 s"
     ]
    },
    {
     "name": "stdout",
     "output_type": "stream",
     "text": [
      "\r",
      "[########################                ] | 61% Completed | 118.48 s"
     ]
    },
    {
     "name": "stdout",
     "output_type": "stream",
     "text": [
      "\r",
      "[########################                ] | 61% Completed | 118.59 s"
     ]
    },
    {
     "name": "stdout",
     "output_type": "stream",
     "text": [
      "\r",
      "[########################                ] | 61% Completed | 118.69 s"
     ]
    },
    {
     "name": "stdout",
     "output_type": "stream",
     "text": [
      "\r",
      "[########################                ] | 61% Completed | 118.79 s"
     ]
    },
    {
     "name": "stdout",
     "output_type": "stream",
     "text": [
      "\r",
      "[########################                ] | 61% Completed | 118.89 s"
     ]
    },
    {
     "name": "stdout",
     "output_type": "stream",
     "text": [
      "\r",
      "[########################                ] | 61% Completed | 118.99 s"
     ]
    },
    {
     "name": "stdout",
     "output_type": "stream",
     "text": [
      "\r",
      "[########################                ] | 61% Completed | 119.09 s"
     ]
    },
    {
     "name": "stdout",
     "output_type": "stream",
     "text": [
      "\r",
      "[########################                ] | 62% Completed | 119.20 s"
     ]
    },
    {
     "name": "stdout",
     "output_type": "stream",
     "text": [
      "\r",
      "[########################                ] | 62% Completed | 119.30 s"
     ]
    },
    {
     "name": "stdout",
     "output_type": "stream",
     "text": [
      "\r",
      "[########################                ] | 62% Completed | 119.40 s"
     ]
    },
    {
     "name": "stdout",
     "output_type": "stream",
     "text": [
      "\r",
      "[########################                ] | 62% Completed | 119.50 s"
     ]
    },
    {
     "name": "stdout",
     "output_type": "stream",
     "text": [
      "\r",
      "[########################                ] | 62% Completed | 119.60 s"
     ]
    },
    {
     "name": "stdout",
     "output_type": "stream",
     "text": [
      "\r",
      "[########################                ] | 62% Completed | 119.71 s"
     ]
    },
    {
     "name": "stdout",
     "output_type": "stream",
     "text": [
      "\r",
      "[########################                ] | 62% Completed | 119.81 s"
     ]
    },
    {
     "name": "stdout",
     "output_type": "stream",
     "text": [
      "\r",
      "[########################                ] | 62% Completed | 119.91 s"
     ]
    },
    {
     "name": "stdout",
     "output_type": "stream",
     "text": [
      "\r",
      "[########################                ] | 62% Completed | 120.01 s"
     ]
    },
    {
     "name": "stdout",
     "output_type": "stream",
     "text": [
      "\r",
      "[########################                ] | 62% Completed | 120.11 s"
     ]
    },
    {
     "name": "stdout",
     "output_type": "stream",
     "text": [
      "\r",
      "[########################                ] | 62% Completed | 120.22 s"
     ]
    },
    {
     "name": "stdout",
     "output_type": "stream",
     "text": [
      "\r",
      "[#########################               ] | 62% Completed | 120.32 s"
     ]
    },
    {
     "name": "stdout",
     "output_type": "stream",
     "text": [
      "\r",
      "[#########################               ] | 62% Completed | 120.42 s"
     ]
    },
    {
     "name": "stdout",
     "output_type": "stream",
     "text": [
      "\r",
      "[#########################               ] | 62% Completed | 120.52 s"
     ]
    },
    {
     "name": "stdout",
     "output_type": "stream",
     "text": [
      "\r",
      "[#########################               ] | 62% Completed | 120.62 s"
     ]
    },
    {
     "name": "stdout",
     "output_type": "stream",
     "text": [
      "\r",
      "[#########################               ] | 62% Completed | 120.72 s"
     ]
    },
    {
     "name": "stdout",
     "output_type": "stream",
     "text": [
      "\r",
      "[#########################               ] | 63% Completed | 120.83 s"
     ]
    },
    {
     "name": "stdout",
     "output_type": "stream",
     "text": [
      "\r",
      "[#########################               ] | 63% Completed | 120.93 s"
     ]
    },
    {
     "name": "stdout",
     "output_type": "stream",
     "text": [
      "\r",
      "[#########################               ] | 63% Completed | 121.03 s"
     ]
    },
    {
     "name": "stdout",
     "output_type": "stream",
     "text": [
      "\r",
      "[#########################               ] | 63% Completed | 121.14 s"
     ]
    },
    {
     "name": "stdout",
     "output_type": "stream",
     "text": [
      "\r",
      "[#########################               ] | 63% Completed | 121.24 s"
     ]
    },
    {
     "name": "stdout",
     "output_type": "stream",
     "text": [
      "\r",
      "[#########################               ] | 63% Completed | 121.34 s"
     ]
    },
    {
     "name": "stdout",
     "output_type": "stream",
     "text": [
      "\r",
      "[#########################               ] | 63% Completed | 121.44 s"
     ]
    },
    {
     "name": "stdout",
     "output_type": "stream",
     "text": [
      "\r",
      "[#########################               ] | 63% Completed | 121.55 s"
     ]
    },
    {
     "name": "stdout",
     "output_type": "stream",
     "text": [
      "\r",
      "[#########################               ] | 63% Completed | 121.65 s"
     ]
    },
    {
     "name": "stdout",
     "output_type": "stream",
     "text": [
      "\r",
      "[#########################               ] | 63% Completed | 121.75 s"
     ]
    },
    {
     "name": "stdout",
     "output_type": "stream",
     "text": [
      "\r",
      "[#########################               ] | 63% Completed | 121.85 s"
     ]
    },
    {
     "name": "stdout",
     "output_type": "stream",
     "text": [
      "\r",
      "[#########################               ] | 63% Completed | 121.96 s"
     ]
    },
    {
     "name": "stdout",
     "output_type": "stream",
     "text": [
      "\r",
      "[#########################               ] | 63% Completed | 122.06 s"
     ]
    },
    {
     "name": "stdout",
     "output_type": "stream",
     "text": [
      "\r",
      "[#########################               ] | 63% Completed | 122.16 s"
     ]
    },
    {
     "name": "stdout",
     "output_type": "stream",
     "text": [
      "\r",
      "[#########################               ] | 63% Completed | 122.26 s"
     ]
    },
    {
     "name": "stdout",
     "output_type": "stream",
     "text": [
      "\r",
      "[#########################               ] | 63% Completed | 122.36 s"
     ]
    },
    {
     "name": "stdout",
     "output_type": "stream",
     "text": [
      "\r",
      "[#########################               ] | 63% Completed | 122.47 s"
     ]
    },
    {
     "name": "stdout",
     "output_type": "stream",
     "text": [
      "\r",
      "[#########################               ] | 63% Completed | 122.57 s"
     ]
    },
    {
     "name": "stdout",
     "output_type": "stream",
     "text": [
      "\r",
      "[#########################               ] | 63% Completed | 122.67 s"
     ]
    },
    {
     "name": "stdout",
     "output_type": "stream",
     "text": [
      "\r",
      "[#########################               ] | 64% Completed | 122.78 s"
     ]
    },
    {
     "name": "stdout",
     "output_type": "stream",
     "text": [
      "\r",
      "[#########################               ] | 64% Completed | 122.88 s"
     ]
    },
    {
     "name": "stdout",
     "output_type": "stream",
     "text": [
      "\r",
      "[#########################               ] | 64% Completed | 122.98 s"
     ]
    },
    {
     "name": "stdout",
     "output_type": "stream",
     "text": [
      "\r",
      "[#########################               ] | 64% Completed | 123.08 s"
     ]
    },
    {
     "name": "stdout",
     "output_type": "stream",
     "text": [
      "\r",
      "[#########################               ] | 64% Completed | 123.19 s"
     ]
    },
    {
     "name": "stdout",
     "output_type": "stream",
     "text": [
      "\r",
      "[#########################               ] | 64% Completed | 123.29 s"
     ]
    },
    {
     "name": "stdout",
     "output_type": "stream",
     "text": [
      "\r",
      "[#########################               ] | 64% Completed | 123.39 s"
     ]
    },
    {
     "name": "stdout",
     "output_type": "stream",
     "text": [
      "\r",
      "[#########################               ] | 64% Completed | 123.49 s"
     ]
    },
    {
     "name": "stdout",
     "output_type": "stream",
     "text": [
      "\r",
      "[#########################               ] | 64% Completed | 123.59 s"
     ]
    },
    {
     "name": "stdout",
     "output_type": "stream",
     "text": [
      "\r",
      "[#########################               ] | 64% Completed | 123.69 s"
     ]
    },
    {
     "name": "stdout",
     "output_type": "stream",
     "text": [
      "\r",
      "[#########################               ] | 64% Completed | 123.80 s"
     ]
    },
    {
     "name": "stdout",
     "output_type": "stream",
     "text": [
      "\r",
      "[#########################               ] | 64% Completed | 123.90 s"
     ]
    },
    {
     "name": "stdout",
     "output_type": "stream",
     "text": [
      "\r",
      "[#########################               ] | 64% Completed | 124.00 s"
     ]
    },
    {
     "name": "stdout",
     "output_type": "stream",
     "text": [
      "\r",
      "[#########################               ] | 64% Completed | 124.10 s"
     ]
    },
    {
     "name": "stdout",
     "output_type": "stream",
     "text": [
      "\r",
      "[#########################               ] | 64% Completed | 124.20 s"
     ]
    },
    {
     "name": "stdout",
     "output_type": "stream",
     "text": [
      "\r",
      "[##########################              ] | 65% Completed | 124.30 s"
     ]
    },
    {
     "name": "stdout",
     "output_type": "stream",
     "text": [
      "\r",
      "[##########################              ] | 65% Completed | 124.41 s"
     ]
    },
    {
     "name": "stdout",
     "output_type": "stream",
     "text": [
      "\r",
      "[##########################              ] | 65% Completed | 124.51 s"
     ]
    },
    {
     "name": "stdout",
     "output_type": "stream",
     "text": [
      "\r",
      "[##########################              ] | 65% Completed | 124.61 s"
     ]
    },
    {
     "name": "stdout",
     "output_type": "stream",
     "text": [
      "\r",
      "[##########################              ] | 65% Completed | 124.72 s"
     ]
    },
    {
     "name": "stdout",
     "output_type": "stream",
     "text": [
      "\r",
      "[##########################              ] | 65% Completed | 124.82 s"
     ]
    },
    {
     "name": "stdout",
     "output_type": "stream",
     "text": [
      "\r",
      "[##########################              ] | 65% Completed | 124.92 s"
     ]
    },
    {
     "name": "stdout",
     "output_type": "stream",
     "text": [
      "\r",
      "[##########################              ] | 65% Completed | 125.02 s"
     ]
    },
    {
     "name": "stdout",
     "output_type": "stream",
     "text": [
      "\r",
      "[##########################              ] | 65% Completed | 125.12 s"
     ]
    },
    {
     "name": "stdout",
     "output_type": "stream",
     "text": [
      "\r",
      "[##########################              ] | 65% Completed | 125.23 s"
     ]
    },
    {
     "name": "stdout",
     "output_type": "stream",
     "text": [
      "\r",
      "[##########################              ] | 65% Completed | 125.33 s"
     ]
    },
    {
     "name": "stdout",
     "output_type": "stream",
     "text": [
      "\r",
      "[##########################              ] | 66% Completed | 125.43 s"
     ]
    },
    {
     "name": "stdout",
     "output_type": "stream",
     "text": [
      "\r",
      "[##########################              ] | 66% Completed | 125.53 s"
     ]
    },
    {
     "name": "stdout",
     "output_type": "stream",
     "text": [
      "\r",
      "[##########################              ] | 66% Completed | 125.64 s"
     ]
    },
    {
     "name": "stdout",
     "output_type": "stream",
     "text": [
      "\r",
      "[##########################              ] | 66% Completed | 125.74 s"
     ]
    },
    {
     "name": "stdout",
     "output_type": "stream",
     "text": [
      "\r",
      "[##########################              ] | 66% Completed | 125.84 s"
     ]
    },
    {
     "name": "stdout",
     "output_type": "stream",
     "text": [
      "\r",
      "[##########################              ] | 66% Completed | 125.94 s"
     ]
    },
    {
     "name": "stdout",
     "output_type": "stream",
     "text": [
      "\r",
      "[##########################              ] | 66% Completed | 126.05 s"
     ]
    },
    {
     "name": "stdout",
     "output_type": "stream",
     "text": [
      "\r",
      "[##########################              ] | 66% Completed | 126.15 s"
     ]
    },
    {
     "name": "stdout",
     "output_type": "stream",
     "text": [
      "\r",
      "[##########################              ] | 66% Completed | 126.26 s"
     ]
    },
    {
     "name": "stdout",
     "output_type": "stream",
     "text": [
      "\r",
      "[##########################              ] | 66% Completed | 126.36 s"
     ]
    },
    {
     "name": "stdout",
     "output_type": "stream",
     "text": [
      "\r",
      "[##########################              ] | 66% Completed | 126.46 s"
     ]
    },
    {
     "name": "stdout",
     "output_type": "stream",
     "text": [
      "\r",
      "[##########################              ] | 66% Completed | 126.56 s"
     ]
    },
    {
     "name": "stdout",
     "output_type": "stream",
     "text": [
      "\r",
      "[##########################              ] | 66% Completed | 126.66 s"
     ]
    },
    {
     "name": "stdout",
     "output_type": "stream",
     "text": [
      "\r",
      "[##########################              ] | 66% Completed | 126.76 s"
     ]
    },
    {
     "name": "stdout",
     "output_type": "stream",
     "text": [
      "\r",
      "[##########################              ] | 66% Completed | 126.87 s"
     ]
    },
    {
     "name": "stdout",
     "output_type": "stream",
     "text": [
      "\r",
      "[##########################              ] | 66% Completed | 126.97 s"
     ]
    },
    {
     "name": "stdout",
     "output_type": "stream",
     "text": [
      "\r",
      "[##########################              ] | 67% Completed | 127.07 s"
     ]
    },
    {
     "name": "stdout",
     "output_type": "stream",
     "text": [
      "\r",
      "[##########################              ] | 67% Completed | 127.17 s"
     ]
    },
    {
     "name": "stdout",
     "output_type": "stream",
     "text": [
      "\r",
      "[##########################              ] | 67% Completed | 127.28 s"
     ]
    },
    {
     "name": "stdout",
     "output_type": "stream",
     "text": [
      "\r",
      "[##########################              ] | 67% Completed | 127.38 s"
     ]
    },
    {
     "name": "stdout",
     "output_type": "stream",
     "text": [
      "\r",
      "[##########################              ] | 67% Completed | 127.48 s"
     ]
    },
    {
     "name": "stdout",
     "output_type": "stream",
     "text": [
      "\r",
      "[##########################              ] | 67% Completed | 127.58 s"
     ]
    },
    {
     "name": "stdout",
     "output_type": "stream",
     "text": [
      "\r",
      "[###########################             ] | 67% Completed | 127.68 s"
     ]
    },
    {
     "name": "stdout",
     "output_type": "stream",
     "text": [
      "\r",
      "[###########################             ] | 67% Completed | 127.79 s"
     ]
    },
    {
     "name": "stdout",
     "output_type": "stream",
     "text": [
      "\r",
      "[###########################             ] | 67% Completed | 127.89 s"
     ]
    },
    {
     "name": "stdout",
     "output_type": "stream",
     "text": [
      "\r",
      "[###########################             ] | 67% Completed | 127.99 s"
     ]
    },
    {
     "name": "stdout",
     "output_type": "stream",
     "text": [
      "\r",
      "[###########################             ] | 67% Completed | 128.09 s"
     ]
    },
    {
     "name": "stdout",
     "output_type": "stream",
     "text": [
      "\r",
      "[###########################             ] | 67% Completed | 128.20 s"
     ]
    },
    {
     "name": "stdout",
     "output_type": "stream",
     "text": [
      "\r",
      "[###########################             ] | 67% Completed | 128.30 s"
     ]
    },
    {
     "name": "stdout",
     "output_type": "stream",
     "text": [
      "\r",
      "[###########################             ] | 67% Completed | 128.40 s"
     ]
    },
    {
     "name": "stdout",
     "output_type": "stream",
     "text": [
      "\r",
      "[###########################             ] | 67% Completed | 128.50 s"
     ]
    },
    {
     "name": "stdout",
     "output_type": "stream",
     "text": [
      "\r",
      "[###########################             ] | 68% Completed | 128.61 s"
     ]
    },
    {
     "name": "stdout",
     "output_type": "stream",
     "text": [
      "\r",
      "[###########################             ] | 68% Completed | 128.71 s"
     ]
    },
    {
     "name": "stdout",
     "output_type": "stream",
     "text": [
      "\r",
      "[###########################             ] | 68% Completed | 128.81 s"
     ]
    },
    {
     "name": "stdout",
     "output_type": "stream",
     "text": [
      "\r",
      "[###########################             ] | 68% Completed | 128.91 s"
     ]
    },
    {
     "name": "stdout",
     "output_type": "stream",
     "text": [
      "\r",
      "[###########################             ] | 68% Completed | 129.01 s"
     ]
    },
    {
     "name": "stdout",
     "output_type": "stream",
     "text": [
      "\r",
      "[###########################             ] | 68% Completed | 129.11 s"
     ]
    },
    {
     "name": "stdout",
     "output_type": "stream",
     "text": [
      "\r",
      "[###########################             ] | 68% Completed | 129.22 s"
     ]
    },
    {
     "name": "stdout",
     "output_type": "stream",
     "text": [
      "\r",
      "[###########################             ] | 68% Completed | 129.32 s"
     ]
    },
    {
     "name": "stdout",
     "output_type": "stream",
     "text": [
      "\r",
      "[###########################             ] | 68% Completed | 129.42 s"
     ]
    },
    {
     "name": "stdout",
     "output_type": "stream",
     "text": [
      "\r",
      "[###########################             ] | 68% Completed | 129.53 s"
     ]
    },
    {
     "name": "stdout",
     "output_type": "stream",
     "text": [
      "\r",
      "[###########################             ] | 68% Completed | 129.63 s"
     ]
    },
    {
     "name": "stdout",
     "output_type": "stream",
     "text": [
      "\r",
      "[###########################             ] | 68% Completed | 129.73 s"
     ]
    },
    {
     "name": "stdout",
     "output_type": "stream",
     "text": [
      "\r",
      "[###########################             ] | 68% Completed | 129.84 s"
     ]
    },
    {
     "name": "stdout",
     "output_type": "stream",
     "text": [
      "\r",
      "[###########################             ] | 68% Completed | 129.94 s"
     ]
    },
    {
     "name": "stdout",
     "output_type": "stream",
     "text": [
      "\r",
      "[###########################             ] | 68% Completed | 130.05 s"
     ]
    },
    {
     "name": "stdout",
     "output_type": "stream",
     "text": [
      "\r",
      "[###########################             ] | 68% Completed | 130.15 s"
     ]
    },
    {
     "name": "stdout",
     "output_type": "stream",
     "text": [
      "\r",
      "[###########################             ] | 69% Completed | 130.25 s"
     ]
    },
    {
     "name": "stdout",
     "output_type": "stream",
     "text": [
      "\r",
      "[###########################             ] | 69% Completed | 130.35 s"
     ]
    },
    {
     "name": "stdout",
     "output_type": "stream",
     "text": [
      "\r",
      "[###########################             ] | 69% Completed | 130.45 s"
     ]
    },
    {
     "name": "stdout",
     "output_type": "stream",
     "text": [
      "\r",
      "[###########################             ] | 69% Completed | 130.56 s"
     ]
    },
    {
     "name": "stdout",
     "output_type": "stream",
     "text": [
      "\r",
      "[###########################             ] | 69% Completed | 130.66 s"
     ]
    },
    {
     "name": "stdout",
     "output_type": "stream",
     "text": [
      "\r",
      "[###########################             ] | 69% Completed | 130.76 s"
     ]
    },
    {
     "name": "stdout",
     "output_type": "stream",
     "text": [
      "\r",
      "[###########################             ] | 69% Completed | 130.87 s"
     ]
    },
    {
     "name": "stdout",
     "output_type": "stream",
     "text": [
      "\r",
      "[###########################             ] | 69% Completed | 130.97 s"
     ]
    },
    {
     "name": "stdout",
     "output_type": "stream",
     "text": [
      "\r",
      "[###########################             ] | 69% Completed | 131.07 s"
     ]
    },
    {
     "name": "stdout",
     "output_type": "stream",
     "text": [
      "\r",
      "[###########################             ] | 69% Completed | 131.18 s"
     ]
    },
    {
     "name": "stdout",
     "output_type": "stream",
     "text": [
      "\r",
      "[###########################             ] | 69% Completed | 131.28 s"
     ]
    },
    {
     "name": "stdout",
     "output_type": "stream",
     "text": [
      "\r",
      "[###########################             ] | 69% Completed | 131.38 s"
     ]
    },
    {
     "name": "stdout",
     "output_type": "stream",
     "text": [
      "\r",
      "[###########################             ] | 69% Completed | 131.48 s"
     ]
    },
    {
     "name": "stdout",
     "output_type": "stream",
     "text": [
      "\r",
      "[###########################             ] | 69% Completed | 131.59 s"
     ]
    },
    {
     "name": "stdout",
     "output_type": "stream",
     "text": [
      "\r",
      "[###########################             ] | 69% Completed | 131.69 s"
     ]
    },
    {
     "name": "stdout",
     "output_type": "stream",
     "text": [
      "\r",
      "[###########################             ] | 69% Completed | 131.79 s"
     ]
    },
    {
     "name": "stdout",
     "output_type": "stream",
     "text": [
      "\r",
      "[############################            ] | 70% Completed | 131.89 s"
     ]
    },
    {
     "name": "stdout",
     "output_type": "stream",
     "text": [
      "\r",
      "[############################            ] | 70% Completed | 131.99 s"
     ]
    },
    {
     "name": "stdout",
     "output_type": "stream",
     "text": [
      "\r",
      "[############################            ] | 70% Completed | 132.10 s"
     ]
    },
    {
     "name": "stdout",
     "output_type": "stream",
     "text": [
      "\r",
      "[############################            ] | 70% Completed | 132.20 s"
     ]
    },
    {
     "name": "stdout",
     "output_type": "stream",
     "text": [
      "\r",
      "[############################            ] | 70% Completed | 132.30 s"
     ]
    },
    {
     "name": "stdout",
     "output_type": "stream",
     "text": [
      "\r",
      "[############################            ] | 70% Completed | 132.40 s"
     ]
    },
    {
     "name": "stdout",
     "output_type": "stream",
     "text": [
      "\r",
      "[############################            ] | 70% Completed | 132.50 s"
     ]
    },
    {
     "name": "stdout",
     "output_type": "stream",
     "text": [
      "\r",
      "[############################            ] | 70% Completed | 132.61 s"
     ]
    },
    {
     "name": "stdout",
     "output_type": "stream",
     "text": [
      "\r",
      "[############################            ] | 70% Completed | 132.71 s"
     ]
    },
    {
     "name": "stdout",
     "output_type": "stream",
     "text": [
      "\r",
      "[############################            ] | 70% Completed | 132.81 s"
     ]
    },
    {
     "name": "stdout",
     "output_type": "stream",
     "text": [
      "\r",
      "[############################            ] | 70% Completed | 132.91 s"
     ]
    },
    {
     "name": "stdout",
     "output_type": "stream",
     "text": [
      "\r",
      "[############################            ] | 70% Completed | 133.01 s"
     ]
    },
    {
     "name": "stdout",
     "output_type": "stream",
     "text": [
      "\r",
      "[############################            ] | 70% Completed | 133.12 s"
     ]
    },
    {
     "name": "stdout",
     "output_type": "stream",
     "text": [
      "\r",
      "[############################            ] | 70% Completed | 133.22 s"
     ]
    },
    {
     "name": "stdout",
     "output_type": "stream",
     "text": [
      "\r",
      "[############################            ] | 70% Completed | 133.32 s"
     ]
    },
    {
     "name": "stdout",
     "output_type": "stream",
     "text": [
      "\r",
      "[############################            ] | 70% Completed | 133.42 s"
     ]
    },
    {
     "name": "stdout",
     "output_type": "stream",
     "text": [
      "\r",
      "[############################            ] | 70% Completed | 133.52 s"
     ]
    },
    {
     "name": "stdout",
     "output_type": "stream",
     "text": [
      "\r",
      "[############################            ] | 71% Completed | 133.62 s"
     ]
    },
    {
     "name": "stdout",
     "output_type": "stream",
     "text": [
      "\r",
      "[############################            ] | 71% Completed | 133.73 s"
     ]
    },
    {
     "name": "stdout",
     "output_type": "stream",
     "text": [
      "\r",
      "[############################            ] | 71% Completed | 133.83 s"
     ]
    },
    {
     "name": "stdout",
     "output_type": "stream",
     "text": [
      "\r",
      "[############################            ] | 71% Completed | 133.93 s"
     ]
    },
    {
     "name": "stdout",
     "output_type": "stream",
     "text": [
      "\r",
      "[############################            ] | 71% Completed | 134.04 s"
     ]
    },
    {
     "name": "stdout",
     "output_type": "stream",
     "text": [
      "\r",
      "[############################            ] | 71% Completed | 134.14 s"
     ]
    },
    {
     "name": "stdout",
     "output_type": "stream",
     "text": [
      "\r",
      "[############################            ] | 71% Completed | 134.24 s"
     ]
    },
    {
     "name": "stdout",
     "output_type": "stream",
     "text": [
      "\r",
      "[############################            ] | 71% Completed | 134.34 s"
     ]
    },
    {
     "name": "stdout",
     "output_type": "stream",
     "text": [
      "\r",
      "[############################            ] | 71% Completed | 134.45 s"
     ]
    },
    {
     "name": "stdout",
     "output_type": "stream",
     "text": [
      "\r",
      "[############################            ] | 71% Completed | 134.55 s"
     ]
    },
    {
     "name": "stdout",
     "output_type": "stream",
     "text": [
      "\r",
      "[############################            ] | 71% Completed | 134.65 s"
     ]
    },
    {
     "name": "stdout",
     "output_type": "stream",
     "text": [
      "\r",
      "[############################            ] | 71% Completed | 134.75 s"
     ]
    },
    {
     "name": "stdout",
     "output_type": "stream",
     "text": [
      "\r",
      "[############################            ] | 71% Completed | 134.86 s"
     ]
    },
    {
     "name": "stdout",
     "output_type": "stream",
     "text": [
      "\r",
      "[############################            ] | 71% Completed | 134.96 s"
     ]
    },
    {
     "name": "stdout",
     "output_type": "stream",
     "text": [
      "\r",
      "[############################            ] | 71% Completed | 135.06 s"
     ]
    },
    {
     "name": "stdout",
     "output_type": "stream",
     "text": [
      "\r",
      "[############################            ] | 71% Completed | 135.17 s"
     ]
    },
    {
     "name": "stdout",
     "output_type": "stream",
     "text": [
      "\r",
      "[############################            ] | 72% Completed | 135.27 s"
     ]
    },
    {
     "name": "stdout",
     "output_type": "stream",
     "text": [
      "\r",
      "[############################            ] | 72% Completed | 135.38 s"
     ]
    },
    {
     "name": "stdout",
     "output_type": "stream",
     "text": [
      "\r",
      "[############################            ] | 72% Completed | 135.48 s"
     ]
    },
    {
     "name": "stdout",
     "output_type": "stream",
     "text": [
      "\r",
      "[#############################           ] | 72% Completed | 135.58 s"
     ]
    },
    {
     "name": "stdout",
     "output_type": "stream",
     "text": [
      "\r",
      "[#############################           ] | 72% Completed | 135.68 s"
     ]
    },
    {
     "name": "stdout",
     "output_type": "stream",
     "text": [
      "\r",
      "[#############################           ] | 72% Completed | 135.79 s"
     ]
    },
    {
     "name": "stdout",
     "output_type": "stream",
     "text": [
      "\r",
      "[#############################           ] | 72% Completed | 135.89 s"
     ]
    },
    {
     "name": "stdout",
     "output_type": "stream",
     "text": [
      "\r",
      "[#############################           ] | 72% Completed | 135.99 s"
     ]
    },
    {
     "name": "stdout",
     "output_type": "stream",
     "text": [
      "\r",
      "[#############################           ] | 72% Completed | 136.09 s"
     ]
    },
    {
     "name": "stdout",
     "output_type": "stream",
     "text": [
      "\r",
      "[#############################           ] | 72% Completed | 136.20 s"
     ]
    },
    {
     "name": "stdout",
     "output_type": "stream",
     "text": [
      "\r",
      "[#############################           ] | 72% Completed | 136.30 s"
     ]
    },
    {
     "name": "stdout",
     "output_type": "stream",
     "text": [
      "\r",
      "[#############################           ] | 72% Completed | 136.40 s"
     ]
    },
    {
     "name": "stdout",
     "output_type": "stream",
     "text": [
      "\r",
      "[#############################           ] | 73% Completed | 136.50 s"
     ]
    },
    {
     "name": "stdout",
     "output_type": "stream",
     "text": [
      "\r",
      "[#############################           ] | 73% Completed | 136.60 s"
     ]
    },
    {
     "name": "stdout",
     "output_type": "stream",
     "text": [
      "\r",
      "[#############################           ] | 73% Completed | 136.71 s"
     ]
    },
    {
     "name": "stdout",
     "output_type": "stream",
     "text": [
      "\r",
      "[#############################           ] | 73% Completed | 136.81 s"
     ]
    },
    {
     "name": "stdout",
     "output_type": "stream",
     "text": [
      "\r",
      "[#############################           ] | 73% Completed | 136.91 s"
     ]
    },
    {
     "name": "stdout",
     "output_type": "stream",
     "text": [
      "\r",
      "[#############################           ] | 73% Completed | 137.01 s"
     ]
    },
    {
     "name": "stdout",
     "output_type": "stream",
     "text": [
      "\r",
      "[#############################           ] | 73% Completed | 137.11 s"
     ]
    },
    {
     "name": "stdout",
     "output_type": "stream",
     "text": [
      "\r",
      "[#############################           ] | 73% Completed | 137.21 s"
     ]
    },
    {
     "name": "stdout",
     "output_type": "stream",
     "text": [
      "\r",
      "[#############################           ] | 73% Completed | 137.32 s"
     ]
    },
    {
     "name": "stdout",
     "output_type": "stream",
     "text": [
      "\r",
      "[#############################           ] | 73% Completed | 137.42 s"
     ]
    },
    {
     "name": "stdout",
     "output_type": "stream",
     "text": [
      "\r",
      "[#############################           ] | 73% Completed | 137.52 s"
     ]
    },
    {
     "name": "stdout",
     "output_type": "stream",
     "text": [
      "\r",
      "[#############################           ] | 73% Completed | 137.62 s"
     ]
    },
    {
     "name": "stdout",
     "output_type": "stream",
     "text": [
      "\r",
      "[#############################           ] | 73% Completed | 137.72 s"
     ]
    },
    {
     "name": "stdout",
     "output_type": "stream",
     "text": [
      "\r",
      "[#############################           ] | 73% Completed | 137.83 s"
     ]
    },
    {
     "name": "stdout",
     "output_type": "stream",
     "text": [
      "\r",
      "[#############################           ] | 73% Completed | 137.93 s"
     ]
    },
    {
     "name": "stdout",
     "output_type": "stream",
     "text": [
      "\r",
      "[#############################           ] | 73% Completed | 138.03 s"
     ]
    },
    {
     "name": "stdout",
     "output_type": "stream",
     "text": [
      "\r",
      "[#############################           ] | 73% Completed | 138.13 s"
     ]
    },
    {
     "name": "stdout",
     "output_type": "stream",
     "text": [
      "\r",
      "[#############################           ] | 74% Completed | 138.24 s"
     ]
    },
    {
     "name": "stdout",
     "output_type": "stream",
     "text": [
      "\r",
      "[#############################           ] | 74% Completed | 138.34 s"
     ]
    },
    {
     "name": "stdout",
     "output_type": "stream",
     "text": [
      "\r",
      "[#############################           ] | 74% Completed | 138.44 s"
     ]
    },
    {
     "name": "stdout",
     "output_type": "stream",
     "text": [
      "\r",
      "[#############################           ] | 74% Completed | 138.54 s"
     ]
    },
    {
     "name": "stdout",
     "output_type": "stream",
     "text": [
      "\r",
      "[#############################           ] | 74% Completed | 138.64 s"
     ]
    },
    {
     "name": "stdout",
     "output_type": "stream",
     "text": [
      "\r",
      "[#############################           ] | 74% Completed | 138.74 s"
     ]
    },
    {
     "name": "stdout",
     "output_type": "stream",
     "text": [
      "\r",
      "[#############################           ] | 74% Completed | 138.84 s"
     ]
    },
    {
     "name": "stdout",
     "output_type": "stream",
     "text": [
      "\r",
      "[#############################           ] | 74% Completed | 138.94 s"
     ]
    },
    {
     "name": "stdout",
     "output_type": "stream",
     "text": [
      "\r",
      "[#############################           ] | 74% Completed | 139.05 s"
     ]
    },
    {
     "name": "stdout",
     "output_type": "stream",
     "text": [
      "\r",
      "[#############################           ] | 74% Completed | 139.15 s"
     ]
    },
    {
     "name": "stdout",
     "output_type": "stream",
     "text": [
      "\r",
      "[#############################           ] | 74% Completed | 139.25 s"
     ]
    },
    {
     "name": "stdout",
     "output_type": "stream",
     "text": [
      "\r",
      "[#############################           ] | 74% Completed | 139.35 s"
     ]
    },
    {
     "name": "stdout",
     "output_type": "stream",
     "text": [
      "\r",
      "[#############################           ] | 74% Completed | 139.46 s"
     ]
    },
    {
     "name": "stdout",
     "output_type": "stream",
     "text": [
      "\r",
      "[#############################           ] | 74% Completed | 139.56 s"
     ]
    },
    {
     "name": "stdout",
     "output_type": "stream",
     "text": [
      "\r",
      "[#############################           ] | 74% Completed | 139.66 s"
     ]
    },
    {
     "name": "stdout",
     "output_type": "stream",
     "text": [
      "\r",
      "[##############################          ] | 75% Completed | 139.76 s"
     ]
    },
    {
     "name": "stdout",
     "output_type": "stream",
     "text": [
      "\r",
      "[##############################          ] | 75% Completed | 139.87 s"
     ]
    },
    {
     "name": "stdout",
     "output_type": "stream",
     "text": [
      "\r",
      "[##############################          ] | 75% Completed | 139.97 s"
     ]
    },
    {
     "name": "stdout",
     "output_type": "stream",
     "text": [
      "\r",
      "[##############################          ] | 75% Completed | 140.07 s"
     ]
    },
    {
     "name": "stdout",
     "output_type": "stream",
     "text": [
      "\r",
      "[##############################          ] | 75% Completed | 140.17 s"
     ]
    },
    {
     "name": "stdout",
     "output_type": "stream",
     "text": [
      "\r",
      "[##############################          ] | 75% Completed | 140.28 s"
     ]
    },
    {
     "name": "stdout",
     "output_type": "stream",
     "text": [
      "\r",
      "[##############################          ] | 75% Completed | 140.38 s"
     ]
    },
    {
     "name": "stdout",
     "output_type": "stream",
     "text": [
      "\r",
      "[##############################          ] | 75% Completed | 140.48 s"
     ]
    },
    {
     "name": "stdout",
     "output_type": "stream",
     "text": [
      "\r",
      "[##############################          ] | 76% Completed | 140.58 s"
     ]
    },
    {
     "name": "stdout",
     "output_type": "stream",
     "text": [
      "\r",
      "[##############################          ] | 76% Completed | 140.68 s"
     ]
    },
    {
     "name": "stdout",
     "output_type": "stream",
     "text": [
      "\r",
      "[##############################          ] | 76% Completed | 140.79 s"
     ]
    },
    {
     "name": "stdout",
     "output_type": "stream",
     "text": [
      "\r",
      "[##############################          ] | 76% Completed | 140.89 s"
     ]
    },
    {
     "name": "stdout",
     "output_type": "stream",
     "text": [
      "\r",
      "[##############################          ] | 76% Completed | 140.99 s"
     ]
    },
    {
     "name": "stdout",
     "output_type": "stream",
     "text": [
      "\r",
      "[##############################          ] | 76% Completed | 141.09 s"
     ]
    },
    {
     "name": "stdout",
     "output_type": "stream",
     "text": [
      "\r",
      "[##############################          ] | 77% Completed | 141.19 s"
     ]
    },
    {
     "name": "stdout",
     "output_type": "stream",
     "text": [
      "\r",
      "[##############################          ] | 77% Completed | 141.29 s"
     ]
    },
    {
     "name": "stdout",
     "output_type": "stream",
     "text": [
      "\r",
      "[##############################          ] | 77% Completed | 141.40 s"
     ]
    },
    {
     "name": "stdout",
     "output_type": "stream",
     "text": [
      "\r",
      "[##############################          ] | 77% Completed | 141.50 s"
     ]
    },
    {
     "name": "stdout",
     "output_type": "stream",
     "text": [
      "\r",
      "[###############################         ] | 77% Completed | 141.60 s"
     ]
    },
    {
     "name": "stdout",
     "output_type": "stream",
     "text": [
      "\r",
      "[###############################         ] | 77% Completed | 141.70 s"
     ]
    },
    {
     "name": "stdout",
     "output_type": "stream",
     "text": [
      "\r",
      "[###############################         ] | 77% Completed | 141.81 s"
     ]
    },
    {
     "name": "stdout",
     "output_type": "stream",
     "text": [
      "\r",
      "[###############################         ] | 78% Completed | 141.91 s"
     ]
    },
    {
     "name": "stdout",
     "output_type": "stream",
     "text": [
      "\r",
      "[###############################         ] | 78% Completed | 142.01 s"
     ]
    },
    {
     "name": "stdout",
     "output_type": "stream",
     "text": [
      "\r",
      "[###############################         ] | 78% Completed | 142.11 s"
     ]
    },
    {
     "name": "stdout",
     "output_type": "stream",
     "text": [
      "\r",
      "[###############################         ] | 78% Completed | 142.21 s"
     ]
    },
    {
     "name": "stdout",
     "output_type": "stream",
     "text": [
      "\r",
      "[###############################         ] | 78% Completed | 142.32 s"
     ]
    },
    {
     "name": "stdout",
     "output_type": "stream",
     "text": [
      "\r",
      "[###############################         ] | 78% Completed | 142.42 s"
     ]
    },
    {
     "name": "stdout",
     "output_type": "stream",
     "text": [
      "\r",
      "[###############################         ] | 78% Completed | 142.52 s"
     ]
    },
    {
     "name": "stdout",
     "output_type": "stream",
     "text": [
      "\r",
      "[###############################         ] | 79% Completed | 142.62 s"
     ]
    },
    {
     "name": "stdout",
     "output_type": "stream",
     "text": [
      "\r",
      "[###############################         ] | 79% Completed | 142.72 s"
     ]
    },
    {
     "name": "stdout",
     "output_type": "stream",
     "text": [
      "\r",
      "[###############################         ] | 79% Completed | 142.82 s"
     ]
    },
    {
     "name": "stdout",
     "output_type": "stream",
     "text": [
      "\r",
      "[###############################         ] | 79% Completed | 142.93 s"
     ]
    },
    {
     "name": "stdout",
     "output_type": "stream",
     "text": [
      "\r",
      "[###############################         ] | 79% Completed | 143.03 s"
     ]
    },
    {
     "name": "stdout",
     "output_type": "stream",
     "text": [
      "\r",
      "[###############################         ] | 79% Completed | 143.13 s"
     ]
    },
    {
     "name": "stdout",
     "output_type": "stream",
     "text": [
      "\r",
      "[###############################         ] | 79% Completed | 143.23 s"
     ]
    },
    {
     "name": "stdout",
     "output_type": "stream",
     "text": [
      "\r",
      "[###############################         ] | 79% Completed | 143.34 s"
     ]
    },
    {
     "name": "stdout",
     "output_type": "stream",
     "text": [
      "\r",
      "[###############################         ] | 79% Completed | 143.44 s"
     ]
    },
    {
     "name": "stdout",
     "output_type": "stream",
     "text": [
      "\r",
      "[################################        ] | 80% Completed | 143.54 s"
     ]
    },
    {
     "name": "stdout",
     "output_type": "stream",
     "text": [
      "\r",
      "[################################        ] | 80% Completed | 143.65 s"
     ]
    },
    {
     "name": "stdout",
     "output_type": "stream",
     "text": [
      "\r",
      "[################################        ] | 80% Completed | 143.75 s"
     ]
    },
    {
     "name": "stdout",
     "output_type": "stream",
     "text": [
      "\r",
      "[################################        ] | 80% Completed | 143.86 s"
     ]
    },
    {
     "name": "stdout",
     "output_type": "stream",
     "text": [
      "\r",
      "[################################        ] | 80% Completed | 143.96 s"
     ]
    },
    {
     "name": "stdout",
     "output_type": "stream",
     "text": [
      "\r",
      "[################################        ] | 80% Completed | 144.06 s"
     ]
    },
    {
     "name": "stdout",
     "output_type": "stream",
     "text": [
      "\r",
      "[################################        ] | 81% Completed | 144.16 s"
     ]
    },
    {
     "name": "stdout",
     "output_type": "stream",
     "text": [
      "\r",
      "[################################        ] | 81% Completed | 144.27 s"
     ]
    },
    {
     "name": "stdout",
     "output_type": "stream",
     "text": [
      "\r",
      "[################################        ] | 81% Completed | 144.37 s"
     ]
    },
    {
     "name": "stdout",
     "output_type": "stream",
     "text": [
      "\r",
      "[################################        ] | 81% Completed | 144.47 s"
     ]
    },
    {
     "name": "stdout",
     "output_type": "stream",
     "text": [
      "\r",
      "[################################        ] | 81% Completed | 144.58 s"
     ]
    },
    {
     "name": "stdout",
     "output_type": "stream",
     "text": [
      "\r",
      "[################################        ] | 81% Completed | 144.68 s"
     ]
    },
    {
     "name": "stdout",
     "output_type": "stream",
     "text": [
      "\r",
      "[################################        ] | 81% Completed | 144.78 s"
     ]
    },
    {
     "name": "stdout",
     "output_type": "stream",
     "text": [
      "\r",
      "[################################        ] | 81% Completed | 144.88 s"
     ]
    },
    {
     "name": "stdout",
     "output_type": "stream",
     "text": [
      "\r",
      "[################################        ] | 81% Completed | 144.98 s"
     ]
    },
    {
     "name": "stdout",
     "output_type": "stream",
     "text": [
      "\r",
      "[################################        ] | 82% Completed | 145.08 s"
     ]
    },
    {
     "name": "stdout",
     "output_type": "stream",
     "text": [
      "\r",
      "[################################        ] | 82% Completed | 145.19 s"
     ]
    },
    {
     "name": "stdout",
     "output_type": "stream",
     "text": [
      "\r",
      "[################################        ] | 82% Completed | 145.29 s"
     ]
    },
    {
     "name": "stdout",
     "output_type": "stream",
     "text": [
      "\r",
      "[################################        ] | 82% Completed | 145.39 s"
     ]
    },
    {
     "name": "stdout",
     "output_type": "stream",
     "text": [
      "\r",
      "[#################################       ] | 82% Completed | 145.49 s"
     ]
    },
    {
     "name": "stdout",
     "output_type": "stream",
     "text": [
      "\r",
      "[#################################       ] | 82% Completed | 145.59 s"
     ]
    },
    {
     "name": "stdout",
     "output_type": "stream",
     "text": [
      "\r",
      "[#################################       ] | 82% Completed | 145.70 s"
     ]
    },
    {
     "name": "stdout",
     "output_type": "stream",
     "text": [
      "\r",
      "[#################################       ] | 82% Completed | 145.80 s"
     ]
    },
    {
     "name": "stdout",
     "output_type": "stream",
     "text": [
      "\r",
      "[#################################       ] | 82% Completed | 145.90 s"
     ]
    },
    {
     "name": "stdout",
     "output_type": "stream",
     "text": [
      "\r",
      "[#################################       ] | 83% Completed | 146.00 s"
     ]
    },
    {
     "name": "stdout",
     "output_type": "stream",
     "text": [
      "\r",
      "[#################################       ] | 83% Completed | 146.10 s"
     ]
    },
    {
     "name": "stdout",
     "output_type": "stream",
     "text": [
      "\r",
      "[#################################       ] | 83% Completed | 146.21 s"
     ]
    },
    {
     "name": "stdout",
     "output_type": "stream",
     "text": [
      "\r",
      "[#################################       ] | 83% Completed | 146.31 s"
     ]
    },
    {
     "name": "stdout",
     "output_type": "stream",
     "text": [
      "\r",
      "[#################################       ] | 83% Completed | 146.41 s"
     ]
    },
    {
     "name": "stdout",
     "output_type": "stream",
     "text": [
      "\r",
      "[#################################       ] | 83% Completed | 146.51 s"
     ]
    },
    {
     "name": "stdout",
     "output_type": "stream",
     "text": [
      "\r",
      "[#################################       ] | 83% Completed | 146.62 s"
     ]
    },
    {
     "name": "stdout",
     "output_type": "stream",
     "text": [
      "\r",
      "[#################################       ] | 83% Completed | 146.72 s"
     ]
    },
    {
     "name": "stdout",
     "output_type": "stream",
     "text": [
      "\r",
      "[#################################       ] | 84% Completed | 146.82 s"
     ]
    },
    {
     "name": "stdout",
     "output_type": "stream",
     "text": [
      "\r",
      "[#################################       ] | 84% Completed | 146.92 s"
     ]
    },
    {
     "name": "stdout",
     "output_type": "stream",
     "text": [
      "\r",
      "[#################################       ] | 84% Completed | 147.02 s"
     ]
    },
    {
     "name": "stdout",
     "output_type": "stream",
     "text": [
      "\r",
      "[#################################       ] | 84% Completed | 147.13 s"
     ]
    },
    {
     "name": "stdout",
     "output_type": "stream",
     "text": [
      "\r",
      "[#################################       ] | 84% Completed | 147.23 s"
     ]
    },
    {
     "name": "stdout",
     "output_type": "stream",
     "text": [
      "\r",
      "[#################################       ] | 84% Completed | 147.33 s"
     ]
    },
    {
     "name": "stdout",
     "output_type": "stream",
     "text": [
      "\r",
      "[##################################      ] | 85% Completed | 147.43 s"
     ]
    },
    {
     "name": "stdout",
     "output_type": "stream",
     "text": [
      "\r",
      "[##################################      ] | 85% Completed | 147.53 s"
     ]
    },
    {
     "name": "stdout",
     "output_type": "stream",
     "text": [
      "\r",
      "[##################################      ] | 85% Completed | 147.64 s"
     ]
    },
    {
     "name": "stdout",
     "output_type": "stream",
     "text": [
      "\r",
      "[##################################      ] | 85% Completed | 147.74 s"
     ]
    },
    {
     "name": "stdout",
     "output_type": "stream",
     "text": [
      "\r",
      "[##################################      ] | 85% Completed | 147.84 s"
     ]
    },
    {
     "name": "stdout",
     "output_type": "stream",
     "text": [
      "\r",
      "[##################################      ] | 85% Completed | 147.94 s"
     ]
    },
    {
     "name": "stdout",
     "output_type": "stream",
     "text": [
      "\r",
      "[##################################      ] | 85% Completed | 148.04 s"
     ]
    },
    {
     "name": "stdout",
     "output_type": "stream",
     "text": [
      "\r",
      "[##################################      ] | 85% Completed | 148.15 s"
     ]
    },
    {
     "name": "stdout",
     "output_type": "stream",
     "text": [
      "\r",
      "[##################################      ] | 85% Completed | 148.25 s"
     ]
    },
    {
     "name": "stdout",
     "output_type": "stream",
     "text": [
      "\r",
      "[##################################      ] | 86% Completed | 148.35 s"
     ]
    },
    {
     "name": "stdout",
     "output_type": "stream",
     "text": [
      "\r",
      "[##################################      ] | 86% Completed | 148.46 s"
     ]
    },
    {
     "name": "stdout",
     "output_type": "stream",
     "text": [
      "\r",
      "[##################################      ] | 86% Completed | 148.56 s"
     ]
    },
    {
     "name": "stdout",
     "output_type": "stream",
     "text": [
      "\r",
      "[##################################      ] | 86% Completed | 148.66 s"
     ]
    },
    {
     "name": "stdout",
     "output_type": "stream",
     "text": [
      "\r",
      "[##################################      ] | 86% Completed | 148.76 s"
     ]
    },
    {
     "name": "stdout",
     "output_type": "stream",
     "text": [
      "\r",
      "[##################################      ] | 86% Completed | 148.86 s"
     ]
    },
    {
     "name": "stdout",
     "output_type": "stream",
     "text": [
      "\r",
      "[##################################      ] | 86% Completed | 148.97 s"
     ]
    },
    {
     "name": "stdout",
     "output_type": "stream",
     "text": [
      "\r",
      "[##################################      ] | 87% Completed | 149.07 s"
     ]
    },
    {
     "name": "stdout",
     "output_type": "stream",
     "text": [
      "\r",
      "[##################################      ] | 87% Completed | 149.17 s"
     ]
    },
    {
     "name": "stdout",
     "output_type": "stream",
     "text": [
      "\r",
      "[##################################      ] | 87% Completed | 149.27 s"
     ]
    },
    {
     "name": "stdout",
     "output_type": "stream",
     "text": [
      "\r",
      "[###################################     ] | 87% Completed | 149.38 s"
     ]
    },
    {
     "name": "stdout",
     "output_type": "stream",
     "text": [
      "\r",
      "[###################################     ] | 87% Completed | 149.48 s"
     ]
    },
    {
     "name": "stdout",
     "output_type": "stream",
     "text": [
      "\r",
      "[###################################     ] | 87% Completed | 149.58 s"
     ]
    },
    {
     "name": "stdout",
     "output_type": "stream",
     "text": [
      "\r",
      "[###################################     ] | 87% Completed | 149.68 s"
     ]
    },
    {
     "name": "stdout",
     "output_type": "stream",
     "text": [
      "\r",
      "[###################################     ] | 88% Completed | 149.79 s"
     ]
    },
    {
     "name": "stdout",
     "output_type": "stream",
     "text": [
      "\r",
      "[###################################     ] | 88% Completed | 149.89 s"
     ]
    },
    {
     "name": "stdout",
     "output_type": "stream",
     "text": [
      "\r",
      "[###################################     ] | 88% Completed | 149.99 s"
     ]
    },
    {
     "name": "stdout",
     "output_type": "stream",
     "text": [
      "\r",
      "[###################################     ] | 88% Completed | 150.09 s"
     ]
    },
    {
     "name": "stdout",
     "output_type": "stream",
     "text": [
      "\r",
      "[###################################     ] | 88% Completed | 150.19 s"
     ]
    },
    {
     "name": "stdout",
     "output_type": "stream",
     "text": [
      "\r",
      "[###################################     ] | 88% Completed | 150.29 s"
     ]
    },
    {
     "name": "stdout",
     "output_type": "stream",
     "text": [
      "\r",
      "[###################################     ] | 89% Completed | 150.40 s"
     ]
    },
    {
     "name": "stdout",
     "output_type": "stream",
     "text": [
      "\r",
      "[###################################     ] | 89% Completed | 150.50 s"
     ]
    },
    {
     "name": "stdout",
     "output_type": "stream",
     "text": [
      "\r",
      "[###################################     ] | 89% Completed | 150.60 s"
     ]
    },
    {
     "name": "stdout",
     "output_type": "stream",
     "text": [
      "\r",
      "[###################################     ] | 89% Completed | 150.70 s"
     ]
    },
    {
     "name": "stdout",
     "output_type": "stream",
     "text": [
      "\r",
      "[###################################     ] | 89% Completed | 150.80 s"
     ]
    },
    {
     "name": "stdout",
     "output_type": "stream",
     "text": [
      "\r",
      "[###################################     ] | 89% Completed | 150.91 s"
     ]
    },
    {
     "name": "stdout",
     "output_type": "stream",
     "text": [
      "\r",
      "[###################################     ] | 89% Completed | 151.01 s"
     ]
    },
    {
     "name": "stdout",
     "output_type": "stream",
     "text": [
      "\r",
      "[###################################     ] | 89% Completed | 151.11 s"
     ]
    },
    {
     "name": "stdout",
     "output_type": "stream",
     "text": [
      "\r",
      "[####################################    ] | 90% Completed | 151.22 s"
     ]
    },
    {
     "name": "stdout",
     "output_type": "stream",
     "text": [
      "\r",
      "[####################################    ] | 90% Completed | 151.32 s"
     ]
    },
    {
     "name": "stdout",
     "output_type": "stream",
     "text": [
      "\r",
      "[####################################    ] | 90% Completed | 151.42 s"
     ]
    },
    {
     "name": "stdout",
     "output_type": "stream",
     "text": [
      "\r",
      "[####################################    ] | 90% Completed | 151.52 s"
     ]
    },
    {
     "name": "stdout",
     "output_type": "stream",
     "text": [
      "\r",
      "[####################################    ] | 90% Completed | 151.63 s"
     ]
    },
    {
     "name": "stdout",
     "output_type": "stream",
     "text": [
      "\r",
      "[####################################    ] | 90% Completed | 151.73 s"
     ]
    },
    {
     "name": "stdout",
     "output_type": "stream",
     "text": [
      "\r",
      "[####################################    ] | 91% Completed | 151.83 s"
     ]
    },
    {
     "name": "stdout",
     "output_type": "stream",
     "text": [
      "\r",
      "[####################################    ] | 91% Completed | 151.93 s"
     ]
    },
    {
     "name": "stdout",
     "output_type": "stream",
     "text": [
      "\r",
      "[####################################    ] | 91% Completed | 152.03 s"
     ]
    },
    {
     "name": "stdout",
     "output_type": "stream",
     "text": [
      "\r",
      "[####################################    ] | 91% Completed | 152.14 s"
     ]
    },
    {
     "name": "stdout",
     "output_type": "stream",
     "text": [
      "\r",
      "[####################################    ] | 91% Completed | 152.24 s"
     ]
    },
    {
     "name": "stdout",
     "output_type": "stream",
     "text": [
      "\r",
      "[####################################    ] | 91% Completed | 152.34 s"
     ]
    },
    {
     "name": "stdout",
     "output_type": "stream",
     "text": [
      "\r",
      "[####################################    ] | 91% Completed | 152.44 s"
     ]
    },
    {
     "name": "stdout",
     "output_type": "stream",
     "text": [
      "\r",
      "[####################################    ] | 91% Completed | 152.54 s"
     ]
    },
    {
     "name": "stdout",
     "output_type": "stream",
     "text": [
      "\r",
      "[####################################    ] | 91% Completed | 152.65 s"
     ]
    },
    {
     "name": "stdout",
     "output_type": "stream",
     "text": [
      "\r",
      "[####################################    ] | 92% Completed | 152.75 s"
     ]
    },
    {
     "name": "stdout",
     "output_type": "stream",
     "text": [
      "\r",
      "[####################################    ] | 92% Completed | 152.85 s"
     ]
    },
    {
     "name": "stdout",
     "output_type": "stream",
     "text": [
      "\r",
      "[####################################    ] | 92% Completed | 152.95 s"
     ]
    },
    {
     "name": "stdout",
     "output_type": "stream",
     "text": [
      "\r",
      "[#####################################   ] | 92% Completed | 153.06 s"
     ]
    },
    {
     "name": "stdout",
     "output_type": "stream",
     "text": [
      "\r",
      "[#####################################   ] | 92% Completed | 153.16 s"
     ]
    },
    {
     "name": "stdout",
     "output_type": "stream",
     "text": [
      "\r",
      "[#####################################   ] | 92% Completed | 153.26 s"
     ]
    },
    {
     "name": "stdout",
     "output_type": "stream",
     "text": [
      "\r",
      "[#####################################   ] | 92% Completed | 153.36 s"
     ]
    },
    {
     "name": "stdout",
     "output_type": "stream",
     "text": [
      "\r",
      "[#####################################   ] | 92% Completed | 153.46 s"
     ]
    },
    {
     "name": "stdout",
     "output_type": "stream",
     "text": [
      "\r",
      "[#####################################   ] | 93% Completed | 153.57 s"
     ]
    },
    {
     "name": "stdout",
     "output_type": "stream",
     "text": [
      "\r",
      "[#####################################   ] | 93% Completed | 153.67 s"
     ]
    },
    {
     "name": "stdout",
     "output_type": "stream",
     "text": [
      "\r",
      "[#####################################   ] | 93% Completed | 153.77 s"
     ]
    },
    {
     "name": "stdout",
     "output_type": "stream",
     "text": [
      "\r",
      "[#####################################   ] | 93% Completed | 153.87 s"
     ]
    },
    {
     "name": "stdout",
     "output_type": "stream",
     "text": [
      "\r",
      "[#####################################   ] | 93% Completed | 153.97 s"
     ]
    },
    {
     "name": "stdout",
     "output_type": "stream",
     "text": [
      "\r",
      "[#####################################   ] | 93% Completed | 154.08 s"
     ]
    },
    {
     "name": "stdout",
     "output_type": "stream",
     "text": [
      "\r",
      "[#####################################   ] | 93% Completed | 154.18 s"
     ]
    },
    {
     "name": "stdout",
     "output_type": "stream",
     "text": [
      "\r",
      "[#####################################   ] | 94% Completed | 154.28 s"
     ]
    },
    {
     "name": "stdout",
     "output_type": "stream",
     "text": [
      "\r",
      "[#####################################   ] | 94% Completed | 154.38 s"
     ]
    },
    {
     "name": "stdout",
     "output_type": "stream",
     "text": [
      "\r",
      "[#####################################   ] | 94% Completed | 154.48 s"
     ]
    },
    {
     "name": "stdout",
     "output_type": "stream",
     "text": [
      "\r",
      "[#####################################   ] | 94% Completed | 154.59 s"
     ]
    },
    {
     "name": "stdout",
     "output_type": "stream",
     "text": [
      "\r",
      "[#####################################   ] | 94% Completed | 154.69 s"
     ]
    },
    {
     "name": "stdout",
     "output_type": "stream",
     "text": [
      "\r",
      "[#####################################   ] | 94% Completed | 154.79 s"
     ]
    },
    {
     "name": "stdout",
     "output_type": "stream",
     "text": [
      "\r",
      "[#####################################   ] | 94% Completed | 154.89 s"
     ]
    },
    {
     "name": "stdout",
     "output_type": "stream",
     "text": [
      "\r",
      "[#####################################   ] | 94% Completed | 155.00 s"
     ]
    },
    {
     "name": "stdout",
     "output_type": "stream",
     "text": [
      "\r",
      "[######################################  ] | 95% Completed | 155.10 s"
     ]
    },
    {
     "name": "stdout",
     "output_type": "stream",
     "text": [
      "\r",
      "[######################################  ] | 95% Completed | 155.20 s"
     ]
    },
    {
     "name": "stdout",
     "output_type": "stream",
     "text": [
      "\r",
      "[######################################  ] | 95% Completed | 155.30 s"
     ]
    },
    {
     "name": "stdout",
     "output_type": "stream",
     "text": [
      "\r",
      "[######################################  ] | 95% Completed | 155.40 s"
     ]
    },
    {
     "name": "stdout",
     "output_type": "stream",
     "text": [
      "\r",
      "[######################################  ] | 95% Completed | 155.51 s"
     ]
    },
    {
     "name": "stdout",
     "output_type": "stream",
     "text": [
      "\r",
      "[######################################  ] | 96% Completed | 155.61 s"
     ]
    },
    {
     "name": "stdout",
     "output_type": "stream",
     "text": [
      "\r",
      "[######################################  ] | 96% Completed | 155.71 s"
     ]
    },
    {
     "name": "stdout",
     "output_type": "stream",
     "text": [
      "\r",
      "[######################################  ] | 96% Completed | 155.81 s"
     ]
    },
    {
     "name": "stdout",
     "output_type": "stream",
     "text": [
      "\r",
      "[######################################  ] | 96% Completed | 155.91 s"
     ]
    },
    {
     "name": "stdout",
     "output_type": "stream",
     "text": [
      "\r",
      "[######################################  ] | 96% Completed | 156.02 s"
     ]
    },
    {
     "name": "stdout",
     "output_type": "stream",
     "text": [
      "\r",
      "[####################################### ] | 98% Completed | 156.12 s"
     ]
    },
    {
     "name": "stdout",
     "output_type": "stream",
     "text": [
      "\r",
      "[####################################### ] | 99% Completed | 156.22 s"
     ]
    },
    {
     "name": "stdout",
     "output_type": "stream",
     "text": [
      "\r",
      "[####################################### ] | 99% Completed | 156.32 s"
     ]
    },
    {
     "name": "stdout",
     "output_type": "stream",
     "text": [
      "\r",
      "[####################################### ] | 99% Completed | 156.42 s"
     ]
    },
    {
     "name": "stdout",
     "output_type": "stream",
     "text": [
      "\r",
      "[####################################### ] | 99% Completed | 156.53 s"
     ]
    },
    {
     "name": "stdout",
     "output_type": "stream",
     "text": [
      "\r",
      "[########################################] | 100% Completed | 156.63 s"
     ]
    },
    {
     "name": "stdout",
     "output_type": "stream",
     "text": [
      "\n"
     ]
    }
   ],
   "source": [
    "with dask.diagnostics.ProgressBar():\n",
    "    combined = combined.compute()"
   ]
  },
  {
   "cell_type": "code",
   "execution_count": 8,
   "metadata": {
    "execution": {
     "iopub.execute_input": "2024-12-01T13:17:12.565489Z",
     "iopub.status.busy": "2024-12-01T13:17:12.565156Z",
     "iopub.status.idle": "2024-12-01T13:17:12.575600Z",
     "shell.execute_reply": "2024-12-01T13:17:12.574705Z"
    }
   },
   "outputs": [],
   "source": [
    "delta = combined.drop_sel(factor=1.0) - combined.sel(factor=1.0)\n",
    "delta_log_factor = delta.assign_coords(factor=np.log(delta.factor))"
   ]
  },
  {
   "cell_type": "code",
   "execution_count": 9,
   "metadata": {
    "execution": {
     "iopub.execute_input": "2024-12-01T13:17:12.578952Z",
     "iopub.status.busy": "2024-12-01T13:17:12.578374Z",
     "iopub.status.idle": "2024-12-01T13:17:13.973596Z",
     "shell.execute_reply": "2024-12-01T13:17:13.972507Z"
    }
   },
   "outputs": [
    {
     "data": {
      "image/png": "[encoded data removed]",
      "text/plain": [
       "<Figure size 550x209.05 with 24 Axes>"
      ]
     },
     "metadata": {},
     "output_type": "display_data"
    }
   ],
   "source": [
    "fig, axes = faceted.faceted(\n",
    "    2,\n",
    "    4,\n",
    "    width=5.5,\n",
    "    internal_pad=(0.1, 0.1),\n",
    "    left_pad=0.6,\n",
    "    bottom_pad=0.5,\n",
    "    top_pad=0.1,\n",
    "    right_pad=0.1,\n",
    ")\n",
    "\n",
    "ax1, ax2, ax3, ax4, ax5, ax6, ax7, ax8 = axes\n",
    "\n",
    "\n",
    "PANELS = {\n",
    "    ax1: \"ULWRFtoa\",\n",
    "    ax2: False,\n",
    "    ax3: \"USWRFtoa\",\n",
    "    ax4: False,\n",
    "    ax5: \"ULWRFsfc\",\n",
    "    ax6: \"DLWRFsfc\",\n",
    "    ax7: \"USWRFsfc\",\n",
    "    ax8: \"DSWRFsfc\",\n",
    "}\n",
    "COLORS = {\n",
    "    REFERENCE: \"black\",\n",
    "    ACE2_SOM: \"C0\",\n",
    "    BASELINE: \"C1\",\n",
    "}\n",
    "LINE_STYLE = {\n",
    "    REFERENCE: \"-\",\n",
    "    BASELINE: \"--\",\n",
    "    ACE2_SOM: \"--\",\n",
    "}\n",
    "LABELS = {REFERENCE: \"C96 SHiELD-SOM\", BASELINE: \"C24 SHiELD-SOM\", ACE2_SOM: \"ACE2-SOM\"}\n",
    "ZORDER = {\n",
    "    REFERENCE: 1,  # Start at 1 to allow for zero reference line at 0.\n",
    "    BASELINE: 2,\n",
    "    ACE2_SOM: 3,\n",
    "}\n",
    "\n",
    "for ax, name in PANELS.items():\n",
    "    if name:\n",
    "        for model, color in COLORS.items():\n",
    "            delta_log_factor[name].sel(model=model).plot(\n",
    "                ax=ax,\n",
    "                color=color,\n",
    "                label=LABELS[model],\n",
    "                add_legend=False,\n",
    "                ls=LINE_STYLE[model],\n",
    "                zorder=ZORDER[model],\n",
    "            )\n",
    "    else:\n",
    "        ax.set_visible(False)\n",
    "\n",
    "for (ax, name), label in zip(\n",
    "    PANELS.items(), [\"a\", None, \"b\", None, \"c\", \"d\", \"e\", \"f\"]\n",
    "):\n",
    "    if name:\n",
    "        ax.axhline(0.0, color=\"gray\", ls=\"--\", lw=0.5, zorder=0)\n",
    "        ax.annotate(\n",
    "            f\"({label}) {name}\",\n",
    "            xy=(0, 1),\n",
    "            xytext=(2, -2),\n",
    "            va=\"top\",\n",
    "            xycoords=\"axes fraction\",\n",
    "            textcoords=\"offset points\",\n",
    "            fontsize=7,\n",
    "        )\n",
    "        ax.set_ylabel(\"\")\n",
    "        ax.set_xticks(np.log(np.array([0.5, 1.0, 2.0, 4.0, 8.0])))\n",
    "        ax.set_xticklabels([\"0.5\", \"1\", \"2\", \"4\", \"8\"])\n",
    "\n",
    "        ax.set_title(\"\")\n",
    "        ax.axvspan(np.log(0.1), np.log(1.0), color=\"gray\", alpha=0.2)\n",
    "        ax.axvspan(np.log(4.0), np.log(10), color=\"gray\", alpha=0.2)\n",
    "        ax.set_ylim(-15, 15)\n",
    "\n",
    "        # Set xlim such that gray areas are equal on either side 1 and 4.\n",
    "        ax.set_xlim(np.log(4 / 9), np.log(9))\n",
    "\n",
    "for ax in axes[4:]:\n",
    "    ax.set_xlabel(\"CO$_2$ scale factor\")\n",
    "\n",
    "ax1.set_xlabel(\"\")\n",
    "ax3.set_xlabel(\"\")\n",
    "\n",
    "ax1.set_ylabel(\"[W/m$^2$]\")\n",
    "ax5.set_ylabel(\"[W/m$^2$]\")\n",
    "ax8.legend(\n",
    "    fontsize=6,\n",
    "    bbox_to_anchor=(1.0, 1.3),\n",
    "    bbox_transform=ax8.transAxes,\n",
    "    loc=\"lower right\",\n",
    ")\n",
    "\n",
    "fig.savefig(\"figures/figure-10.png\", dpi=200)\n",
    "fig.savefig(\"figures/figure-10.pdf\")"
   ]
  },
  {
   "cell_type": "code",
   "execution_count": null,
   "metadata": {},
   "outputs": [],
   "source": []
  }
 ],
 "metadata": {
  "kernelspec": {
   "display_name": "ace2-som-paper2",
   "language": "python",
   "name": "python3"
  },
  "language_info": {
   "codemirror_mode": {
    "name": "ipython",
    "version": 3
   },
   "file_extension": ".py",
   "mimetype": "text/x-python",
   "name": "python",
   "nbconvert_exporter": "python",
   "pygments_lexer": "ipython3",
   "version": "3.10.15"
  },
  "widgets": {
   "application/vnd.jupyter.widget-state+json": {
    "state": {
     "13868f54d04e430fa529fcdb943e538c": {
      "model_module": "@jupyter-widgets/output",
      "model_module_version": "1.0.0",
      "model_name": "OutputModel",
      "state": {
       "_dom_classes": [],
       "_model_module": "@jupyter-widgets/output",
       "_model_module_version": "1.0.0",
       "_model_name": "OutputModel",
       "_view_count": null,
       "_view_module": "@jupyter-widgets/output",
       "_view_module_version": "1.0.0",
       "_view_name": "OutputView",
       "layout": "IPY_MODEL_5292d470e8d14b3d8a6af0dd92174fda",
       "msg_id": "",
       "outputs": [
        {
         "data": {
          "text/html": "<pre style=\"white-space:pre;overflow-x:auto;line-height:normal;font-family:Menlo,'DejaVu Sans Mono',consolas,'Courier New',monospace\">Downloading <span style=\"color: #008000; text-decoration-color: #008000\">⠙</span> <span style=\"color: #808000; text-decoration-color: #808000\">0:00:01</span> <span style=\"color: #800000; text-decoration-color: #800000\">60.6 MB/s</span> <span style=\"color: #008000; text-decoration-color: #008000\">52.4 MB</span>\n</pre>\n",
          "text/plain": "Downloading \u001b[32m⠙\u001b[0m \u001b[33m0:00:01\u001b[0m \u001b[31m60.6 MB/s\u001b[0m \u001b[32m52.4 MB\u001b[0m\n"
         },
         "metadata": {},
         "output_type": "display_data"
        }
       ],
       "tabbable": null,
       "tooltip": null
      }
     },
     "1dad9691aaae4617825e5413b6b865f0": {
      "model_module": "@jupyter-widgets/base",
      "model_module_version": "2.0.0",
      "model_name": "LayoutModel",
      "state": {
       "_model_module": "@jupyter-widgets/base",
       "_model_module_version": "2.0.0",
       "_model_name": "LayoutModel",
       "_view_count": null,
       "_view_module": "@jupyter-widgets/base",
       "_view_module_version": "2.0.0",
       "_view_name": "LayoutView",
       "align_content": null,
       "align_items": null,
       "align_self": null,
       "border_bottom": null,
       "border_left": null,
       "border_right": null,
       "border_top": null,
       "bottom": null,
       "display": null,
       "flex": null,
       "flex_flow": null,
       "grid_area": null,
       "grid_auto_columns": null,
       "grid_auto_flow": null,
       "grid_auto_rows": null,
       "grid_column": null,
       "grid_gap": null,
       "grid_row": null,
       "grid_template_areas": null,
       "grid_template_columns": null,
       "grid_template_rows": null,
       "height": null,
       "justify_content": null,
       "justify_items": null,
       "left": null,
       "margin": null,
       "max_height": null,
       "max_width": null,
       "min_height": null,
       "min_width": null,
       "object_fit": null,
       "object_position": null,
       "order": null,
       "overflow": null,
       "padding": null,
       "right": null,
       "top": null,
       "visibility": null,
       "width": null
      }
     },
     "207855cdf0fb4e3db1c7577c2e583c60": {
      "model_module": "@jupyter-widgets/base",
      "model_module_version": "2.0.0",
      "model_name": "LayoutModel",
      "state": {
       "_model_module": "@jupyter-widgets/base",
       "_model_module_version": "2.0.0",
       "_model_name": "LayoutModel",
       "_view_count": null,
       "_view_module": "@jupyter-widgets/base",
       "_view_module_version": "2.0.0",
       "_view_name": "LayoutView",
       "align_content": null,
       "align_items": null,
       "align_self": null,
       "border_bottom": null,
       "border_left": null,
       "border_right": null,
       "border_top": null,
       "bottom": null,
       "display": null,
       "flex": null,
       "flex_flow": null,
       "grid_area": null,
       "grid_auto_columns": null,
       "grid_auto_flow": null,
       "grid_auto_rows": null,
       "grid_column": null,
       "grid_gap": null,
       "grid_row": null,
       "grid_template_areas": null,
       "grid_template_columns": null,
       "grid_template_rows": null,
       "height": null,
       "justify_content": null,
       "justify_items": null,
       "left": null,
       "margin": null,
       "max_height": null,
       "max_width": null,
       "min_height": null,
       "min_width": null,
       "object_fit": null,
       "object_position": null,
       "order": null,
       "overflow": null,
       "padding": null,
       "right": null,
       "top": null,
       "visibility": null,
       "width": null
      }
     },
     "26d8dd0eddbb4a02bb233f642459be56": {
      "model_module": "@jupyter-widgets/output",
      "model_module_version": "1.0.0",
      "model_name": "OutputModel",
      "state": {
       "_dom_classes": [],
       "_model_module": "@jupyter-widgets/output",
       "_model_module_version": "1.0.0",
       "_model_name": "OutputModel",
       "_view_count": null,
       "_view_module": "@jupyter-widgets/output",
       "_view_module_version": "1.0.0",
       "_view_name": "OutputView",
       "layout": "IPY_MODEL_c72e4fd353fd461a99e8acbfb6aecc4d",
       "msg_id": "",
       "outputs": [
        {
         "data": {
          "text/html": "<pre style=\"white-space:pre;overflow-x:auto;line-height:normal;font-family:Menlo,'DejaVu Sans Mono',consolas,'Courier New',monospace\">Downloading <span style=\"color: #008000; text-decoration-color: #008000\">⠏</span> <span style=\"color: #808000; text-decoration-color: #808000\">0:00:01</span> <span style=\"color: #800000; text-decoration-color: #800000\">78.0 MB/s</span> <span style=\"color: #008000; text-decoration-color: #008000\">49.2 MB</span>\n</pre>\n",
          "text/plain": "Downloading \u001b[32m⠏\u001b[0m \u001b[33m0:00:01\u001b[0m \u001b[31m78.0 MB/s\u001b[0m \u001b[32m49.2 MB\u001b[0m\n"
         },
         "metadata": {},
         "output_type": "display_data"
        }
       ],
       "tabbable": null,
       "tooltip": null
      }
     },
     "5292d470e8d14b3d8a6af0dd92174fda": {
      "model_module": "@jupyter-widgets/base",
      "model_module_version": "2.0.0",
      "model_name": "LayoutModel",
      "state": {
       "_model_module": "@jupyter-widgets/base",
       "_model_module_version": "2.0.0",
       "_model_name": "LayoutModel",
       "_view_count": null,
       "_view_module": "@jupyter-widgets/base",
       "_view_module_version": "2.0.0",
       "_view_name": "LayoutView",
       "align_content": null,
       "align_items": null,
       "align_self": null,
       "border_bottom": null,
       "border_left": null,
       "border_right": null,
       "border_top": null,
       "bottom": null,
       "display": null,
       "flex": null,
       "flex_flow": null,
       "grid_area": null,
       "grid_auto_columns": null,
       "grid_auto_flow": null,
       "grid_auto_rows": null,
       "grid_column": null,
       "grid_gap": null,
       "grid_row": null,
       "grid_template_areas": null,
       "grid_template_columns": null,
       "grid_template_rows": null,
       "height": null,
       "justify_content": null,
       "justify_items": null,
       "left": null,
       "margin": null,
       "max_height": null,
       "max_width": null,
       "min_height": null,
       "min_width": null,
       "object_fit": null,
       "object_position": null,
       "order": null,
       "overflow": null,
       "padding": null,
       "right": null,
       "top": null,
       "visibility": null,
       "width": null
      }
     },
     "741fcf132dde4c2fbc004960e30c4b8d": {
      "model_module": "@jupyter-widgets/output",
      "model_module_version": "1.0.0",
      "model_name": "OutputModel",
      "state": {
       "_dom_classes": [],
       "_model_module": "@jupyter-widgets/output",
       "_model_module_version": "1.0.0",
       "_model_name": "OutputModel",
       "_view_count": null,
       "_view_module": "@jupyter-widgets/output",
       "_view_module_version": "1.0.0",
       "_view_name": "OutputView",
       "layout": "IPY_MODEL_b163555f192b4a5eb03f9455514aa9a0",
       "msg_id": "",
       "outputs": [
        {
         "data": {
          "text/html": "<pre style=\"white-space:pre;overflow-x:auto;line-height:normal;font-family:Menlo,'DejaVu Sans Mono',consolas,'Courier New',monospace\">Downloading <span style=\"color: #008000; text-decoration-color: #008000\">⠋</span> <span style=\"color: #808000; text-decoration-color: #808000\">0:00:01</span> <span style=\"color: #800000; text-decoration-color: #800000\">54.8 MB/s</span> <span style=\"color: #008000; text-decoration-color: #008000\">50.9 MB</span>\n</pre>\n",
          "text/plain": "Downloading \u001b[32m⠋\u001b[0m \u001b[33m0:00:01\u001b[0m \u001b[31m54.8 MB/s\u001b[0m \u001b[32m50.9 MB\u001b[0m\n"
         },
         "metadata": {},
         "output_type": "display_data"
        }
       ],
       "tabbable": null,
       "tooltip": null
      }
     },
     "7ce062d69d5d4853a0fe92e6a63d0729": {
      "model_module": "@jupyter-widgets/base",
      "model_module_version": "2.0.0",
      "model_name": "LayoutModel",
      "state": {
       "_model_module": "@jupyter-widgets/base",
       "_model_module_version": "2.0.0",
       "_model_name": "LayoutModel",
       "_view_count": null,
       "_view_module": "@jupyter-widgets/base",
       "_view_module_version": "2.0.0",
       "_view_name": "LayoutView",
       "align_content": null,
       "align_items": null,
       "align_self": null,
       "border_bottom": null,
       "border_left": null,
       "border_right": null,
       "border_top": null,
       "bottom": null,
       "display": null,
       "flex": null,
       "flex_flow": null,
       "grid_area": null,
       "grid_auto_columns": null,
       "grid_auto_flow": null,
       "grid_auto_rows": null,
       "grid_column": null,
       "grid_gap": null,
       "grid_row": null,
       "grid_template_areas": null,
       "grid_template_columns": null,
       "grid_template_rows": null,
       "height": null,
       "justify_content": null,
       "justify_items": null,
       "left": null,
       "margin": null,
       "max_height": null,
       "max_width": null,
       "min_height": null,
       "min_width": null,
       "object_fit": null,
       "object_position": null,
       "order": null,
       "overflow": null,
       "padding": null,
       "right": null,
       "top": null,
       "visibility": null,
       "width": null
      }
     },
     "8108bcb1c75b4c4e9af7b399e5705945": {
      "model_module": "@jupyter-widgets/output",
      "model_module_version": "1.0.0",
      "model_name": "OutputModel",
      "state": {
       "_dom_classes": [],
       "_model_module": "@jupyter-widgets/output",
       "_model_module_version": "1.0.0",
       "_model_name": "OutputModel",
       "_view_count": null,
       "_view_module": "@jupyter-widgets/output",
       "_view_module_version": "1.0.0",
       "_view_name": "OutputView",
       "layout": "IPY_MODEL_207855cdf0fb4e3db1c7577c2e583c60",
       "msg_id": "",
       "outputs": [
        {
         "data": {
          "text/html": "<pre style=\"white-space:pre;overflow-x:auto;line-height:normal;font-family:Menlo,'DejaVu Sans Mono',consolas,'Courier New',monospace\">Downloading <span style=\"color: #008000; text-decoration-color: #008000\">⠸</span> <span style=\"color: #808000; text-decoration-color: #808000\">0:00:01</span> <span style=\"color: #800000; text-decoration-color: #800000\">54.2 MB/s</span> <span style=\"color: #008000; text-decoration-color: #008000\">54.7 MB</span>\n</pre>\n",
          "text/plain": "Downloading \u001b[32m⠸\u001b[0m \u001b[33m0:00:01\u001b[0m \u001b[31m54.2 MB/s\u001b[0m \u001b[32m54.7 MB\u001b[0m\n"
         },
         "metadata": {},
         "output_type": "display_data"
        }
       ],
       "tabbable": null,
       "tooltip": null
      }
     },
     "8e95092a921249b193785291848ef50a": {
      "model_module": "@jupyter-widgets/output",
      "model_module_version": "1.0.0",
      "model_name": "OutputModel",
      "state": {
       "_dom_classes": [],
       "_model_module": "@jupyter-widgets/output",
       "_model_module_version": "1.0.0",
       "_model_name": "OutputModel",
       "_view_count": null,
       "_view_module": "@jupyter-widgets/output",
       "_view_module_version": "1.0.0",
       "_view_name": "OutputView",
       "layout": "IPY_MODEL_cc1d9d12e86c49a2a69510203a282635",
       "msg_id": "",
       "outputs": [
        {
         "data": {
          "text/html": "<pre style=\"white-space:pre;overflow-x:auto;line-height:normal;font-family:Menlo,'DejaVu Sans Mono',consolas,'Courier New',monospace\">Downloading <span style=\"color: #008000; text-decoration-color: #008000\">⠋</span> <span style=\"color: #808000; text-decoration-color: #808000\">0:00:01</span> <span style=\"color: #800000; text-decoration-color: #800000\">76.8 MB/s</span> <span style=\"color: #008000; text-decoration-color: #008000\">50.0 MB</span>\n</pre>\n",
          "text/plain": "Downloading \u001b[32m⠋\u001b[0m \u001b[33m0:00:01\u001b[0m \u001b[31m76.8 MB/s\u001b[0m \u001b[32m50.0 MB\u001b[0m\n"
         },
         "metadata": {},
         "output_type": "display_data"
        }
       ],
       "tabbable": null,
       "tooltip": null
      }
     },
     "aa66054dc8ed4ceb8eff768cdc048033": {
      "model_module": "@jupyter-widgets/output",
      "model_module_version": "1.0.0",
      "model_name": "OutputModel",
      "state": {
       "_dom_classes": [],
       "_model_module": "@jupyter-widgets/output",
       "_model_module_version": "1.0.0",
       "_model_name": "OutputModel",
       "_view_count": null,
       "_view_module": "@jupyter-widgets/output",
       "_view_module_version": "1.0.0",
       "_view_name": "OutputView",
       "layout": "IPY_MODEL_7ce062d69d5d4853a0fe92e6a63d0729",
       "msg_id": "",
       "outputs": [
        {
         "data": {
          "text/html": "<pre style=\"white-space:pre;overflow-x:auto;line-height:normal;font-family:Menlo,'DejaVu Sans Mono',consolas,'Courier New',monospace\">Downloading <span style=\"color: #008000; text-decoration-color: #008000\">⠸</span> <span style=\"color: #808000; text-decoration-color: #808000\">0:00:01</span> <span style=\"color: #800000; text-decoration-color: #800000\">48.7 MB/s</span> <span style=\"color: #008000; text-decoration-color: #008000\">50.7 MB</span>\n</pre>\n",
          "text/plain": "Downloading \u001b[32m⠸\u001b[0m \u001b[33m0:00:01\u001b[0m \u001b[31m48.7 MB/s\u001b[0m \u001b[32m50.7 MB\u001b[0m\n"
         },
         "metadata": {},
         "output_type": "display_data"
        }
       ],
       "tabbable": null,
       "tooltip": null
      }
     },
     "b163555f192b4a5eb03f9455514aa9a0": {
      "model_module": "@jupyter-widgets/base",
      "model_module_version": "2.0.0",
      "model_name": "LayoutModel",
      "state": {
       "_model_module": "@jupyter-widgets/base",
       "_model_module_version": "2.0.0",
       "_model_name": "LayoutModel",
       "_view_count": null,
       "_view_module": "@jupyter-widgets/base",
       "_view_module_version": "2.0.0",
       "_view_name": "LayoutView",
       "align_content": null,
       "align_items": null,
       "align_self": null,
       "border_bottom": null,
       "border_left": null,
       "border_right": null,
       "border_top": null,
       "bottom": null,
       "display": null,
       "flex": null,
       "flex_flow": null,
       "grid_area": null,
       "grid_auto_columns": null,
       "grid_auto_flow": null,
       "grid_auto_rows": null,
       "grid_column": null,
       "grid_gap": null,
       "grid_row": null,
       "grid_template_areas": null,
       "grid_template_columns": null,
       "grid_template_rows": null,
       "height": null,
       "justify_content": null,
       "justify_items": null,
       "left": null,
       "margin": null,
       "max_height": null,
       "max_width": null,
       "min_height": null,
       "min_width": null,
       "object_fit": null,
       "object_position": null,
       "order": null,
       "overflow": null,
       "padding": null,
       "right": null,
       "top": null,
       "visibility": null,
       "width": null
      }
     },
     "b2370ee6bd5840168b2cb2b9db75c34a": {
      "model_module": "@jupyter-widgets/output",
      "model_module_version": "1.0.0",
      "model_name": "OutputModel",
      "state": {
       "_dom_classes": [],
       "_model_module": "@jupyter-widgets/output",
       "_model_module_version": "1.0.0",
       "_model_name": "OutputModel",
       "_view_count": null,
       "_view_module": "@jupyter-widgets/output",
       "_view_module_version": "1.0.0",
       "_view_name": "OutputView",
       "layout": "IPY_MODEL_1dad9691aaae4617825e5413b6b865f0",
       "msg_id": "",
       "outputs": [
        {
         "data": {
          "text/html": "<pre style=\"white-space:pre;overflow-x:auto;line-height:normal;font-family:Menlo,'DejaVu Sans Mono',consolas,'Courier New',monospace\">Downloading <span style=\"color: #008000; text-decoration-color: #008000\">⠋</span> <span style=\"color: #808000; text-decoration-color: #808000\">0:00:01</span> <span style=\"color: #800000; text-decoration-color: #800000\">76.8 MB/s</span> <span style=\"color: #008000; text-decoration-color: #008000\">52.0 MB</span>\n</pre>\n",
          "text/plain": "Downloading \u001b[32m⠋\u001b[0m \u001b[33m0:00:01\u001b[0m \u001b[31m76.8 MB/s\u001b[0m \u001b[32m52.0 MB\u001b[0m\n"
         },
         "metadata": {},
         "output_type": "display_data"
        }
       ],
       "tabbable": null,
       "tooltip": null
      }
     },
     "b594fafd1575470fbcde74450de20d1e": {
      "model_module": "@jupyter-widgets/base",
      "model_module_version": "2.0.0",
      "model_name": "LayoutModel",
      "state": {
       "_model_module": "@jupyter-widgets/base",
       "_model_module_version": "2.0.0",
       "_model_name": "LayoutModel",
       "_view_count": null,
       "_view_module": "@jupyter-widgets/base",
       "_view_module_version": "2.0.0",
       "_view_name": "LayoutView",
       "align_content": null,
       "align_items": null,
       "align_self": null,
       "border_bottom": null,
       "border_left": null,
       "border_right": null,
       "border_top": null,
       "bottom": null,
       "display": null,
       "flex": null,
       "flex_flow": null,
       "grid_area": null,
       "grid_auto_columns": null,
       "grid_auto_flow": null,
       "grid_auto_rows": null,
       "grid_column": null,
       "grid_gap": null,
       "grid_row": null,
       "grid_template_areas": null,
       "grid_template_columns": null,
       "grid_template_rows": null,
       "height": null,
       "justify_content": null,
       "justify_items": null,
       "left": null,
       "margin": null,
       "max_height": null,
       "max_width": null,
       "min_height": null,
       "min_width": null,
       "object_fit": null,
       "object_position": null,
       "order": null,
       "overflow": null,
       "padding": null,
       "right": null,
       "top": null,
       "visibility": null,
       "width": null
      }
     },
     "c72e4fd353fd461a99e8acbfb6aecc4d": {
      "model_module": "@jupyter-widgets/base",
      "model_module_version": "2.0.0",
      "model_name": "LayoutModel",
      "state": {
       "_model_module": "@jupyter-widgets/base",
       "_model_module_version": "2.0.0",
       "_model_name": "LayoutModel",
       "_view_count": null,
       "_view_module": "@jupyter-widgets/base",
       "_view_module_version": "2.0.0",
       "_view_name": "LayoutView",
       "align_content": null,
       "align_items": null,
       "align_self": null,
       "border_bottom": null,
       "border_left": null,
       "border_right": null,
       "border_top": null,
       "bottom": null,
       "display": null,
       "flex": null,
       "flex_flow": null,
       "grid_area": null,
       "grid_auto_columns": null,
       "grid_auto_flow": null,
       "grid_auto_rows": null,
       "grid_column": null,
       "grid_gap": null,
       "grid_row": null,
       "grid_template_areas": null,
       "grid_template_columns": null,
       "grid_template_rows": null,
       "height": null,
       "justify_content": null,
       "justify_items": null,
       "left": null,
       "margin": null,
       "max_height": null,
       "max_width": null,
       "min_height": null,
       "min_width": null,
       "object_fit": null,
       "object_position": null,
       "order": null,
       "overflow": null,
       "padding": null,
       "right": null,
       "top": null,
       "visibility": null,
       "width": null
      }
     },
     "cc1d9d12e86c49a2a69510203a282635": {
      "model_module": "@jupyter-widgets/base",
      "model_module_version": "2.0.0",
      "model_name": "LayoutModel",
      "state": {
       "_model_module": "@jupyter-widgets/base",
       "_model_module_version": "2.0.0",
       "_model_name": "LayoutModel",
       "_view_count": null,
       "_view_module": "@jupyter-widgets/base",
       "_view_module_version": "2.0.0",
       "_view_name": "LayoutView",
       "align_content": null,
       "align_items": null,
       "align_self": null,
       "border_bottom": null,
       "border_left": null,
       "border_right": null,
       "border_top": null,
       "bottom": null,
       "display": null,
       "flex": null,
       "flex_flow": null,
       "grid_area": null,
       "grid_auto_columns": null,
       "grid_auto_flow": null,
       "grid_auto_rows": null,
       "grid_column": null,
       "grid_gap": null,
       "grid_row": null,
       "grid_template_areas": null,
       "grid_template_columns": null,
       "grid_template_rows": null,
       "height": null,
       "justify_content": null,
       "justify_items": null,
       "left": null,
       "margin": null,
       "max_height": null,
       "max_width": null,
       "min_height": null,
       "min_width": null,
       "object_fit": null,
       "object_position": null,
       "order": null,
       "overflow": null,
       "padding": null,
       "right": null,
       "top": null,
       "visibility": null,
       "width": null
      }
     },
     "e027b6cc98a54cbf98f436feba68cdfb": {
      "model_module": "@jupyter-widgets/output",
      "model_module_version": "1.0.0",
      "model_name": "OutputModel",
      "state": {
       "_dom_classes": [],
       "_model_module": "@jupyter-widgets/output",
       "_model_module_version": "1.0.0",
       "_model_name": "OutputModel",
       "_view_count": null,
       "_view_module": "@jupyter-widgets/output",
       "_view_module_version": "1.0.0",
       "_view_name": "OutputView",
       "layout": "IPY_MODEL_b594fafd1575470fbcde74450de20d1e",
       "msg_id": "",
       "outputs": [
        {
         "data": {
          "text/html": "<pre style=\"white-space:pre;overflow-x:auto;line-height:normal;font-family:Menlo,'DejaVu Sans Mono',consolas,'Courier New',monospace\">Downloading <span style=\"color: #008000; text-decoration-color: #008000\">⠙</span> <span style=\"color: #808000; text-decoration-color: #808000\">0:00:01</span> <span style=\"color: #800000; text-decoration-color: #800000\">62.7 MB/s</span> <span style=\"color: #008000; text-decoration-color: #008000\">53.2 MB</span>\n</pre>\n",
          "text/plain": "Downloading \u001b[32m⠙\u001b[0m \u001b[33m0:00:01\u001b[0m \u001b[31m62.7 MB/s\u001b[0m \u001b[32m53.2 MB\u001b[0m\n"
         },
         "metadata": {},
         "output_type": "display_data"
        }
       ],
       "tabbable": null,
       "tooltip": null
      }
     }
    },
    "version_major": 2,
    "version_minor": 0
   }
  }
 },
 "nbformat": 4,
 "nbformat_minor": 2
}
