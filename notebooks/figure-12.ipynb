{
 "cells": [
  {
   "cell_type": "code",
   "execution_count": 1,
   "id": "polished-slide",
   "metadata": {
    "execution": {
     "iopub.execute_input": "2024-12-01T13:30:39.659575Z",
     "iopub.status.busy": "2024-12-01T13:30:39.659283Z",
     "iopub.status.idle": "2024-12-01T13:30:41.419041Z",
     "shell.execute_reply": "2024-12-01T13:30:41.417983Z"
    }
   },
   "outputs": [],
   "source": [
    "import faceted\n",
    "import matplotlib as mpl\n",
    "\n",
    "import plotting\n",
    "import utils"
   ]
  },
  {
   "cell_type": "code",
   "execution_count": 2,
   "id": "b59f9604",
   "metadata": {
    "execution": {
     "iopub.execute_input": "2024-12-01T13:30:41.422442Z",
     "iopub.status.busy": "2024-12-01T13:30:41.421975Z",
     "iopub.status.idle": "2024-12-01T13:30:41.426127Z",
     "shell.execute_reply": "2024-12-01T13:30:41.425298Z"
    }
   },
   "outputs": [],
   "source": [
    "plotting.configure_style()"
   ]
  },
  {
   "cell_type": "code",
   "execution_count": 3,
   "id": "25333705",
   "metadata": {
    "execution": {
     "iopub.execute_input": "2024-12-01T13:30:41.428772Z",
     "iopub.status.busy": "2024-12-01T13:30:41.428497Z",
     "iopub.status.idle": "2024-12-01T13:30:41.437593Z",
     "shell.execute_reply": "2024-12-01T13:30:41.436797Z"
    }
   },
   "outputs": [],
   "source": [
    "MODELS = [f\"ACE2-SOM-multi-climate-RS{n}\" for n in range(4)] + [f\"ACE2-SOM-increasing-co2-RS{n}\" for n in range(4)]\n",
    "NETCDF = \"annual_diagnostics.nc\"\n",
    "\n",
    "catalog = utils.open_catalog()\n",
    "cases = catalog[catalog[\"model\"].isin(MODELS) & (catalog[\"forcing\"] == \"increasing-CO2\")]"
   ]
  },
  {
   "cell_type": "code",
   "execution_count": 4,
   "id": "999932a6",
   "metadata": {
    "execution": {
     "iopub.execute_input": "2024-12-01T13:30:41.440228Z",
     "iopub.status.busy": "2024-12-01T13:30:41.439980Z",
     "iopub.status.idle": "2024-12-01T13:30:56.671783Z",
     "shell.execute_reply": "2024-12-01T13:30:56.670891Z"
    }
   },
   "outputs": [
    {
     "data": {
      "application/vnd.jupyter.widget-view+json": {
       "model_id": "3b4f0fe2fa3649bf914ef31831649891",
       "version_major": 2,
       "version_minor": 0
      },
      "text/plain": [
       "Output()"
      ]
     },
     "metadata": {},
     "output_type": "display_data"
    },
    {
     "data": {
      "text/html": [
       "<pre style=\"white-space:pre;overflow-x:auto;line-height:normal;font-family:Menlo,'DejaVu Sans Mono',consolas,'Courier New',monospace\"></pre>\n"
      ],
      "text/plain": []
     },
     "metadata": {},
     "output_type": "display_data"
    },
    {
     "data": {
      "application/vnd.jupyter.widget-view+json": {
       "model_id": "b999650fe03649238237288e6c520ce1",
       "version_major": 2,
       "version_minor": 0
      },
      "text/plain": [
       "Output()"
      ]
     },
     "metadata": {},
     "output_type": "display_data"
    },
    {
     "data": {
      "text/html": [
       "<pre style=\"white-space:pre;overflow-x:auto;line-height:normal;font-family:Menlo,'DejaVu Sans Mono',consolas,'Courier New',monospace\"></pre>\n"
      ],
      "text/plain": []
     },
     "metadata": {},
     "output_type": "display_data"
    },
    {
     "data": {
      "application/vnd.jupyter.widget-view+json": {
       "model_id": "57d25252d6de44ce955f9d2596a33e16",
       "version_major": 2,
       "version_minor": 0
      },
      "text/plain": [
       "Output()"
      ]
     },
     "metadata": {},
     "output_type": "display_data"
    },
    {
     "data": {
      "text/html": [
       "<pre style=\"white-space:pre;overflow-x:auto;line-height:normal;font-family:Menlo,'DejaVu Sans Mono',consolas,'Courier New',monospace\"></pre>\n"
      ],
      "text/plain": []
     },
     "metadata": {},
     "output_type": "display_data"
    },
    {
     "data": {
      "application/vnd.jupyter.widget-view+json": {
       "model_id": "f3bd537d7e1a4ae99f8734c700d156d5",
       "version_major": 2,
       "version_minor": 0
      },
      "text/plain": [
       "Output()"
      ]
     },
     "metadata": {},
     "output_type": "display_data"
    },
    {
     "data": {
      "text/html": [
       "<pre style=\"white-space:pre;overflow-x:auto;line-height:normal;font-family:Menlo,'DejaVu Sans Mono',consolas,'Courier New',monospace\"></pre>\n"
      ],
      "text/plain": []
     },
     "metadata": {},
     "output_type": "display_data"
    },
    {
     "data": {
      "application/vnd.jupyter.widget-view+json": {
       "model_id": "8085095ddbc142e58b10db31bb30e586",
       "version_major": 2,
       "version_minor": 0
      },
      "text/plain": [
       "Output()"
      ]
     },
     "metadata": {},
     "output_type": "display_data"
    },
    {
     "data": {
      "text/html": [
       "<pre style=\"white-space:pre;overflow-x:auto;line-height:normal;font-family:Menlo,'DejaVu Sans Mono',consolas,'Courier New',monospace\"></pre>\n"
      ],
      "text/plain": []
     },
     "metadata": {},
     "output_type": "display_data"
    },
    {
     "data": {
      "application/vnd.jupyter.widget-view+json": {
       "model_id": "d1b00faff8c4452e80df5778dc80e3aa",
       "version_major": 2,
       "version_minor": 0
      },
      "text/plain": [
       "Output()"
      ]
     },
     "metadata": {},
     "output_type": "display_data"
    },
    {
     "data": {
      "text/html": [
       "<pre style=\"white-space:pre;overflow-x:auto;line-height:normal;font-family:Menlo,'DejaVu Sans Mono',consolas,'Courier New',monospace\"></pre>\n"
      ],
      "text/plain": []
     },
     "metadata": {},
     "output_type": "display_data"
    },
    {
     "data": {
      "application/vnd.jupyter.widget-view+json": {
       "model_id": "ca9b24a149084fa0a23901790e1e79aa",
       "version_major": 2,
       "version_minor": 0
      },
      "text/plain": [
       "Output()"
      ]
     },
     "metadata": {},
     "output_type": "display_data"
    },
    {
     "data": {
      "text/html": [
       "<pre style=\"white-space:pre;overflow-x:auto;line-height:normal;font-family:Menlo,'DejaVu Sans Mono',consolas,'Courier New',monospace\"></pre>\n"
      ],
      "text/plain": []
     },
     "metadata": {},
     "output_type": "display_data"
    },
    {
     "data": {
      "application/vnd.jupyter.widget-view+json": {
       "model_id": "44f315d08e8f49abb47f685d4cb7b064",
       "version_major": 2,
       "version_minor": 0
      },
      "text/plain": [
       "Output()"
      ]
     },
     "metadata": {},
     "output_type": "display_data"
    },
    {
     "data": {
      "text/html": [
       "<pre style=\"white-space:pre;overflow-x:auto;line-height:normal;font-family:Menlo,'DejaVu Sans Mono',consolas,'Courier New',monospace\"></pre>\n"
      ],
      "text/plain": []
     },
     "metadata": {},
     "output_type": "display_data"
    }
   ],
   "source": [
    "datasets = {}\n",
    "for _, case in cases.iterrows():\n",
    "    model = case[\"model\"]\n",
    "    beaker_id = case[\"beaker_id\"]\n",
    "    datasets[model] = utils.open_beaker_dataset(beaker_id, NETCDF)\n",
    "ds = utils.dict_to_dataset(datasets, \"model\")\n",
    "ds = ds.squeeze(\"sample\")"
   ]
  },
  {
   "cell_type": "code",
   "execution_count": 5,
   "id": "98881019",
   "metadata": {
    "execution": {
     "iopub.execute_input": "2024-12-01T13:30:56.851318Z",
     "iopub.status.busy": "2024-12-01T13:30:56.851056Z",
     "iopub.status.idle": "2024-12-01T13:30:56.856295Z",
     "shell.execute_reply": "2024-12-01T13:30:56.855567Z"
    }
   },
   "outputs": [],
   "source": [
    "equilibrium_colors = mpl.colors.LinearSegmentedColormap.from_list(\"equilibrium-trained\", [\"#FFFFFF\", \"C0\"], N=5)\n",
    "increasing_colors = mpl.colors.LinearSegmentedColormap.from_list(\"increasing-trained\", [\"#FFFFFF\", \"C2\"], N=5)"
   ]
  },
  {
   "cell_type": "code",
   "execution_count": 6,
   "id": "ccd2fb4d",
   "metadata": {
    "execution": {
     "iopub.execute_input": "2024-12-01T13:30:56.859081Z",
     "iopub.status.busy": "2024-12-01T13:30:56.858612Z",
     "iopub.status.idle": "2024-12-01T13:30:56.865914Z",
     "shell.execute_reply": "2024-12-01T13:30:56.865029Z"
    }
   },
   "outputs": [],
   "source": [
    "equilibrium_best_seed = equilibrium_colors(5 / 5)\n",
    "equilibrium_other_seeds = [equilibrium_colors(i / 5) for i in range(1, 5)]\n",
    "\n",
    "increasing_best_seed = increasing_colors(5 / 5)\n",
    "increasing_other_seeds = [increasing_colors(i / 5) for i in range(1, 5)]"
   ]
  },
  {
   "cell_type": "code",
   "execution_count": 7,
   "id": "7db58cc0",
   "metadata": {
    "execution": {
     "iopub.execute_input": "2024-12-01T13:30:56.978148Z",
     "iopub.status.busy": "2024-12-01T13:30:56.977548Z",
     "iopub.status.idle": "2024-12-01T13:30:58.411498Z",
     "shell.execute_reply": "2024-12-01T13:30:58.410503Z"
    }
   },
   "outputs": [
    {
     "data": {
      "image/png": "[encoded data removed]",
      "text/plain": [
       "<Figure size 550x337.16 with 18 Axes>"
      ]
     },
     "metadata": {},
     "output_type": "display_data"
    }
   ],
   "source": [
    "fig, (ax1, ax2, ax3, ax4, ax5, ax6) = faceted.faceted(\n",
    "    2,\n",
    "    3,\n",
    "    width=5.5,\n",
    "    aspect=0.618,\n",
    "    internal_pad=(0.35, 0.2),\n",
    "    left_pad=0.4,\n",
    "    right_pad=0.1,\n",
    "    top_pad=0.2,\n",
    "    bottom_pad=1.2,\n",
    "    sharey=\"col\"\n",
    ")\n",
    "\n",
    "BEST_EQUILIBRIUM_MODEL = \"ACE2-SOM-multi-climate-RS3\"\n",
    "BEST_INCREASING_MODEL = \"ACE2-SOM-increasing-co2-RS2\"\n",
    "LW = 1\n",
    "LS = \"-\"\n",
    "\n",
    "handles = {}\n",
    "\n",
    "for ts_ax, t0_ax, q0_ax in [(ax1, ax2, ax3), (ax4, ax5, ax6)]:\n",
    "    p, = ds.surface_temperature.sel(source=\"target\").isel(model=0).plot(ax=ts_ax, color=\"k\", label=\"C96 SHiELD-SOM\", lw=LW, ls=LS)\n",
    "    p, = ds.air_temperature_0.sel(source=\"target\").isel(model=0).plot(ax=t0_ax, color=\"k\", label=\"C96 SHiELD-SOM\", lw=LW, ls=LS)\n",
    "    p, = ds.specific_total_water_0.sel(source=\"target\").isel(model=0).plot(ax=q0_ax, color=\"k\", label=\"C96 SHiELD-SOM\", lw=LW, ls=LS)\n",
    "\n",
    "handles[\"C96 SHiELD-SOM\"] = p\n",
    "\n",
    "i = 0\n",
    "for model in ds.model.isel(model=slice(4, None)):\n",
    "    if model.item() == BEST_EQUILIBRIUM_MODEL:\n",
    "        color = equilibrium_best_seed\n",
    "        zorder = 4\n",
    "        label = f\"{model.item()} (best)\"\n",
    "    else:\n",
    "        color = equilibrium_other_seeds[i]\n",
    "        zorder = i + 1\n",
    "        label = model.item()\n",
    "        i += 1\n",
    "    \n",
    "    p, = ds.surface_temperature.sel(source=\"prediction\", model=model).plot(ax=ax1, color=color, label=label, lw=LW, ls=LS, zorder=zorder)\n",
    "    p, = ds.air_temperature_0.sel(source=\"prediction\", model=model).plot(ax=ax2, color=color, label=label, lw=LW, ls=LS, zorder=zorder)\n",
    "    p, = ds.specific_total_water_0.sel(source=\"prediction\", model=model).plot(ax=ax3, color=color, label=label, lw=LW, ls=LS, zorder=zorder)\n",
    "\n",
    "    handles[label] = p\n",
    "\n",
    "i = 0\n",
    "for model in ds.model.isel(model=slice(None, 4)):\n",
    "    if model.item() == BEST_INCREASING_MODEL:\n",
    "        color = increasing_best_seed\n",
    "        zorder = 4\n",
    "        label = f\"{model.item()} (best)\"\n",
    "    else:\n",
    "        color = increasing_other_seeds[i]\n",
    "        zorder = i + 1\n",
    "        label = model.item()\n",
    "        i += 1\n",
    "\n",
    "    p, = ds.surface_temperature.sel(source=\"prediction\", model=model).plot(ax=ax4, color=color, label=label, lw=LW, ls=LS, zorder=zorder)\n",
    "    p, = ds.air_temperature_0.sel(source=\"prediction\", model=model).plot(ax=ax5, color=color, label=label, lw=LW, ls=LS, zorder=zorder)\n",
    "    p, = ds.specific_total_water_0.sel(source=\"prediction\", model=model).plot(ax=ax6, color=color, label=label, lw=LW, ls=LS, zorder=zorder)\n",
    "\n",
    "    handles[label] = p\n",
    "\n",
    "for ax in (ax1, ax2, ax3, ax4, ax5, ax6):\n",
    "    ax.set_title(\"\")\n",
    "    ax.set_xlabel(\"\")\n",
    "    ax.set_ylabel(\"\")\n",
    "\n",
    "ax2.set_ylim([214, 225])\n",
    "ax2.set_yticks([214, 219, 224])\n",
    "ax3.set_ylim([1.3e-6, 2.2e-6])\n",
    "ax3.set_yticks([1.4e-6, 1.7e-6, 2.0e-6])\n",
    "\n",
    "ax1.annotate(\n",
    "    \"(a) $T_s$ [K]\",\n",
    "    xy=(0, 1), \n",
    "    xytext=(2, -2), \n",
    "    va=\"top\", \n",
    "    xycoords=\"axes fraction\",\n",
    "    textcoords=\"offset points\"\n",
    ")\n",
    "ax2.annotate(\n",
    "    \"(b) $T_0$ [K]\",\n",
    "    xy=(0, 1), \n",
    "    xytext=(2, -2), \n",
    "    va=\"top\", \n",
    "    xycoords=\"axes fraction\",\n",
    "    textcoords=\"offset points\"\n",
    ")\n",
    "ax3.annotate(\n",
    "    \"(c) $q_0$ [kg/kg]\",\n",
    "    xy=(0, 1), \n",
    "    xytext=(2, -2), \n",
    "    va=\"top\", \n",
    "    xycoords=\"axes fraction\",\n",
    "    textcoords=\"offset points\"\n",
    ")\n",
    "\n",
    "ax4.annotate(\n",
    "    \"(d) $T_s$ [K]\",\n",
    "    xy=(0, 1), \n",
    "    xytext=(2, -2), \n",
    "    va=\"top\", \n",
    "    xycoords=\"axes fraction\",\n",
    "    textcoords=\"offset points\"\n",
    ")\n",
    "ax5.annotate(\n",
    "    \"(e) $T_0$ [K]\",\n",
    "    xy=(0, 1), \n",
    "    xytext=(2, -2), \n",
    "    va=\"top\", \n",
    "    xycoords=\"axes fraction\",\n",
    "    textcoords=\"offset points\"\n",
    ")\n",
    "ax6.annotate(\n",
    "    \"(f) $q_0$ [kg/kg]\",\n",
    "    xy=(0, 1), \n",
    "    xytext=(2, -2), \n",
    "    va=\"top\", \n",
    "    xycoords=\"axes fraction\",\n",
    "    textcoords=\"offset points\"\n",
    ")\n",
    "\n",
    "for ax in (ax1, ax2, ax3, ax4, ax5, ax6):\n",
    "    ax.set_xticks([2030, 2065, 2100])\n",
    "\n",
    "ax4.legend(handles.values(), handles.keys(), bbox_to_anchor=(0.2, -0.3), bbox_transform=ax4.transAxes, loc=\"upper left\", ncol=2, fontsize=8)\n",
    "\n",
    "fig.savefig(\"figures/figure-12.png\", dpi=200)\n",
    "fig.savefig(\"figures/figure-12.pdf\")"
   ]
  },
  {
   "cell_type": "code",
   "execution_count": null,
   "id": "189f4e80",
   "metadata": {},
   "outputs": [],
   "source": []
  }
 ],
 "metadata": {
  "kernelspec": {
   "display_name": "ace2-som-paper2",
   "language": "python",
   "name": "python3"
  },
  "language_info": {
   "codemirror_mode": {
    "name": "ipython",
    "version": 3
   },
   "file_extension": ".py",
   "mimetype": "text/x-python",
   "name": "python",
   "nbconvert_exporter": "python",
   "pygments_lexer": "ipython3",
   "version": "3.10.15"
  },
  "widgets": {
   "application/vnd.jupyter.widget-state+json": {
    "state": {
     "12e434e4515e4906a62a057601e9a9bd": {
      "model_module": "@jupyter-widgets/base",
      "model_module_version": "2.0.0",
      "model_name": "LayoutModel",
      "state": {
       "_model_module": "@jupyter-widgets/base",
       "_model_module_version": "2.0.0",
       "_model_name": "LayoutModel",
       "_view_count": null,
       "_view_module": "@jupyter-widgets/base",
       "_view_module_version": "2.0.0",
       "_view_name": "LayoutView",
       "align_content": null,
       "align_items": null,
       "align_self": null,
       "border_bottom": null,
       "border_left": null,
       "border_right": null,
       "border_top": null,
       "bottom": null,
       "display": null,
       "flex": null,
       "flex_flow": null,
       "grid_area": null,
       "grid_auto_columns": null,
       "grid_auto_flow": null,
       "grid_auto_rows": null,
       "grid_column": null,
       "grid_gap": null,
       "grid_row": null,
       "grid_template_areas": null,
       "grid_template_columns": null,
       "grid_template_rows": null,
       "height": null,
       "justify_content": null,
       "justify_items": null,
       "left": null,
       "margin": null,
       "max_height": null,
       "max_width": null,
       "min_height": null,
       "min_width": null,
       "object_fit": null,
       "object_position": null,
       "order": null,
       "overflow": null,
       "padding": null,
       "right": null,
       "top": null,
       "visibility": null,
       "width": null
      }
     },
     "20f73c8ae4b5471b84b6c286fe86fcf7": {
      "model_module": "@jupyter-widgets/base",
      "model_module_version": "2.0.0",
      "model_name": "LayoutModel",
      "state": {
       "_model_module": "@jupyter-widgets/base",
       "_model_module_version": "2.0.0",
       "_model_name": "LayoutModel",
       "_view_count": null,
       "_view_module": "@jupyter-widgets/base",
       "_view_module_version": "2.0.0",
       "_view_name": "LayoutView",
       "align_content": null,
       "align_items": null,
       "align_self": null,
       "border_bottom": null,
       "border_left": null,
       "border_right": null,
       "border_top": null,
       "bottom": null,
       "display": null,
       "flex": null,
       "flex_flow": null,
       "grid_area": null,
       "grid_auto_columns": null,
       "grid_auto_flow": null,
       "grid_auto_rows": null,
       "grid_column": null,
       "grid_gap": null,
       "grid_row": null,
       "grid_template_areas": null,
       "grid_template_columns": null,
       "grid_template_rows": null,
       "height": null,
       "justify_content": null,
       "justify_items": null,
       "left": null,
       "margin": null,
       "max_height": null,
       "max_width": null,
       "min_height": null,
       "min_width": null,
       "object_fit": null,
       "object_position": null,
       "order": null,
       "overflow": null,
       "padding": null,
       "right": null,
       "top": null,
       "visibility": null,
       "width": null
      }
     },
     "4b0b362c4815418db5731c31ae9ab593": {
      "model_module": "@jupyter-widgets/output",
      "model_module_version": "1.0.0",
      "model_name": "OutputModel",
      "state": {
       "_dom_classes": [],
       "_model_module": "@jupyter-widgets/output",
       "_model_module_version": "1.0.0",
       "_model_name": "OutputModel",
       "_view_count": null,
       "_view_module": "@jupyter-widgets/output",
       "_view_module_version": "1.0.0",
       "_view_name": "OutputView",
       "layout": "IPY_MODEL_76256db617a84413b20ad97faa9edde4",
       "msg_id": "",
       "outputs": [
        {
         "data": {
          "text/html": "<pre style=\"white-space:pre;overflow-x:auto;line-height:normal;font-family:Menlo,'DejaVu Sans Mono',consolas,'Courier New',monospace\">Downloading <span style=\"color: #008000; text-decoration-color: #008000\">⠦</span> <span style=\"color: #808000; text-decoration-color: #808000\">0:00:00</span> <span style=\"color: #800000; text-decoration-color: #800000\">?</span> <span style=\"color: #008000; text-decoration-color: #008000\">0 bytes</span>\n</pre>\n",
          "text/plain": "Downloading \u001b[32m⠦\u001b[0m \u001b[33m0:00:00\u001b[0m \u001b[31m?\u001b[0m \u001b[32m0 bytes\u001b[0m\n"
         },
         "metadata": {},
         "output_type": "display_data"
        }
       ],
       "tabbable": null,
       "tooltip": null
      }
     },
     "4f5a8d31fa9a4c6cb306110572249120": {
      "model_module": "@jupyter-widgets/base",
      "model_module_version": "2.0.0",
      "model_name": "LayoutModel",
      "state": {
       "_model_module": "@jupyter-widgets/base",
       "_model_module_version": "2.0.0",
       "_model_name": "LayoutModel",
       "_view_count": null,
       "_view_module": "@jupyter-widgets/base",
       "_view_module_version": "2.0.0",
       "_view_name": "LayoutView",
       "align_content": null,
       "align_items": null,
       "align_self": null,
       "border_bottom": null,
       "border_left": null,
       "border_right": null,
       "border_top": null,
       "bottom": null,
       "display": null,
       "flex": null,
       "flex_flow": null,
       "grid_area": null,
       "grid_auto_columns": null,
       "grid_auto_flow": null,
       "grid_auto_rows": null,
       "grid_column": null,
       "grid_gap": null,
       "grid_row": null,
       "grid_template_areas": null,
       "grid_template_columns": null,
       "grid_template_rows": null,
       "height": null,
       "justify_content": null,
       "justify_items": null,
       "left": null,
       "margin": null,
       "max_height": null,
       "max_width": null,
       "min_height": null,
       "min_width": null,
       "object_fit": null,
       "object_position": null,
       "order": null,
       "overflow": null,
       "padding": null,
       "right": null,
       "top": null,
       "visibility": null,
       "width": null
      }
     },
     "71fd5bb2b3a94655b69bfbe2122bea30": {
      "model_module": "@jupyter-widgets/output",
      "model_module_version": "1.0.0",
      "model_name": "OutputModel",
      "state": {
       "_dom_classes": [],
       "_model_module": "@jupyter-widgets/output",
       "_model_module_version": "1.0.0",
       "_model_name": "OutputModel",
       "_view_count": null,
       "_view_module": "@jupyter-widgets/output",
       "_view_module_version": "1.0.0",
       "_view_name": "OutputView",
       "layout": "IPY_MODEL_4f5a8d31fa9a4c6cb306110572249120",
       "msg_id": "",
       "outputs": [
        {
         "data": {
          "text/html": "<pre style=\"white-space:pre;overflow-x:auto;line-height:normal;font-family:Menlo,'DejaVu Sans Mono',consolas,'Courier New',monospace\">Downloading <span style=\"color: #008000; text-decoration-color: #008000\">⠧</span> <span style=\"color: #808000; text-decoration-color: #808000\">0:00:00</span> <span style=\"color: #800000; text-decoration-color: #800000\">2.1 MB/s</span> <span style=\"color: #008000; text-decoration-color: #008000\">92.2 kB</span>\n</pre>\n",
          "text/plain": "Downloading \u001b[32m⠧\u001b[0m \u001b[33m0:00:00\u001b[0m \u001b[31m2.1 MB/s\u001b[0m \u001b[32m92.2 kB\u001b[0m\n"
         },
         "metadata": {},
         "output_type": "display_data"
        }
       ],
       "tabbable": null,
       "tooltip": null
      }
     },
     "76256db617a84413b20ad97faa9edde4": {
      "model_module": "@jupyter-widgets/base",
      "model_module_version": "2.0.0",
      "model_name": "LayoutModel",
      "state": {
       "_model_module": "@jupyter-widgets/base",
       "_model_module_version": "2.0.0",
       "_model_name": "LayoutModel",
       "_view_count": null,
       "_view_module": "@jupyter-widgets/base",
       "_view_module_version": "2.0.0",
       "_view_name": "LayoutView",
       "align_content": null,
       "align_items": null,
       "align_self": null,
       "border_bottom": null,
       "border_left": null,
       "border_right": null,
       "border_top": null,
       "bottom": null,
       "display": null,
       "flex": null,
       "flex_flow": null,
       "grid_area": null,
       "grid_auto_columns": null,
       "grid_auto_flow": null,
       "grid_auto_rows": null,
       "grid_column": null,
       "grid_gap": null,
       "grid_row": null,
       "grid_template_areas": null,
       "grid_template_columns": null,
       "grid_template_rows": null,
       "height": null,
       "justify_content": null,
       "justify_items": null,
       "left": null,
       "margin": null,
       "max_height": null,
       "max_width": null,
       "min_height": null,
       "min_width": null,
       "object_fit": null,
       "object_position": null,
       "order": null,
       "overflow": null,
       "padding": null,
       "right": null,
       "top": null,
       "visibility": null,
       "width": null
      }
     },
     "910841aa61f542c79e8bebd9bb54f1ac": {
      "model_module": "@jupyter-widgets/base",
      "model_module_version": "2.0.0",
      "model_name": "LayoutModel",
      "state": {
       "_model_module": "@jupyter-widgets/base",
       "_model_module_version": "2.0.0",
       "_model_name": "LayoutModel",
       "_view_count": null,
       "_view_module": "@jupyter-widgets/base",
       "_view_module_version": "2.0.0",
       "_view_name": "LayoutView",
       "align_content": null,
       "align_items": null,
       "align_self": null,
       "border_bottom": null,
       "border_left": null,
       "border_right": null,
       "border_top": null,
       "bottom": null,
       "display": null,
       "flex": null,
       "flex_flow": null,
       "grid_area": null,
       "grid_auto_columns": null,
       "grid_auto_flow": null,
       "grid_auto_rows": null,
       "grid_column": null,
       "grid_gap": null,
       "grid_row": null,
       "grid_template_areas": null,
       "grid_template_columns": null,
       "grid_template_rows": null,
       "height": null,
       "justify_content": null,
       "justify_items": null,
       "left": null,
       "margin": null,
       "max_height": null,
       "max_width": null,
       "min_height": null,
       "min_width": null,
       "object_fit": null,
       "object_position": null,
       "order": null,
       "overflow": null,
       "padding": null,
       "right": null,
       "top": null,
       "visibility": null,
       "width": null
      }
     },
     "9be621140f5e4a60bd15303b5e96ca71": {
      "model_module": "@jupyter-widgets/base",
      "model_module_version": "2.0.0",
      "model_name": "LayoutModel",
      "state": {
       "_model_module": "@jupyter-widgets/base",
       "_model_module_version": "2.0.0",
       "_model_name": "LayoutModel",
       "_view_count": null,
       "_view_module": "@jupyter-widgets/base",
       "_view_module_version": "2.0.0",
       "_view_name": "LayoutView",
       "align_content": null,
       "align_items": null,
       "align_self": null,
       "border_bottom": null,
       "border_left": null,
       "border_right": null,
       "border_top": null,
       "bottom": null,
       "display": null,
       "flex": null,
       "flex_flow": null,
       "grid_area": null,
       "grid_auto_columns": null,
       "grid_auto_flow": null,
       "grid_auto_rows": null,
       "grid_column": null,
       "grid_gap": null,
       "grid_row": null,
       "grid_template_areas": null,
       "grid_template_columns": null,
       "grid_template_rows": null,
       "height": null,
       "justify_content": null,
       "justify_items": null,
       "left": null,
       "margin": null,
       "max_height": null,
       "max_width": null,
       "min_height": null,
       "min_width": null,
       "object_fit": null,
       "object_position": null,
       "order": null,
       "overflow": null,
       "padding": null,
       "right": null,
       "top": null,
       "visibility": null,
       "width": null
      }
     },
     "b3ac557e0c89429396cc6d24179aa988": {
      "model_module": "@jupyter-widgets/output",
      "model_module_version": "1.0.0",
      "model_name": "OutputModel",
      "state": {
       "_dom_classes": [],
       "_model_module": "@jupyter-widgets/output",
       "_model_module_version": "1.0.0",
       "_model_name": "OutputModel",
       "_view_count": null,
       "_view_module": "@jupyter-widgets/output",
       "_view_module_version": "1.0.0",
       "_view_name": "OutputView",
       "layout": "IPY_MODEL_12e434e4515e4906a62a057601e9a9bd",
       "msg_id": "",
       "outputs": [
        {
         "data": {
          "text/html": "<pre style=\"white-space:pre;overflow-x:auto;line-height:normal;font-family:Menlo,'DejaVu Sans Mono',consolas,'Courier New',monospace\">Downloading <span style=\"color: #008000; text-decoration-color: #008000\">⠧</span> <span style=\"color: #808000; text-decoration-color: #808000\">0:00:00</span> <span style=\"color: #800000; text-decoration-color: #800000\">89.0 MB/s</span> <span style=\"color: #008000; text-decoration-color: #008000\">30.7 kB</span>\n</pre>\n",
          "text/plain": "Downloading \u001b[32m⠧\u001b[0m \u001b[33m0:00:00\u001b[0m \u001b[31m89.0 MB/s\u001b[0m \u001b[32m30.7 kB\u001b[0m\n"
         },
         "metadata": {},
         "output_type": "display_data"
        }
       ],
       "tabbable": null,
       "tooltip": null
      }
     },
     "cb1232f7961442929f6c425899abe369": {
      "model_module": "@jupyter-widgets/output",
      "model_module_version": "1.0.0",
      "model_name": "OutputModel",
      "state": {
       "_dom_classes": [],
       "_model_module": "@jupyter-widgets/output",
       "_model_module_version": "1.0.0",
       "_model_name": "OutputModel",
       "_view_count": null,
       "_view_module": "@jupyter-widgets/output",
       "_view_module_version": "1.0.0",
       "_view_name": "OutputView",
       "layout": "IPY_MODEL_cecfc8eebe42478183bd5119c4c6fccf",
       "msg_id": "",
       "outputs": [
        {
         "data": {
          "text/html": "<pre style=\"white-space:pre;overflow-x:auto;line-height:normal;font-family:Menlo,'DejaVu Sans Mono',consolas,'Courier New',monospace\">Downloading <span style=\"color: #008000; text-decoration-color: #008000\">⠧</span> <span style=\"color: #808000; text-decoration-color: #808000\">0:00:00</span> <span style=\"color: #800000; text-decoration-color: #800000\">1.8 MB/s</span> <span style=\"color: #008000; text-decoration-color: #008000\">153.6 kB</span>\n</pre>\n",
          "text/plain": "Downloading \u001b[32m⠧\u001b[0m \u001b[33m0:00:00\u001b[0m \u001b[31m1.8 MB/s\u001b[0m \u001b[32m153.6 kB\u001b[0m\n"
         },
         "metadata": {},
         "output_type": "display_data"
        }
       ],
       "tabbable": null,
       "tooltip": null
      }
     },
     "cbca0880259b4f62a4d61f90336a0648": {
      "model_module": "@jupyter-widgets/base",
      "model_module_version": "2.0.0",
      "model_name": "LayoutModel",
      "state": {
       "_model_module": "@jupyter-widgets/base",
       "_model_module_version": "2.0.0",
       "_model_name": "LayoutModel",
       "_view_count": null,
       "_view_module": "@jupyter-widgets/base",
       "_view_module_version": "2.0.0",
       "_view_name": "LayoutView",
       "align_content": null,
       "align_items": null,
       "align_self": null,
       "border_bottom": null,
       "border_left": null,
       "border_right": null,
       "border_top": null,
       "bottom": null,
       "display": null,
       "flex": null,
       "flex_flow": null,
       "grid_area": null,
       "grid_auto_columns": null,
       "grid_auto_flow": null,
       "grid_auto_rows": null,
       "grid_column": null,
       "grid_gap": null,
       "grid_row": null,
       "grid_template_areas": null,
       "grid_template_columns": null,
       "grid_template_rows": null,
       "height": null,
       "justify_content": null,
       "justify_items": null,
       "left": null,
       "margin": null,
       "max_height": null,
       "max_width": null,
       "min_height": null,
       "min_width": null,
       "object_fit": null,
       "object_position": null,
       "order": null,
       "overflow": null,
       "padding": null,
       "right": null,
       "top": null,
       "visibility": null,
       "width": null
      }
     },
     "cecfc8eebe42478183bd5119c4c6fccf": {
      "model_module": "@jupyter-widgets/base",
      "model_module_version": "2.0.0",
      "model_name": "LayoutModel",
      "state": {
       "_model_module": "@jupyter-widgets/base",
       "_model_module_version": "2.0.0",
       "_model_name": "LayoutModel",
       "_view_count": null,
       "_view_module": "@jupyter-widgets/base",
       "_view_module_version": "2.0.0",
       "_view_name": "LayoutView",
       "align_content": null,
       "align_items": null,
       "align_self": null,
       "border_bottom": null,
       "border_left": null,
       "border_right": null,
       "border_top": null,
       "bottom": null,
       "display": null,
       "flex": null,
       "flex_flow": null,
       "grid_area": null,
       "grid_auto_columns": null,
       "grid_auto_flow": null,
       "grid_auto_rows": null,
       "grid_column": null,
       "grid_gap": null,
       "grid_row": null,
       "grid_template_areas": null,
       "grid_template_columns": null,
       "grid_template_rows": null,
       "height": null,
       "justify_content": null,
       "justify_items": null,
       "left": null,
       "margin": null,
       "max_height": null,
       "max_width": null,
       "min_height": null,
       "min_width": null,
       "object_fit": null,
       "object_position": null,
       "order": null,
       "overflow": null,
       "padding": null,
       "right": null,
       "top": null,
       "visibility": null,
       "width": null
      }
     },
     "d60477ca892d457d9d2df6032df7fbc3": {
      "model_module": "@jupyter-widgets/output",
      "model_module_version": "1.0.0",
      "model_name": "OutputModel",
      "state": {
       "_dom_classes": [],
       "_model_module": "@jupyter-widgets/output",
       "_model_module_version": "1.0.0",
       "_model_name": "OutputModel",
       "_view_count": null,
       "_view_module": "@jupyter-widgets/output",
       "_view_module_version": "1.0.0",
       "_view_name": "OutputView",
       "layout": "IPY_MODEL_9be621140f5e4a60bd15303b5e96ca71",
       "msg_id": "",
       "outputs": [
        {
         "data": {
          "text/html": "<pre style=\"white-space:pre;overflow-x:auto;line-height:normal;font-family:Menlo,'DejaVu Sans Mono',consolas,'Courier New',monospace\">Downloading <span style=\"color: #008000; text-decoration-color: #008000\">⠦</span> <span style=\"color: #808000; text-decoration-color: #808000\">0:00:00</span> <span style=\"color: #800000; text-decoration-color: #800000\">?</span> <span style=\"color: #008000; text-decoration-color: #008000\">0 bytes</span>\n</pre>\n",
          "text/plain": "Downloading \u001b[32m⠦\u001b[0m \u001b[33m0:00:00\u001b[0m \u001b[31m?\u001b[0m \u001b[32m0 bytes\u001b[0m\n"
         },
         "metadata": {},
         "output_type": "display_data"
        }
       ],
       "tabbable": null,
       "tooltip": null
      }
     },
     "e2eeb592eb4c4633a199cb1e54150433": {
      "model_module": "@jupyter-widgets/output",
      "model_module_version": "1.0.0",
      "model_name": "OutputModel",
      "state": {
       "_dom_classes": [],
       "_model_module": "@jupyter-widgets/output",
       "_model_module_version": "1.0.0",
       "_model_name": "OutputModel",
       "_view_count": null,
       "_view_module": "@jupyter-widgets/output",
       "_view_module_version": "1.0.0",
       "_view_name": "OutputView",
       "layout": "IPY_MODEL_cbca0880259b4f62a4d61f90336a0648",
       "msg_id": "",
       "outputs": [
        {
         "data": {
          "text/html": "<pre style=\"white-space:pre;overflow-x:auto;line-height:normal;font-family:Menlo,'DejaVu Sans Mono',consolas,'Courier New',monospace\">Downloading <span style=\"color: #008000; text-decoration-color: #008000\">⠦</span> <span style=\"color: #808000; text-decoration-color: #808000\">0:00:00</span> <span style=\"color: #800000; text-decoration-color: #800000\">?</span> <span style=\"color: #008000; text-decoration-color: #008000\">0 bytes</span>\n</pre>\n",
          "text/plain": "Downloading \u001b[32m⠦\u001b[0m \u001b[33m0:00:00\u001b[0m \u001b[31m?\u001b[0m \u001b[32m0 bytes\u001b[0m\n"
         },
         "metadata": {},
         "output_type": "display_data"
        }
       ],
       "tabbable": null,
       "tooltip": null
      }
     },
     "ec5f8268a4a14ba3809ed46f7eda57f5": {
      "model_module": "@jupyter-widgets/output",
      "model_module_version": "1.0.0",
      "model_name": "OutputModel",
      "state": {
       "_dom_classes": [],
       "_model_module": "@jupyter-widgets/output",
       "_model_module_version": "1.0.0",
       "_model_name": "OutputModel",
       "_view_count": null,
       "_view_module": "@jupyter-widgets/output",
       "_view_module_version": "1.0.0",
       "_view_name": "OutputView",
       "layout": "IPY_MODEL_910841aa61f542c79e8bebd9bb54f1ac",
       "msg_id": "",
       "outputs": [
        {
         "data": {
          "text/html": "<pre style=\"white-space:pre;overflow-x:auto;line-height:normal;font-family:Menlo,'DejaVu Sans Mono',consolas,'Courier New',monospace\">Downloading <span style=\"color: #008000; text-decoration-color: #008000\">⠧</span> <span style=\"color: #808000; text-decoration-color: #808000\">0:00:00</span> <span style=\"color: #800000; text-decoration-color: #800000\">2.1 MB/s</span> <span style=\"color: #008000; text-decoration-color: #008000\">92.2 kB</span>\n</pre>\n",
          "text/plain": "Downloading \u001b[32m⠧\u001b[0m \u001b[33m0:00:00\u001b[0m \u001b[31m2.1 MB/s\u001b[0m \u001b[32m92.2 kB\u001b[0m\n"
         },
         "metadata": {},
         "output_type": "display_data"
        }
       ],
       "tabbable": null,
       "tooltip": null
      }
     },
     "ef54ace14d594e858d1ca42fe8dcf672": {
      "model_module": "@jupyter-widgets/output",
      "model_module_version": "1.0.0",
      "model_name": "OutputModel",
      "state": {
       "_dom_classes": [],
       "_model_module": "@jupyter-widgets/output",
       "_model_module_version": "1.0.0",
       "_model_name": "OutputModel",
       "_view_count": null,
       "_view_module": "@jupyter-widgets/output",
       "_view_module_version": "1.0.0",
       "_view_name": "OutputView",
       "layout": "IPY_MODEL_20f73c8ae4b5471b84b6c286fe86fcf7",
       "msg_id": "",
       "outputs": [
        {
         "data": {
          "text/html": "<pre style=\"white-space:pre;overflow-x:auto;line-height:normal;font-family:Menlo,'DejaVu Sans Mono',consolas,'Courier New',monospace\">Downloading <span style=\"color: #008000; text-decoration-color: #008000\">⠧</span> <span style=\"color: #808000; text-decoration-color: #808000\">0:00:00</span> <span style=\"color: #800000; text-decoration-color: #800000\">99.6 MB/s</span> <span style=\"color: #008000; text-decoration-color: #008000\">30.7 kB</span>\n</pre>\n",
          "text/plain": "Downloading \u001b[32m⠧\u001b[0m \u001b[33m0:00:00\u001b[0m \u001b[31m99.6 MB/s\u001b[0m \u001b[32m30.7 kB\u001b[0m\n"
         },
         "metadata": {},
         "output_type": "display_data"
        }
       ],
       "tabbable": null,
       "tooltip": null
      }
     }
    },
    "version_major": 2,
    "version_minor": 0
   }
  }
 },
 "nbformat": 4,
 "nbformat_minor": 5
}
